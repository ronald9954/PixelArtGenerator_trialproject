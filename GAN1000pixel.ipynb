{
 "cells": [
  {
   "cell_type": "code",
   "execution_count": 4,
   "id": "b4232338",
   "metadata": {},
   "outputs": [
    {
     "data": {
      "text/html": [
       "<style>.container { width:85% !important; }</style>"
      ],
      "text/plain": [
       "<IPython.core.display.HTML object>"
      ]
     },
     "metadata": {},
     "output_type": "display_data"
    }
   ],
   "source": [
    "#For the sake of jupyter notebook\n",
    "from IPython.display import display, HTML\n",
    "display(HTML(\"<style>.container { width:85% !important; }</style>\"))\n"
   ]
  },
  {
   "cell_type": "markdown",
   "id": "ff9c6413",
   "metadata": {},
   "source": [
    "### The project demonstrates how to use Deep Convolutional GAN to create a simple pixel art generator for educational purpose only"
   ]
  },
  {
   "cell_type": "markdown",
   "id": "a7264d79",
   "metadata": {},
   "source": [
    "# Load the png and visualise and check how many color"
   ]
  },
  {
   "cell_type": "code",
   "execution_count": 5,
   "id": "14c071b8",
   "metadata": {},
   "outputs": [
    {
     "name": "stdout",
     "output_type": "stream",
     "text": [
      "Total number of unique colors: 24\n"
     ]
    },
    {
     "data": {
      "image/png": "[encoded data removed]",
      "text/plain": [
       "<Figure size 1500x300 with 5 Axes>"
      ]
     },
     "metadata": {},
     "output_type": "display_data"
    }
   ],
   "source": [
    "import os\n",
    "import random\n",
    "from PIL import Image\n",
    "import numpy as np\n",
    "\n",
    "def load_pixel_art_dataset(dataset_path, num_samples=5000):\n",
    "    # Get all PNG files\n",
    "    all_files = [f for f in os.listdir(dataset_path) if f.endswith('.png')]\n",
    "    \n",
    "    # Randomly sample 100 files\n",
    "    sampled_files = random.sample(all_files, min(num_samples, len(all_files)))\n",
    "    \n",
    "    # Load images\n",
    "    images = []\n",
    "    for file_name in sampled_files:\n",
    "        img_path = os.path.join(dataset_path, file_name)\n",
    "        img = Image.open(img_path)\n",
    "        img_array = np.array(img)\n",
    "        images.append(img_array)\n",
    "    \n",
    "    return np.array(images)\n",
    "\n",
    "def analyze_colors(images):\n",
    "    # Flatten all images and get unique colors\n",
    "    all_pixels = np.vstack([img.reshape(-1, img.shape[-1]) for img in images])\n",
    "    unique_colors = np.unique(all_pixels, axis=0)\n",
    "    return unique_colors\n",
    "\n",
    "# Usage\n",
    "images = load_pixel_art_dataset('./dataset')\n",
    "unique_colors = analyze_colors(images)\n",
    "print(f\"Total number of unique colors: {len(unique_colors)}\")\n",
    "\n",
    "# Visualize first few images\n",
    "import matplotlib.pyplot as plt\n",
    "\n",
    "fig, axes = plt.subplots(1, 5, figsize=(15, 3))\n",
    "for i in range(min(5, len(images))):\n",
    "    axes[i].imshow(images[i])\n",
    "    axes[i].axis('off')\n",
    "plt.show()"
   ]
  },
  {
   "cell_type": "code",
   "execution_count": 6,
   "id": "1a0d8e2c",
   "metadata": {},
   "outputs": [
    {
     "name": "stdout",
     "output_type": "stream",
     "text": [
      "Shape of first image: (16, 16, 4)\n",
      "Data type of image array: uint8\n",
      "\n",
      "First few unique colors:\n",
      "[[  0   0   0   0]\n",
      " [  7  24  33 255]\n",
      " [ 20  12  28 255]\n",
      " [ 48  52 109 255]\n",
      " [ 48 104  80 255]]\n",
      "\n",
      "Value ranges per channel:\n",
      "Channel R: 0 to 241\n",
      "Channel G: 0 to 248\n",
      "Channel B: 0 to 238\n",
      "Channel A: 0 to 255\n"
     ]
    }
   ],
   "source": [
    "# Analyze color format\n",
    "print(f\"Shape of first image: {images[0].shape}\")\n",
    "print(f\"Data type of image array: {images[0].dtype}\")\n",
    "print(\"\\nFirst few unique colors:\")\n",
    "print(unique_colors[:5])  # Show first 5 unique colors\n",
    "\n",
    "# Check if any color has alpha channel\n",
    "has_alpha = images[0].shape[-1] == 4\n",
    "\n",
    "# Check value ranges\n",
    "min_values = unique_colors.min(axis=0)\n",
    "max_values = unique_colors.max(axis=0)\n",
    "print(f\"\\nValue ranges per channel:\")\n",
    "for i, (min_val, max_val) in enumerate(zip(min_values, max_values)):\n",
    "    channel_name = 'RGBA'[i] if has_alpha else 'RGB'[i]\n",
    "    print(f\"Channel {channel_name}: {min_val} to {max_val}\")"
   ]
  },
  {
   "cell_type": "markdown",
   "id": "e48c3f74",
   "metadata": {},
   "source": [
    "# Create indexed version of the pixel art and visualse with original color"
   ]
  },
  {
   "cell_type": "code",
   "execution_count": 7,
   "id": "2094f60f",
   "metadata": {},
   "outputs": [
    {
     "name": "stdout",
     "output_type": "stream",
     "text": [
      "Shape of indexed images: (2005, 16, 16)\n",
      "Number of unique indices: 24\n",
      "\n",
      "Color mapping:\n",
      "Index 0: RGBA(0, 0, 0, 0)\n",
      "Index 1: RGBA(7, 24, 33, 255)\n",
      "Index 2: RGBA(20, 12, 28, 255)\n",
      "Index 3: RGBA(48, 52, 109, 255)\n",
      "Index 4: RGBA(48, 104, 80, 255)\n",
      "Index 5: RGBA(62, 39, 49, 255)\n",
      "Index 6: RGBA(64, 100, 182, 255)\n",
      "Index 7: RGBA(68, 36, 52, 255)\n",
      "Index 8: RGBA(78, 74, 78, 255)\n",
      "Index 9: RGBA(89, 125, 206, 255)\n",
      "Index 10: RGBA(97, 112, 117, 255)\n",
      "Index 11: RGBA(123, 221, 230, 255)\n",
      "Index 12: RGBA(127, 54, 62, 255)\n",
      "Index 13: RGBA(131, 162, 186, 255)\n",
      "Index 14: RGBA(134, 192, 108, 255)\n",
      "Index 15: RGBA(141, 120, 120, 255)\n",
      "Index 16: RGBA(142, 61, 58, 255)\n",
      "Index 17: RGBA(168, 158, 154, 255)\n",
      "Index 18: RGBA(222, 238, 214, 255)\n",
      "Index 19: RGBA(224, 248, 207, 255)\n",
      "Index 20: RGBA(231, 106, 58, 255)\n",
      "Index 21: RGBA(238, 238, 238, 255)\n",
      "Index 22: RGBA(240, 197, 65, 255)\n",
      "Index 23: RGBA(241, 168, 162, 255)\n"
     ]
    },
    {
     "data": {
      "image/png": "[encoded data removed]",
      "text/plain": [
       "<Figure size 1000x500 with 3 Axes>"
      ]
     },
     "metadata": {},
     "output_type": "display_data"
    }
   ],
   "source": [
    "def convert_to_indexed(images, unique_colors):\n",
    "    # Create a color palette lookup dictionary\n",
    "    color_to_index = {tuple(color): idx for idx, color in enumerate(unique_colors)}\n",
    "    \n",
    "    # Initialize indexed images array\n",
    "    indexed_images = np.zeros((len(images), 16, 16), dtype=np.uint8)\n",
    "    \n",
    "    # Convert each image to indexed format\n",
    "    for img_idx, img in enumerate(images):\n",
    "        for i in range(img.shape[0]):\n",
    "            for j in range(img.shape[1]):\n",
    "                color = tuple(img[i, j])\n",
    "                indexed_images[img_idx, i, j] = color_to_index[color]\n",
    "    \n",
    "    return indexed_images, color_to_index\n",
    "\n",
    "# Convert images to indexed format\n",
    "indexed_images, color_mapping = convert_to_indexed(images, unique_colors)\n",
    "\n",
    "# Print some information\n",
    "print(f\"Shape of indexed images: {indexed_images.shape}\")\n",
    "print(f\"Number of unique indices: {len(np.unique(indexed_images))}\")\n",
    "print(\"\\nColor mapping:\")\n",
    "for idx, color in enumerate(unique_colors):\n",
    "    print(f\"Index {idx}: RGBA{tuple(color)}\")\n",
    "\n",
    "def visualize_with_original_colors(indexed_image, unique_colors):\n",
    "    # Create the RGBA image with original colors\n",
    "    rgba_image = np.zeros((*indexed_image.shape, 4), dtype=np.uint8)\n",
    "    \n",
    "    # Map each index back to its original RGBA color\n",
    "    for idx, color in enumerate(unique_colors):\n",
    "        rgba_image[indexed_image == idx] = color\n",
    "        \n",
    "    return rgba_image\n",
    "\n",
    "# Visualize comparison\n",
    "plt.figure(figsize=(10, 5))\n",
    "\n",
    "# Original RGBA image\n",
    "plt.subplot(1, 3, 1)\n",
    "plt.imshow(images[0])\n",
    "plt.title('Original RGBA')\n",
    "plt.axis('off')\n",
    "\n",
    "# Indexed version with categorical colormap\n",
    "plt.subplot(1, 3, 2)\n",
    "plt.imshow(indexed_images[0], cmap='tab20')\n",
    "plt.title('Indexed Version')\n",
    "plt.axis('off')\n",
    "\n",
    "# Indexed version with original colors\n",
    "plt.subplot(1, 3, 3)\n",
    "reconstructed_image = visualize_with_original_colors(indexed_images[0], unique_colors)\n",
    "plt.imshow(reconstructed_image)\n",
    "plt.title('Reconstructed with\\nOriginal Colors')\n",
    "plt.axis('off')\n",
    "\n",
    "plt.tight_layout()\n",
    "plt.show()\n"
   ]
  },
  {
   "cell_type": "markdown",
   "id": "565eed3c",
   "metadata": {},
   "source": [
    "# how it looks now in the list~~"
   ]
  },
  {
   "cell_type": "code",
   "execution_count": 8,
   "id": "91dab78b",
   "metadata": {},
   "outputs": [
    {
     "name": "stdout",
     "output_type": "stream",
     "text": [
      "[[ 0  0  0  0  0  0  0  0  0  0  0  0  0  0  0  0]\n",
      " [ 0  0  0  0  0  0  0  0  0  0  0  0  0  0  0  0]\n",
      " [ 0  0  0  0  1  1  0  0  0  0  0  0  0  0  0  0]\n",
      " [ 0  0  0  1 10 10  1  0  0  0  0  0  0  0  0  0]\n",
      " [ 0  0  1 10 17 10 10  1  0  0  0  0  0  0  0  0]\n",
      " [ 0  0  1 10 17 10 10 10  1  0  0  1  1  0  0  0]\n",
      " [ 0  1 10 17 10 10  8 10 10  1  1 10 10  1  0  0]\n",
      " [ 0  1 10 17 10 10 10  8 10  1 10 17 10 10  1  0]\n",
      " [ 1 10 17 10  8 10 10  8  1 10 17 10  8 10 10  1]\n",
      " [ 1 10 10 10 10  8 10  1 10 10 17 10 10  8 10  1]\n",
      " [ 1  8 10 10 10  8 10  1 10 17 10 10 10  8 10  1]\n",
      " [ 0  1  8  8  8  8  8  1 10 17 10 10 10  8 10  1]\n",
      " [ 0  0  1  1  1  1  1  1  8 10 10 10  8  8  8  1]\n",
      " [ 0  0  0  0  0  0  0  0  1  8  8  8  8  8  1  0]\n",
      " [ 0  0  0  0  0  0  0  0  0  1  1  1  1  1  0  0]\n",
      " [ 0  0  0  0  0  0  0  0  0  0  0  0  0  0  0  0]]\n"
     ]
    }
   ],
   "source": [
    "print(indexed_images[0])"
   ]
  },
  {
   "cell_type": "code",
   "execution_count": 9,
   "id": "11f774e1",
   "metadata": {},
   "outputs": [
    {
     "name": "stderr",
     "output_type": "stream",
     "text": [
      "C:\\Users\\ronal\\anaconda3\\envs\\PythonMLprojects38\\lib\\site-packages\\tqdm\\auto.py:21: TqdmWarning: IProgress not found. Please update jupyter and ipywidgets. See https://ipywidgets.readthedocs.io/en/stable/user_install.html\n",
      "  from .autonotebook import tqdm as notebook_tqdm\n"
     ]
    },
    {
     "name": "stdout",
     "output_type": "stream",
     "text": [
      "CUDA is available: True\n",
      "Current CUDA device: 0\n",
      "CUDA device name: NVIDIA GeForce RTX 3060 Laptop GPU\n",
      "CUDA device count: 1\n",
      "\n",
      "Device properties:\n",
      "  Total memory: 6.00 GB\n",
      "  Multi processors: 30\n",
      "\n",
      "Test tensor on GPU: cuda:0\n"
     ]
    }
   ],
   "source": [
    "import torch\n",
    "\n",
    "# Check CUDA availability\n",
    "print(f\"CUDA is available: {torch.cuda.is_available()}\")\n",
    "\n",
    "if torch.cuda.is_available():\n",
    "    # Get current device\n",
    "    print(f\"Current CUDA device: {torch.cuda.current_device()}\")\n",
    "    \n",
    "    # Get device name\n",
    "    print(f\"CUDA device name: {torch.cuda.get_device_name(0)}\")\n",
    "    \n",
    "    # Get device count\n",
    "    print(f\"CUDA device count: {torch.cuda.device_count()}\")\n",
    "    \n",
    "    # Get device properties\n",
    "    device_properties = torch.cuda.get_device_properties(0)\n",
    "    print(\"\\nDevice properties:\")\n",
    "    print(f\"  Total memory: {device_properties.total_memory / 1024**3:.2f} GB\")\n",
    "    print(f\"  Multi processors: {device_properties.multi_processor_count}\")\n",
    "    \n",
    "    # Test a small tensor operation on GPU\n",
    "    test_tensor = torch.tensor([1.0, 2.0, 3.0]).cuda()\n",
    "    print(f\"\\nTest tensor on GPU: {test_tensor.device}\")\n",
    "else:\n",
    "    print(\"CUDA is not available. Running on CPU only.\")"
   ]
  },
  {
   "cell_type": "code",
   "execution_count": 10,
   "id": "82b434fd",
   "metadata": {},
   "outputs": [
    {
     "name": "stdout",
     "output_type": "stream",
     "text": [
      "Using device: cuda:0\n",
      "Matrix multiplication took: 4464.00 ms\n",
      "\n",
      "Tensor locations:\n",
      "x is on GPU: True\n",
      "y is on GPU: True\n",
      "z is on GPU: True\n",
      "\n",
      "GPU memory:\n",
      "Allocated: 11.45 MB\n",
      "Cached: 22.00 MB\n"
     ]
    }
   ],
   "source": [
    "import torch\n",
    "\n",
    "# Set device\n",
    "device = torch.device('cuda:0' if torch.cuda.is_available() else 'cpu')\n",
    "print(f\"Using device: {device}\")\n",
    "\n",
    "# Create test tensors and move to GPU\n",
    "x = torch.randn(1000, 1000).to(device)\n",
    "y = torch.randn(1000, 1000).to(device)\n",
    "\n",
    "# Perform a computation and time it\n",
    "start = torch.cuda.Event(enable_timing=True)\n",
    "end = torch.cuda.Event(enable_timing=True)\n",
    "\n",
    "start.record()\n",
    "z = x @ y  # Matrix multiplication\n",
    "end.record()\n",
    "\n",
    "# Synchronize CUDA kernels\n",
    "torch.cuda.synchronize()\n",
    "\n",
    "# Get elapsed time (in milliseconds)\n",
    "elapsed_time = start.elapsed_time(end)  # Added the end event parameter\n",
    "print(f\"Matrix multiplication took: {elapsed_time:.2f} ms\")\n",
    "\n",
    "# Verify tensors are on GPU\n",
    "print(f\"\\nTensor locations:\")\n",
    "print(f\"x is on GPU: {x.is_cuda}\")\n",
    "print(f\"y is on GPU: {y.is_cuda}\")\n",
    "print(f\"z is on GPU: {z.is_cuda}\")\n",
    "\n",
    "# Check GPU memory usage\n",
    "print(f\"\\nGPU memory:\")\n",
    "print(f\"Allocated: {torch.cuda.memory_allocated(0)/1024**2:.2f} MB\")\n",
    "print(f\"Cached: {torch.cuda.memory_reserved(0)/1024**2:.2f} MB\")"
   ]
  },
  {
   "cell_type": "markdown",
   "id": "e7385211",
   "metadata": {},
   "source": [
    "# Tuning the pixel art generator and discriminator. In hindsight it can be tuned to be simpler but it needs some exploration time on the best setup"
   ]
  },
  {
   "cell_type": "code",
   "execution_count": 47,
   "id": "9aeeb90a",
   "metadata": {},
   "outputs": [],
   "source": [
    "import torch\n",
    "import torch.nn as nn\n",
    "import numpy as np\n",
    "\n",
    "class PixelArtGenerator(nn.Module):\n",
    "    def __init__(self, latent_dim=100, num_channels=4):\n",
    "        super(PixelArtGenerator, self).__init__()\n",
    "        \n",
    "        self.main = nn.Sequential(\n",
    "            # Input is latent_dim x 1 x 1\n",
    "            # Initial projection and reshape\n",
    "            nn.ConvTranspose2d(latent_dim, 2048, 4, 1, 0, bias=False),\n",
    "            nn.BatchNorm2d(2048),\n",
    "            nn.LeakyReLU(0.2, True),\n",
    "            \n",
    "            # 4x4\n",
    "            nn.ConvTranspose2d(2048, 1024, 4, 2, 1, bias=False),\n",
    "            nn.BatchNorm2d(1024),\n",
    "            nn.LeakyReLU(0.2, True),\n",
    "            \n",
    "            # 8x8\n",
    "            nn.ConvTranspose2d(1024, 512, 4, 2, 1, bias=False),\n",
    "            nn.BatchNorm2d(512),\n",
    "            nn.LeakyReLU(0.2, True),\n",
    "            \n",
    "            # 16x16 - Feature refinement\n",
    "            nn.Conv2d(512, 256, 3, 1, 1, bias=False),\n",
    "            nn.BatchNorm2d(256),\n",
    "            nn.LeakyReLU(0.2, True),\n",
    "            \n",
    "            # Additional refinement layer\n",
    "            nn.Conv2d(256, 128, 3, 1, 1, bias=False),\n",
    "            nn.BatchNorm2d(128),\n",
    "            nn.LeakyReLU(0.2, True),\n",
    "            \n",
    "            # Final layer for sharp details\n",
    "            nn.Conv2d(128, num_channels, 3, 1, 1, bias=False),\n",
    "            nn.Sigmoid()\n",
    "        )\n",
    "        \n",
    "    def forward(self, x):\n",
    "        return self.main(x.view(-1, x.size(1), 1, 1))\n",
    "\n",
    "class PixelArtDiscriminator(nn.Module):\n",
    "    def __init__(self, num_channels=4):\n",
    "        super(PixelArtDiscriminator, self).__init__()\n",
    "        \n",
    "        self.main = nn.Sequential(\n",
    "            # 16x16 -> 8x8\n",
    "            nn.Conv2d(num_channels, 128, 4, 2, 1, bias=False),\n",
    "            nn.LeakyReLU(0.2, inplace=True),\n",
    "            \n",
    "            # 8x8 -> 4x4\n",
    "            nn.Conv2d(128, 256, 4, 2, 1, bias=False),\n",
    "            nn.BatchNorm2d(256),\n",
    "            nn.LeakyReLU(0.2, inplace=True),\n",
    "            \n",
    "            # Extra feature extraction\n",
    "            nn.Conv2d(256, 512, 3, 1, 1, bias=False),\n",
    "            nn.BatchNorm2d(512),\n",
    "            nn.LeakyReLU(0.2, inplace=True),\n",
    "            \n",
    "            # 4x4 -> 2x2\n",
    "            nn.Conv2d(512, 1024, 4, 2, 1, bias=False),\n",
    "            nn.BatchNorm2d(1024),\n",
    "            nn.LeakyReLU(0.2, inplace=True),\n",
    "            \n",
    "            # Extra feature refinement\n",
    "            nn.Conv2d(1024, 2048, 3, 1, 1, bias=False),\n",
    "            nn.BatchNorm2d(2048),\n",
    "            nn.LeakyReLU(0.2, inplace=True),\n",
    "            \n",
    "            # Final classification\n",
    "            nn.Conv2d(2048, 1, 2, 1, 0, bias=False),\n",
    "            nn.Sigmoid()\n",
    "        )\n",
    "        \n",
    "    def forward(self, x):\n",
    "        return self.main(x).view(-1, 1).squeeze(1)\n",
    "\n",
    "class PixelArtDataset(torch.utils.data.Dataset):\n",
    "    def __init__(self, images, color_palette, transform=None):\n",
    "        \"\"\"\n",
    "        Args:\n",
    "            images: numpy array of shape (N, 16, 16, 4) containing RGBA images\n",
    "            color_palette: numpy array of shape (num_colors, 4) containing the color palette\n",
    "            transform: optional transform to be applied on a sample\n",
    "        \"\"\"\n",
    "        try:\n",
    "            # Input validation with detailed error messages\n",
    "            if not isinstance(images, np.ndarray):\n",
    "                raise TypeError(f\"Images must be a numpy array, got {type(images)}\")\n",
    "            \n",
    "            if len(images.shape) != 4:\n",
    "                raise ValueError(f\"Images must be 4-dimensional (N, H, W, C), got shape {images.shape}\")\n",
    "                \n",
    "            if images.shape[1:] != (16, 16, 4):\n",
    "                raise ValueError(f\"Expected images of shape (N, 16, 16, 4), got {images.shape}\")\n",
    "            \n",
    "            if not isinstance(color_palette, np.ndarray):\n",
    "                raise TypeError(f\"Color palette must be a numpy array, got {type(color_palette)}\")\n",
    "                \n",
    "            if len(color_palette.shape) != 2 or color_palette.shape[1] != 4:\n",
    "                raise ValueError(f\"Color palette must have shape (N, 4), got {color_palette.shape}\")\n",
    "            \n",
    "            # Check for NaN or infinity values\n",
    "            if np.any(np.isnan(images)) or np.any(np.isinf(images)):\n",
    "                raise ValueError(\"Images contain NaN or infinity values\")\n",
    "                \n",
    "            if np.any(np.isnan(color_palette)) or np.any(np.isinf(color_palette)):\n",
    "                raise ValueError(\"Color palette contains NaN or infinity values\")\n",
    "            \n",
    "            # Value range check\n",
    "            if images.dtype == np.uint8:\n",
    "                if np.any(images < 0) or np.any(images > 255):\n",
    "                    raise ValueError(\"uint8 images contain values outside [0, 255]\")\n",
    "            \n",
    "            # Convert to PyTorch tensors and normalize\n",
    "            self.images = torch.from_numpy(images.copy()).float() / 255.0  # Added .copy() to ensure memory contiguity\n",
    "            self.color_palette = torch.from_numpy(color_palette.copy()).float() / 255.0\n",
    "            self.transform = transform\n",
    "            \n",
    "            # Print dataset info\n",
    "            print(f\"Dataset initialized successfully:\")\n",
    "            print(f\"Number of images: {len(images)}\")\n",
    "            print(f\"Image shape: {images.shape}\")\n",
    "            print(f\"Number of colors in palette: {len(color_palette)}\")\n",
    "            print(f\"Data type of images: {images.dtype}\")\n",
    "            print(f\"Value range: [{images.min()}, {images.max()}]\")\n",
    "            \n",
    "        except Exception as e:\n",
    "            print(f\"Error initializing dataset: {str(e)}\")\n",
    "            raise\n",
    "        \n",
    "        # Validate that all colors are in the palette\n",
    "        self._validate_colors()\n",
    "\n",
    "    def _validate_colors(self):\n",
    "        \"\"\"Validates that all image colors are present in the palette\"\"\"\n",
    "        unique_colors = torch.unique(self.images.reshape(-1, 4), dim=0)\n",
    "        for color in unique_colors:\n",
    "            if not torch.any(torch.all(torch.abs(self.color_palette - color) < 1e-6, dim=1)):\n",
    "                raise ValueError(f\"Found color {color} not present in palette\")\n",
    "\n",
    "    def __len__(self):\n",
    "        return len(self.images)\n",
    "\n",
    "    def __getitem__(self, idx):\n",
    "        if torch.is_tensor(idx):\n",
    "            idx = idx.tolist()\n",
    "            \n",
    "        image = self.images[idx]\n",
    "        image = image.permute(2, 0, 1)  # NHWC to NCHW format\n",
    "        \n",
    "        if self.transform:\n",
    "            image = self.transform(image)\n",
    "            \n",
    "        return image\n",
    "\n",
    "    def get_color_palette(self):\n",
    "        \"\"\"Returns the color palette used in the dataset\"\"\"\n",
    "        return self.color_palette\n",
    "\n",
    "class PaletteAdherenceLoss(nn.Module):\n",
    "    def __init__(self, color_palette):\n",
    "        super(PaletteAdherenceLoss, self).__init__()\n",
    "        self.register_buffer('palette', torch.tensor(color_palette, dtype=torch.float32) / 255.0)\n",
    "        \n",
    "    def forward(self, generated_images):\n",
    "        batch_size = generated_images.size(0)\n",
    "        pixels = generated_images.view(batch_size, 4, -1).permute(0, 2, 1)\n",
    "        distances = torch.cdist(pixels.view(-1, 4), self.palette)\n",
    "        min_distances = distances.min(dim=1)[0]\n",
    "        return min_distances.mean()\n",
    "\n",
    "def create_dataloader(images, color_palette, batch_size=64, num_workers=2):\n",
    "    \"\"\"Creates a DataLoader for the pixel art dataset\"\"\"\n",
    "    try:\n",
    "        # Print input info\n",
    "        print(\"\\nCreating dataloader:\")\n",
    "        print(f\"Input images shape: {images.shape}\")\n",
    "        print(f\"Color palette shape: {color_palette.shape}\")\n",
    "        \n",
    "        # Create dataset\n",
    "        dataset = PixelArtDataset(images, color_palette)\n",
    "        \n",
    "        # Start with simpler configuration for debugging\n",
    "        dataloader = torch.utils.data.DataLoader(\n",
    "            dataset,\n",
    "            batch_size=batch_size,\n",
    "            shuffle=True,\n",
    "            num_workers=0,  # Set to 0 for debugging\n",
    "            pin_memory=False  # Disable pin_memory for debugging\n",
    "        )\n",
    "        \n",
    "        # Test the dataloader with one batch\n",
    "        print(\"\\nTesting dataloader...\")\n",
    "        test_batch = next(iter(dataloader))\n",
    "        print(f\"Test batch shape: {test_batch.shape}\")\n",
    "        print(f\"Test batch value range: [{test_batch.min().item()}, {test_batch.max().item()}]\")\n",
    "        \n",
    "        return dataloader, dataset\n",
    "        \n",
    "    except Exception as e:\n",
    "        print(f\"\\nError creating dataloader: {str(e)}\")\n",
    "        import traceback\n",
    "        print(traceback.format_exc())\n",
    "        return None, None\n",
    "\n",
    "def initialize_gan(latent_dim=100, num_channels=4):\n",
    "    \"\"\"Initializes the GAN models\"\"\"\n",
    "    generator = PixelArtGenerator(latent_dim, num_channels)\n",
    "    discriminator = PixelArtDiscriminator(num_channels)\n",
    "    \n",
    "    # Initialize weights\n",
    "    def weights_init(m):\n",
    "        classname = m.__class__.__name__\n",
    "        if classname.find('Conv') != -1:\n",
    "            nn.init.normal_(m.weight.data, 0.0, 0.02)\n",
    "        elif classname.find('BatchNorm') != -1:\n",
    "            nn.init.normal_(m.weight.data, 1.0, 0.02)\n",
    "            nn.init.constant_(m.bias.data, 0)\n",
    "    \n",
    "    generator.apply(weights_init)\n",
    "    discriminator.apply(weights_init)\n",
    "    \n",
    "    return generator, discriminator"
   ]
  },
  {
   "cell_type": "markdown",
   "id": "62f18141",
   "metadata": {},
   "source": [
    "## A note is to prevent the discriminator from overfitting, which will cause the model collapse. Early stopping or tuning the scheduler might improve the performance."
   ]
  },
  {
   "cell_type": "code",
   "execution_count": 48,
   "id": "d0fc69c6",
   "metadata": {},
   "outputs": [],
   "source": [
    "import torch\n",
    "import torch.nn as nn\n",
    "import torch.optim as optim\n",
    "import torchvision.utils as vutils\n",
    "import matplotlib.pyplot as plt\n",
    "from tqdm import tqdm\n",
    "import numpy as np\n",
    "\n",
    "def train_gan(generator, discriminator, dataloader, num_epochs=200, latent_dim=100,\n",
    "              lr_g=0.0004, lr_d=0.0004, beta1=0.8, beta2=0.999, device='cuda',\n",
    "              save_interval=10, debug_interval=100):\n",
    "    \"\"\"\n",
    "    Train the GAN with debugging features\n",
    "    \"\"\"\n",
    "    # Move models to device\n",
    "    generator = generator.to(device)\n",
    "    discriminator = discriminator.to(device)\n",
    "    \n",
    "    # Initialize optimizers\n",
    "    optim_g = optim.Adam(generator.parameters(), lr=lr_g, betas=(0.5, beta2))\n",
    "    optim_d = optim.Adam(discriminator.parameters(), lr=lr_d, betas=(0.5, beta2))\n",
    "    \n",
    "    # Loss function\n",
    "    criterion = nn.BCELoss()\n",
    "    \n",
    "    # Create fixed noise for debugging\n",
    "    fixed_noise = torch.randn(64, latent_dim, device=device)\n",
    "    \n",
    "    # Initialize lists to store losses for plotting\n",
    "    g_losses = []\n",
    "    d_losses = []\n",
    "    \n",
    "    # Training metrics\n",
    "    real_label = 1\n",
    "    fake_label = 0\n",
    "    \n",
    "    print(\"Starting training...\")\n",
    "    \n",
    "    # For each epoch\n",
    "    for epoch in range(num_epochs):\n",
    "        progress_bar = tqdm(dataloader, desc=f'Epoch {epoch+1}/{num_epochs}')\n",
    "        \n",
    "        for batch_idx, real_images in enumerate(progress_bar):\n",
    "            batch_size = real_images.size(0)\n",
    "            \n",
    "            # Move data to device\n",
    "            real_images = real_images.to(device)\n",
    "            \n",
    "            ############################\n",
    "            # (1) Update Discriminator\n",
    "            ############################\n",
    "            \n",
    "            # Train with real images\n",
    "            optim_d.zero_grad()\n",
    "            label_real = torch.full((batch_size,), real_label, dtype=torch.float, device=device)\n",
    "            output_real = discriminator(real_images)\n",
    "            d_loss_real = criterion(output_real, label_real)\n",
    "            d_loss_real.backward()\n",
    "            D_x = output_real.mean().item()\n",
    "            \n",
    "            # Train with fake images\n",
    "            noise = torch.randn(batch_size, latent_dim, device=device)\n",
    "            fake_images = generator(noise)\n",
    "            label_fake = torch.full((batch_size,), fake_label, dtype=torch.float, device=device)\n",
    "            output_fake = discriminator(fake_images.detach())\n",
    "            d_loss_fake = criterion(output_fake, label_fake)\n",
    "            d_loss_fake.backward()\n",
    "            D_G_z1 = output_fake.mean().item()\n",
    "            \n",
    "            d_loss = d_loss_real + d_loss_fake\n",
    "            optim_d.step()\n",
    "            \n",
    "            ############################\n",
    "            # (2) Update Generator\n",
    "            ############################\n",
    "            \n",
    "            optim_g.zero_grad()\n",
    "            label_real = torch.full((batch_size,), real_label, dtype=torch.float, device=device)  # fake labels are real for generator cost\n",
    "            output_fake = discriminator(fake_images)\n",
    "            g_loss = criterion(output_fake, label_real)\n",
    "            g_loss.backward()\n",
    "            D_G_z2 = output_fake.mean().item()\n",
    "            optim_g.step()\n",
    "            \n",
    "            # Store losses for plotting\n",
    "            g_losses.append(g_loss.item())\n",
    "            d_losses.append(d_loss.item())\n",
    "            \n",
    "            # Update progress bar\n",
    "            progress_bar.set_postfix({\n",
    "                'D_loss': f'{d_loss.item():.4f}',\n",
    "                'G_loss': f'{g_loss.item():.4f}',\n",
    "                'D(x)': f'{D_x:.4f}',\n",
    "                'D(G(z))': f'{D_G_z2:.4f}'\n",
    "            })\n",
    "            \n",
    "            # Debug outputs\n",
    "            if batch_idx % debug_interval == 0:\n",
    "                debug_output(generator, discriminator, fixed_noise, real_images, \n",
    "                           fake_images, epoch, batch_idx, g_losses, d_losses, device)\n",
    "        \n",
    "        # Save models periodically\n",
    "        if (epoch + 1) % save_interval == 0:\n",
    "            save_checkpoint(generator, discriminator, optim_g, optim_d, \n",
    "                          epoch, g_losses, d_losses)\n",
    "    \n",
    "    return generator, discriminator, g_losses, d_losses\n",
    "\n",
    "def debug_output(generator, discriminator, fixed_noise, real_images, fake_images, \n",
    "                epoch, batch_idx, g_losses, d_losses, device):\n",
    "    \"\"\"\n",
    "    Generate debug information and visualizations\n",
    "    \"\"\"\n",
    "    generator.eval()\n",
    "    with torch.no_grad():\n",
    "        debug_fakes = generator(fixed_noise).cpu()\n",
    "    generator.train()\n",
    "    \n",
    "    # Create visualization grid\n",
    "    plt.figure(figsize=(15, 5))\n",
    "    \n",
    "    # Plot losses\n",
    "    plt.subplot(1, 3, 1)\n",
    "    plt.plot(g_losses[-100:], label='G_Loss')\n",
    "    plt.plot(d_losses[-100:], label='D_Loss')\n",
    "    plt.legend()\n",
    "    plt.title('Recent Losses')\n",
    "    \n",
    "    # Display real images\n",
    "    plt.subplot(1, 3, 2)\n",
    "    plt.imshow(np.transpose(vutils.make_grid(real_images[:16].detach().cpu(), \n",
    "               padding=2, normalize=True), (1,2,0)))\n",
    "    plt.title('Real Images')\n",
    "    \n",
    "    # Display fake images\n",
    "    plt.subplot(1, 3, 3)\n",
    "    plt.imshow(np.transpose(vutils.make_grid(debug_fakes[:16], \n",
    "               padding=2, normalize=True), (1,2,0)))\n",
    "    plt.title('Fake Images')\n",
    "    \n",
    "    plt.savefig(f'debug_output_epoch{epoch}_batch{batch_idx}.png')\n",
    "    plt.close()\n",
    "    \n",
    "    # Print statistics\n",
    "    print(f\"\\nDebug Statistics - Epoch {epoch}, Batch {batch_idx}\")\n",
    "    print(f\"Generator Loss: {g_losses[-1]:.4f}\")\n",
    "    print(f\"Discriminator Loss: {d_losses[-1]:.4f}\")\n",
    "    \n",
    "    # Analyze color distribution\n",
    "    analyze_color_distribution(real_images, fake_images.detach())\n",
    "\n",
    "def analyze_color_distribution(real_images, fake_images):\n",
    "    \"\"\"\n",
    "    Analyze and compare color distributions of real and fake images\n",
    "    \"\"\"\n",
    "    # Detach tensors and move to CPU before converting to numpy\n",
    "    real_colors = real_images.detach().cpu().numpy().reshape(-1, 4)\n",
    "    fake_colors = fake_images.detach().cpu().numpy().reshape(-1, 4)\n",
    "    \n",
    "    print(\"\\nColor Distribution Analysis:\")\n",
    "    print(\"Real Images - RGB Mean:\", real_colors[:, :3].mean(axis=0))\n",
    "    print(\"Fake Images - RGB Mean:\", fake_colors[:, :3].mean(axis=0))\n",
    "    print(\"Real Images - Alpha Mean:\", real_colors[:, 3].mean())\n",
    "    print(\"Fake Images - Alpha Mean:\", fake_colors[:, 3].mean())\n",
    "\n",
    "def save_checkpoint(generator, discriminator, optim_g, optim_d, epoch, g_losses, d_losses):\n",
    "    \"\"\"\n",
    "    Save model checkpoint\n",
    "    \"\"\"\n",
    "    checkpoint = {\n",
    "        'epoch': epoch,\n",
    "        'generator_state_dict': generator.state_dict(),\n",
    "        'discriminator_state_dict': discriminator.state_dict(),\n",
    "        'optimizer_g_state_dict': optim_g.state_dict(),\n",
    "        'optimizer_d_state_dict': optim_d.state_dict(),\n",
    "        'g_losses': g_losses,\n",
    "        'd_losses': d_losses\n",
    "    }\n",
    "    torch.save(checkpoint, f'pixel_art_gan_checkpoint_epoch_{epoch}.pth')\n",
    "\n",
    "# Usage example\n",
    "def train_pixel_art_gan(dataloader, device='cuda'):\n",
    "    \"\"\"\n",
    "    Main training function that handles initialization and training of the GAN\n",
    "    \n",
    "    Args:\n",
    "        dataloader: PyTorch DataLoader containing the pixel art images\n",
    "        device: Device to train on ('cuda' or 'cpu')\n",
    "    \"\"\"\n",
    "    if dataloader is None:\n",
    "        raise ValueError(\"Dataloader cannot be None. Please check your dataset creation.\")\n",
    "    \n",
    "    if len(dataloader.dataset) == 0:\n",
    "        raise ValueError(\"Dataloader is empty. Please check your dataset.\")\n",
    "        \n",
    "    try:\n",
    "        # Initialize models\n",
    "        generator, discriminator = initialize_gan()\n",
    "        \n",
    "        print(f\"Starting training on device: {device}\")\n",
    "        print(f\"Dataset size: {len(dataloader.dataset)} images\")\n",
    "        print(f\"Batch size: {dataloader.batch_size}\")\n",
    "        print(f\"Number of batches: {len(dataloader)}\")\n",
    "        \n",
    "        # Train\n",
    "        trained_generator, trained_discriminator, g_losses, d_losses = train_gan(\n",
    "            generator=generator,\n",
    "            discriminator=discriminator,\n",
    "            dataloader=dataloader,\n",
    "            num_epochs=300,\n",
    "            debug_interval=100,\n",
    "            device=device\n",
    "        )\n",
    "        \n",
    "        return trained_generator, trained_discriminator, g_losses, d_losses\n",
    "        \n",
    "    except Exception as e:\n",
    "        print(f\"Error during training: {str(e)}\")\n",
    "        raise"
   ]
  },
  {
   "cell_type": "code",
   "execution_count": 49,
   "id": "a94fb106",
   "metadata": {},
   "outputs": [
    {
     "name": "stdout",
     "output_type": "stream",
     "text": [
      "\n",
      "Creating dataloader:\n",
      "Input images shape: (2005, 16, 16, 4)\n",
      "Color palette shape: (24, 4)\n",
      "Dataset initialized successfully:\n",
      "Number of images: 2005\n",
      "Image shape: (2005, 16, 16, 4)\n",
      "Number of colors in palette: 24\n",
      "Data type of images: uint8\n",
      "Value range: [0, 255]\n",
      "\n",
      "Testing dataloader...\n",
      "Test batch shape: torch.Size([256, 4, 16, 16])\n",
      "Test batch value range: [0.0, 1.0]\n",
      "Starting training on device: cuda\n",
      "Dataset size: 2005 images\n",
      "Batch size: 256\n",
      "Number of batches: 8\n",
      "Starting training...\n"
     ]
    },
    {
     "name": "stderr",
     "output_type": "stream",
     "text": [
      "Epoch 1/300:  12%|█▎        | 1/8 [00:01<00:10,  1.54s/it, D_loss=1.9873, G_loss=42.0959, D(x)=0.6807, D(G(z))=0.0000]"
     ]
    },
    {
     "name": "stdout",
     "output_type": "stream",
     "text": [
      "\n",
      "Debug Statistics - Epoch 0, Batch 0\n",
      "Generator Loss: 42.0959\n",
      "Discriminator Loss: 1.9873\n",
      "\n",
      "Color Distribution Analysis:\n",
      "Real Images - RGB Mean: [0.38072833 0.41275313 0.4100591 ]\n",
      "Fake Images - RGB Mean: [0.48561975 0.49514064 0.48062754]\n",
      "Real Images - Alpha Mean: 0.3766916\n",
      "Fake Images - Alpha Mean: 0.5032301\n"
     ]
    },
    {
     "name": "stderr",
     "output_type": "stream",
     "text": [
      "Epoch 1/300: 100%|██████████| 8/8 [00:07<00:00,  1.00it/s, D_loss=36.4656, G_loss=10.9662, D(x)=0.6737, D(G(z))=0.1206]\n",
      "Epoch 2/300:  12%|█▎        | 1/8 [00:01<00:09,  1.35s/it, D_loss=1.7288, G_loss=6.9883, D(x)=0.6384, D(G(z))=0.0078]"
     ]
    },
    {
     "name": "stdout",
     "output_type": "stream",
     "text": [
      "\n",
      "Debug Statistics - Epoch 1, Batch 0\n",
      "Generator Loss: 6.9883\n",
      "Discriminator Loss: 1.7288\n",
      "\n",
      "Color Distribution Analysis:\n",
      "Real Images - RGB Mean: [0.37809223 0.40947524 0.40509543]\n",
      "Fake Images - RGB Mean: [0.57586324 0.39366695 0.42793572]\n",
      "Real Images - Alpha Mean: 0.37329462\n",
      "Fake Images - Alpha Mean: 0.4417782\n"
     ]
    },
    {
     "name": "stderr",
     "output_type": "stream",
     "text": [
      "Epoch 2/300: 100%|██████████| 8/8 [00:07<00:00,  1.02it/s, D_loss=0.7650, G_loss=10.0501, D(x)=0.9996, D(G(z))=0.0010] \n",
      "Epoch 3/300:  12%|█▎        | 1/8 [00:01<00:10,  1.43s/it, D_loss=12.1331, G_loss=16.0905, D(x)=0.9965, D(G(z))=0.0004]"
     ]
    },
    {
     "name": "stdout",
     "output_type": "stream",
     "text": [
      "\n",
      "Debug Statistics - Epoch 2, Batch 0\n",
      "Generator Loss: 16.0905\n",
      "Discriminator Loss: 12.1331\n",
      "\n",
      "Color Distribution Analysis:\n",
      "Real Images - RGB Mean: [0.36748764 0.3954141  0.39141643]\n",
      "Fake Images - RGB Mean: [0.36253166 0.42617762 0.49646547]\n",
      "Real Images - Alpha Mean: 0.36530173\n",
      "Fake Images - Alpha Mean: 0.47640517\n"
     ]
    },
    {
     "name": "stderr",
     "output_type": "stream",
     "text": [
      "Epoch 3/300: 100%|██████████| 8/8 [00:07<00:00,  1.04it/s, D_loss=0.6112, G_loss=2.9988, D(x)=0.8011, D(G(z))=0.0985]  \n",
      "Epoch 4/300:  12%|█▎        | 1/8 [00:01<00:09,  1.30s/it, D_loss=1.0166, G_loss=3.6500, D(x)=0.9253, D(G(z))=0.0747]"
     ]
    },
    {
     "name": "stdout",
     "output_type": "stream",
     "text": [
      "\n",
      "Debug Statistics - Epoch 3, Batch 0\n",
      "Generator Loss: 3.6500\n",
      "Discriminator Loss: 1.0166\n",
      "\n",
      "Color Distribution Analysis:\n",
      "Real Images - RGB Mean: [0.38289937 0.4079451  0.4059702 ]\n",
      "Fake Images - RGB Mean: [0.3961444  0.45206234 0.38568193]\n",
      "Real Images - Alpha Mean: 0.37490907\n",
      "Fake Images - Alpha Mean: 0.39150685\n"
     ]
    },
    {
     "name": "stderr",
     "output_type": "stream",
     "text": [
      "Epoch 4/300: 100%|██████████| 8/8 [00:07<00:00,  1.06it/s, D_loss=0.8098, G_loss=1.0909, D(x)=0.5098, D(G(z))=0.4185]\n",
      "Epoch 5/300:  12%|█▎        | 1/8 [00:01<00:09,  1.32s/it, D_loss=6.2199, G_loss=10.6024, D(x)=0.9968, D(G(z))=0.0000]"
     ]
    },
    {
     "name": "stdout",
     "output_type": "stream",
     "text": [
      "\n",
      "Debug Statistics - Epoch 4, Batch 0\n",
      "Generator Loss: 10.6024\n",
      "Discriminator Loss: 6.2199\n",
      "\n",
      "Color Distribution Analysis:\n",
      "Real Images - RGB Mean: [0.37309378 0.3994598  0.3980855 ]\n",
      "Fake Images - RGB Mean: [0.4717023  0.32191938 0.22196326]\n",
      "Real Images - Alpha Mean: 0.36883676\n",
      "Fake Images - Alpha Mean: 0.27814713\n"
     ]
    },
    {
     "name": "stderr",
     "output_type": "stream",
     "text": [
      "Epoch 5/300: 100%|██████████| 8/8 [00:07<00:00,  1.05it/s, D_loss=1.8754, G_loss=4.7941, D(x)=0.6676, D(G(z))=0.0797] \n",
      "Epoch 6/300:  12%|█▎        | 1/8 [00:01<00:09,  1.37s/it, D_loss=2.9743, G_loss=2.0676, D(x)=0.2481, D(G(z))=0.2137]"
     ]
    },
    {
     "name": "stdout",
     "output_type": "stream",
     "text": [
      "\n",
      "Debug Statistics - Epoch 5, Batch 0\n",
      "Generator Loss: 2.0676\n",
      "Discriminator Loss: 2.9743\n",
      "\n",
      "Color Distribution Analysis:\n",
      "Real Images - RGB Mean: [0.3787227  0.40444458 0.40525055]\n",
      "Fake Images - RGB Mean: [0.29870883 0.3823968  0.40278473]\n",
      "Real Images - Alpha Mean: 0.37288278\n",
      "Fake Images - Alpha Mean: 0.3247488\n"
     ]
    },
    {
     "name": "stderr",
     "output_type": "stream",
     "text": [
      "Epoch 6/300: 100%|██████████| 8/8 [00:07<00:00,  1.04it/s, D_loss=0.5327, G_loss=2.6719, D(x)=0.9021, D(G(z))=0.0982]\n",
      "Epoch 7/300:  12%|█▎        | 1/8 [00:01<00:09,  1.42s/it, D_loss=2.5111, G_loss=8.5339, D(x)=0.9519, D(G(z))=0.0010]"
     ]
    },
    {
     "name": "stdout",
     "output_type": "stream",
     "text": [
      "\n",
      "Debug Statistics - Epoch 6, Batch 0\n",
      "Generator Loss: 8.5339\n",
      "Discriminator Loss: 2.5111\n",
      "\n",
      "Color Distribution Analysis:\n",
      "Real Images - RGB Mean: [0.3801715  0.41179755 0.41004795]\n",
      "Fake Images - RGB Mean: [0.28192097 0.29681933 0.2802933 ]\n",
      "Real Images - Alpha Mean: 0.38029486\n",
      "Fake Images - Alpha Mean: 0.30961516\n"
     ]
    },
    {
     "name": "stderr",
     "output_type": "stream",
     "text": [
      "Epoch 7/300: 100%|██████████| 8/8 [00:07<00:00,  1.04it/s, D_loss=2.3049, G_loss=1.7128, D(x)=0.2098, D(G(z))=0.2015]\n",
      "Epoch 8/300:  12%|█▎        | 1/8 [00:01<00:10,  1.44s/it, D_loss=1.6063, G_loss=5.4132, D(x)=0.8453, D(G(z))=0.0081]"
     ]
    },
    {
     "name": "stdout",
     "output_type": "stream",
     "text": [
      "\n",
      "Debug Statistics - Epoch 7, Batch 0\n",
      "Generator Loss: 5.4132\n",
      "Discriminator Loss: 1.6063\n",
      "\n",
      "Color Distribution Analysis:\n",
      "Real Images - RGB Mean: [0.38301775 0.407479   0.40683427]\n",
      "Fake Images - RGB Mean: [0.26994708 0.24577801 0.32902777]\n",
      "Real Images - Alpha Mean: 0.37582704\n",
      "Fake Images - Alpha Mean: 0.30105263\n"
     ]
    },
    {
     "name": "stderr",
     "output_type": "stream",
     "text": [
      "Epoch 8/300: 100%|██████████| 8/8 [00:06<00:00,  1.31it/s, D_loss=2.2141, G_loss=2.2772, D(x)=0.3341, D(G(z))=0.1633]\n",
      "Epoch 9/300:  12%|█▎        | 1/8 [00:01<00:07,  1.13s/it, D_loss=1.2865, G_loss=3.2564, D(x)=0.9122, D(G(z))=0.0550]"
     ]
    },
    {
     "name": "stdout",
     "output_type": "stream",
     "text": [
      "\n",
      "Debug Statistics - Epoch 8, Batch 0\n",
      "Generator Loss: 3.2564\n",
      "Discriminator Loss: 1.2865\n",
      "\n",
      "Color Distribution Analysis:\n",
      "Real Images - RGB Mean: [0.37969643 0.39969426 0.39722574]\n",
      "Fake Images - RGB Mean: [0.3249519  0.38862023 0.3564954 ]\n",
      "Real Images - Alpha Mean: 0.37258255\n",
      "Fake Images - Alpha Mean: 0.3060807\n"
     ]
    },
    {
     "name": "stderr",
     "output_type": "stream",
     "text": [
      "Epoch 9/300: 100%|██████████| 8/8 [00:05<00:00,  1.46it/s, D_loss=1.9435, G_loss=2.0269, D(x)=0.6065, D(G(z))=0.1717]\n",
      "Epoch 10/300:  12%|█▎        | 1/8 [00:01<00:07,  1.05s/it, D_loss=1.5610, G_loss=1.4818, D(x)=0.4121, D(G(z))=0.3538]"
     ]
    },
    {
     "name": "stdout",
     "output_type": "stream",
     "text": [
      "\n",
      "Debug Statistics - Epoch 9, Batch 0\n",
      "Generator Loss: 1.4818\n",
      "Discriminator Loss: 1.5610\n",
      "\n",
      "Color Distribution Analysis:\n",
      "Real Images - RGB Mean: [0.37491333 0.39949748 0.3966762 ]\n",
      "Fake Images - RGB Mean: [0.3101478  0.4164842  0.28730088]\n",
      "Real Images - Alpha Mean: 0.36650166\n",
      "Fake Images - Alpha Mean: 0.3030434\n"
     ]
    },
    {
     "name": "stderr",
     "output_type": "stream",
     "text": [
      "Epoch 10/300: 100%|██████████| 8/8 [00:05<00:00,  1.47it/s, D_loss=1.9499, G_loss=1.3162, D(x)=0.4772, D(G(z))=0.3236]\n",
      "Epoch 11/300:  12%|█▎        | 1/8 [00:01<00:07,  1.12s/it, D_loss=1.4535, G_loss=1.3983, D(x)=0.4819, D(G(z))=0.3213]"
     ]
    },
    {
     "name": "stdout",
     "output_type": "stream",
     "text": [
      "\n",
      "Debug Statistics - Epoch 10, Batch 0\n",
      "Generator Loss: 1.3983\n",
      "Discriminator Loss: 1.4535\n",
      "\n",
      "Color Distribution Analysis:\n",
      "Real Images - RGB Mean: [0.38650274 0.4148893  0.41317108]\n",
      "Fake Images - RGB Mean: [0.41904628 0.237579   0.41623545]\n",
      "Real Images - Alpha Mean: 0.38427404\n",
      "Fake Images - Alpha Mean: 0.43923187\n"
     ]
    },
    {
     "name": "stderr",
     "output_type": "stream",
     "text": [
      "Epoch 11/300: 100%|██████████| 8/8 [00:05<00:00,  1.43it/s, D_loss=1.1330, G_loss=1.3052, D(x)=0.5165, D(G(z))=0.3153]\n",
      "Epoch 12/300:  12%|█▎        | 1/8 [00:01<00:07,  1.11s/it, D_loss=1.7442, G_loss=3.3272, D(x)=0.6802, D(G(z))=0.0606]"
     ]
    },
    {
     "name": "stdout",
     "output_type": "stream",
     "text": [
      "\n",
      "Debug Statistics - Epoch 11, Batch 0\n",
      "Generator Loss: 3.3272\n",
      "Discriminator Loss: 1.7442\n",
      "\n",
      "Color Distribution Analysis:\n",
      "Real Images - RGB Mean: [0.38501143 0.41431028 0.41205174]\n",
      "Fake Images - RGB Mean: [0.32983857 0.5190906  0.43575045]\n",
      "Real Images - Alpha Mean: 0.38083214\n",
      "Fake Images - Alpha Mean: 0.29399836\n"
     ]
    },
    {
     "name": "stderr",
     "output_type": "stream",
     "text": [
      "Epoch 12/300: 100%|██████████| 8/8 [00:05<00:00,  1.45it/s, D_loss=0.9706, G_loss=1.2411, D(x)=0.5790, D(G(z))=0.3395]\n",
      "Epoch 13/300:  12%|█▎        | 1/8 [00:01<00:07,  1.12s/it, D_loss=1.2981, G_loss=2.5108, D(x)=0.7268, D(G(z))=0.1256]"
     ]
    },
    {
     "name": "stdout",
     "output_type": "stream",
     "text": [
      "\n",
      "Debug Statistics - Epoch 12, Batch 0\n",
      "Generator Loss: 2.5108\n",
      "Discriminator Loss: 1.2981\n",
      "\n",
      "Color Distribution Analysis:\n",
      "Real Images - RGB Mean: [0.3769642  0.4025508  0.40093315]\n",
      "Fake Images - RGB Mean: [0.3089298 0.4136212 0.2694496]\n",
      "Real Images - Alpha Mean: 0.37094298\n",
      "Fake Images - Alpha Mean: 0.45321012\n"
     ]
    },
    {
     "name": "stderr",
     "output_type": "stream",
     "text": [
      "Epoch 13/300: 100%|██████████| 8/8 [00:05<00:00,  1.46it/s, D_loss=1.0862, G_loss=1.0153, D(x)=0.4796, D(G(z))=0.4260]\n",
      "Epoch 14/300:  12%|█▎        | 1/8 [00:01<00:07,  1.08s/it, D_loss=1.2688, G_loss=3.5245, D(x)=0.8622, D(G(z))=0.0403]"
     ]
    },
    {
     "name": "stdout",
     "output_type": "stream",
     "text": [
      "\n",
      "Debug Statistics - Epoch 13, Batch 0\n",
      "Generator Loss: 3.5245\n",
      "Discriminator Loss: 1.2688\n",
      "\n",
      "Color Distribution Analysis:\n",
      "Real Images - RGB Mean: [0.38473055 0.4085442  0.40737808]\n",
      "Fake Images - RGB Mean: [0.3903449  0.32671294 0.4492304 ]\n",
      "Real Images - Alpha Mean: 0.3770864\n",
      "Fake Images - Alpha Mean: 0.40073597\n"
     ]
    },
    {
     "name": "stderr",
     "output_type": "stream",
     "text": [
      "Epoch 14/300: 100%|██████████| 8/8 [00:05<00:00,  1.44it/s, D_loss=1.1495, G_loss=1.6489, D(x)=0.3818, D(G(z))=0.2556]\n",
      "Epoch 15/300:  12%|█▎        | 1/8 [00:01<00:07,  1.11s/it, D_loss=1.0759, G_loss=3.0193, D(x)=0.9000, D(G(z))=0.0621]"
     ]
    },
    {
     "name": "stdout",
     "output_type": "stream",
     "text": [
      "\n",
      "Debug Statistics - Epoch 14, Batch 0\n",
      "Generator Loss: 3.0193\n",
      "Discriminator Loss: 1.0759\n",
      "\n",
      "Color Distribution Analysis:\n",
      "Real Images - RGB Mean: [0.36594415 0.39436057 0.38817492]\n",
      "Fake Images - RGB Mean: [0.3716893  0.30036867 0.42436722]\n",
      "Real Images - Alpha Mean: 0.36045635\n",
      "Fake Images - Alpha Mean: 0.24820548\n"
     ]
    },
    {
     "name": "stderr",
     "output_type": "stream",
     "text": [
      "Epoch 15/300: 100%|██████████| 8/8 [00:05<00:00,  1.44it/s, D_loss=1.4866, G_loss=2.8131, D(x)=0.9572, D(G(z))=0.0737]\n",
      "Epoch 16/300:  12%|█▎        | 1/8 [00:01<00:08,  1.16s/it, D_loss=0.8039, G_loss=2.3294, D(x)=0.5513, D(G(z))=0.1233]"
     ]
    },
    {
     "name": "stdout",
     "output_type": "stream",
     "text": [
      "\n",
      "Debug Statistics - Epoch 15, Batch 0\n",
      "Generator Loss: 2.3294\n",
      "Discriminator Loss: 0.8039\n",
      "\n",
      "Color Distribution Analysis:\n",
      "Real Images - RGB Mean: [0.36829773 0.39781952 0.3932646 ]\n",
      "Fake Images - RGB Mean: [0.26991978 0.39437214 0.3129084 ]\n",
      "Real Images - Alpha Mean: 0.36348432\n",
      "Fake Images - Alpha Mean: 0.33270293\n"
     ]
    },
    {
     "name": "stderr",
     "output_type": "stream",
     "text": [
      "Epoch 16/300: 100%|██████████| 8/8 [00:05<00:00,  1.40it/s, D_loss=1.0152, G_loss=1.3396, D(x)=0.5750, D(G(z))=0.2920]\n",
      "Epoch 17/300:  12%|█▎        | 1/8 [00:01<00:08,  1.19s/it, D_loss=0.9909, G_loss=2.8447, D(x)=0.8129, D(G(z))=0.0840]"
     ]
    },
    {
     "name": "stdout",
     "output_type": "stream",
     "text": [
      "\n",
      "Debug Statistics - Epoch 16, Batch 0\n",
      "Generator Loss: 2.8447\n",
      "Discriminator Loss: 0.9909\n",
      "\n",
      "Color Distribution Analysis:\n",
      "Real Images - RGB Mean: [0.38265774 0.410165   0.4071201 ]\n",
      "Fake Images - RGB Mean: [0.39089292 0.3681711  0.37995207]\n",
      "Real Images - Alpha Mean: 0.37809613\n",
      "Fake Images - Alpha Mean: 0.31229618\n"
     ]
    },
    {
     "name": "stderr",
     "output_type": "stream",
     "text": [
      "Epoch 17/300: 100%|██████████| 8/8 [00:05<00:00,  1.38it/s, D_loss=0.9557, G_loss=1.7003, D(x)=0.7396, D(G(z))=0.1996]\n",
      "Epoch 18/300:  12%|█▎        | 1/8 [00:01<00:07,  1.10s/it, D_loss=0.7916, G_loss=1.9089, D(x)=0.7046, D(G(z))=0.1569]"
     ]
    },
    {
     "name": "stdout",
     "output_type": "stream",
     "text": [
      "\n",
      "Debug Statistics - Epoch 17, Batch 0\n",
      "Generator Loss: 1.9089\n",
      "Discriminator Loss: 0.7916\n",
      "\n",
      "Color Distribution Analysis:\n",
      "Real Images - RGB Mean: [0.38688767 0.41642883 0.40979683]\n",
      "Fake Images - RGB Mean: [0.39127696 0.39249405 0.30434445]\n",
      "Real Images - Alpha Mean: 0.37834093\n",
      "Fake Images - Alpha Mean: 0.38698947\n"
     ]
    },
    {
     "name": "stderr",
     "output_type": "stream",
     "text": [
      "Epoch 18/300: 100%|██████████| 8/8 [00:05<00:00,  1.42it/s, D_loss=1.0438, G_loss=2.4316, D(x)=0.6718, D(G(z))=0.1086]\n",
      "Epoch 19/300:  12%|█▎        | 1/8 [00:01<00:08,  1.20s/it, D_loss=0.9725, G_loss=1.8120, D(x)=0.6210, D(G(z))=0.2229]"
     ]
    },
    {
     "name": "stdout",
     "output_type": "stream",
     "text": [
      "\n",
      "Debug Statistics - Epoch 18, Batch 0\n",
      "Generator Loss: 1.8120\n",
      "Discriminator Loss: 0.9725\n",
      "\n",
      "Color Distribution Analysis:\n",
      "Real Images - RGB Mean: [0.38316435 0.4062536  0.40657306]\n",
      "Fake Images - RGB Mean: [0.34170413 0.32995462 0.33494797]\n",
      "Real Images - Alpha Mean: 0.3784513\n",
      "Fake Images - Alpha Mean: 0.34616688\n"
     ]
    },
    {
     "name": "stderr",
     "output_type": "stream",
     "text": [
      "Epoch 19/300: 100%|██████████| 8/8 [00:05<00:00,  1.41it/s, D_loss=1.2966, G_loss=1.9902, D(x)=0.4711, D(G(z))=0.2235]\n",
      "Epoch 20/300:  12%|█▎        | 1/8 [00:01<00:07,  1.00s/it, D_loss=1.1529, G_loss=2.0148, D(x)=0.5522, D(G(z))=0.2677]"
     ]
    },
    {
     "name": "stdout",
     "output_type": "stream",
     "text": [
      "\n",
      "Debug Statistics - Epoch 19, Batch 0\n",
      "Generator Loss: 2.0148\n",
      "Discriminator Loss: 1.1529\n",
      "\n",
      "Color Distribution Analysis:\n",
      "Real Images - RGB Mean: [0.38148367 0.40818155 0.4082292 ]\n",
      "Fake Images - RGB Mean: [0.27996564 0.3064312  0.48014602]\n",
      "Real Images - Alpha Mean: 0.37560928\n",
      "Fake Images - Alpha Mean: 0.41809028\n"
     ]
    },
    {
     "name": "stderr",
     "output_type": "stream",
     "text": [
      "Epoch 20/300: 100%|██████████| 8/8 [00:05<00:00,  1.55it/s, D_loss=1.6943, G_loss=0.9135, D(x)=0.3168, D(G(z))=0.4297]\n",
      "Epoch 21/300:  12%|█▎        | 1/8 [00:01<00:09,  1.33s/it, D_loss=1.5616, G_loss=3.4739, D(x)=0.8852, D(G(z))=0.0412]"
     ]
    },
    {
     "name": "stdout",
     "output_type": "stream",
     "text": [
      "\n",
      "Debug Statistics - Epoch 20, Batch 0\n",
      "Generator Loss: 3.4739\n",
      "Discriminator Loss: 1.5616\n",
      "\n",
      "Color Distribution Analysis:\n",
      "Real Images - RGB Mean: [0.39400756 0.41771513 0.41846815]\n",
      "Fake Images - RGB Mean: [0.33803564 0.39131203 0.35996217]\n",
      "Real Images - Alpha Mean: 0.38670614\n",
      "Fake Images - Alpha Mean: 0.29176125\n"
     ]
    },
    {
     "name": "stderr",
     "output_type": "stream",
     "text": [
      "Epoch 21/300: 100%|██████████| 8/8 [00:05<00:00,  1.43it/s, D_loss=1.7907, G_loss=3.4385, D(x)=0.7995, D(G(z))=0.0412]\n",
      "Epoch 22/300:  12%|█▎        | 1/8 [00:01<00:09,  1.30s/it, D_loss=1.9872, G_loss=0.7973, D(x)=0.2099, D(G(z))=0.4734]"
     ]
    },
    {
     "name": "stdout",
     "output_type": "stream",
     "text": [
      "\n",
      "Debug Statistics - Epoch 21, Batch 0\n",
      "Generator Loss: 0.7973\n",
      "Discriminator Loss: 1.9872\n",
      "\n",
      "Color Distribution Analysis:\n",
      "Real Images - RGB Mean: [0.381683   0.40901044 0.406851  ]\n",
      "Fake Images - RGB Mean: [0.35446355 0.37376687 0.38208148]\n",
      "Real Images - Alpha Mean: 0.37567812\n",
      "Fake Images - Alpha Mean: 0.35400933\n"
     ]
    },
    {
     "name": "stderr",
     "output_type": "stream",
     "text": [
      "Epoch 22/300: 100%|██████████| 8/8 [00:05<00:00,  1.55it/s, D_loss=1.5342, G_loss=2.6397, D(x)=0.7127, D(G(z))=0.0824]\n",
      "Epoch 23/300:  12%|█▎        | 1/8 [00:00<00:06,  1.09it/s, D_loss=1.4680, G_loss=0.6954, D(x)=0.3024, D(G(z))=0.5130]"
     ]
    },
    {
     "name": "stdout",
     "output_type": "stream",
     "text": [
      "\n",
      "Debug Statistics - Epoch 22, Batch 0\n",
      "Generator Loss: 0.6954\n",
      "Discriminator Loss: 1.4680\n",
      "\n",
      "Color Distribution Analysis:\n",
      "Real Images - RGB Mean: [0.3887792  0.41307414 0.4109844 ]\n",
      "Fake Images - RGB Mean: [0.3776128  0.38711724 0.35893545]\n",
      "Real Images - Alpha Mean: 0.38360995\n",
      "Fake Images - Alpha Mean: 0.36381605\n"
     ]
    },
    {
     "name": "stderr",
     "output_type": "stream",
     "text": [
      "Epoch 23/300: 100%|██████████| 8/8 [00:04<00:00,  1.72it/s, D_loss=1.5380, G_loss=2.0112, D(x)=0.6023, D(G(z))=0.1711]\n",
      "Epoch 24/300:  12%|█▎        | 1/8 [00:00<00:06,  1.06it/s, D_loss=1.2428, G_loss=1.7183, D(x)=0.5043, D(G(z))=0.2210]"
     ]
    },
    {
     "name": "stdout",
     "output_type": "stream",
     "text": [
      "\n",
      "Debug Statistics - Epoch 23, Batch 0\n",
      "Generator Loss: 1.7183\n",
      "Discriminator Loss: 1.2428\n",
      "\n",
      "Color Distribution Analysis:\n",
      "Real Images - RGB Mean: [0.380158   0.40895274 0.4061251 ]\n",
      "Fake Images - RGB Mean: [0.29524416 0.28511366 0.40498167]\n",
      "Real Images - Alpha Mean: 0.37285605\n",
      "Fake Images - Alpha Mean: 0.4176804\n"
     ]
    },
    {
     "name": "stderr",
     "output_type": "stream",
     "text": [
      "Epoch 24/300: 100%|██████████| 8/8 [00:05<00:00,  1.54it/s, D_loss=1.4403, G_loss=1.9426, D(x)=0.7192, D(G(z))=0.1591]\n",
      "Epoch 25/300:  12%|█▎        | 1/8 [00:01<00:09,  1.39s/it, D_loss=1.4184, G_loss=0.7215, D(x)=0.3661, D(G(z))=0.4982]"
     ]
    },
    {
     "name": "stdout",
     "output_type": "stream",
     "text": [
      "\n",
      "Debug Statistics - Epoch 24, Batch 0\n",
      "Generator Loss: 0.7215\n",
      "Discriminator Loss: 1.4184\n",
      "\n",
      "Color Distribution Analysis:\n",
      "Real Images - RGB Mean: [0.38467163 0.4146554  0.4131332 ]\n",
      "Fake Images - RGB Mean: [0.32606503 0.38152188 0.47828037]\n",
      "Real Images - Alpha Mean: 0.3780408\n",
      "Fake Images - Alpha Mean: 0.3566143\n"
     ]
    },
    {
     "name": "stderr",
     "output_type": "stream",
     "text": [
      "Epoch 25/300: 100%|██████████| 8/8 [00:05<00:00,  1.34it/s, D_loss=1.4324, G_loss=1.9370, D(x)=0.6316, D(G(z))=0.1532]\n",
      "Epoch 26/300:  12%|█▎        | 1/8 [00:01<00:10,  1.47s/it, D_loss=1.1900, G_loss=0.9120, D(x)=0.4231, D(G(z))=0.4130]"
     ]
    },
    {
     "name": "stdout",
     "output_type": "stream",
     "text": [
      "\n",
      "Debug Statistics - Epoch 25, Batch 0\n",
      "Generator Loss: 0.9120\n",
      "Discriminator Loss: 1.1900\n",
      "\n",
      "Color Distribution Analysis:\n",
      "Real Images - RGB Mean: [0.37222916 0.39906168 0.39822114]\n",
      "Fake Images - RGB Mean: [0.4207112  0.40085632 0.32472715]\n",
      "Real Images - Alpha Mean: 0.3686667\n",
      "Fake Images - Alpha Mean: 0.33923137\n"
     ]
    },
    {
     "name": "stderr",
     "output_type": "stream",
     "text": [
      "Epoch 26/300: 100%|██████████| 8/8 [00:06<00:00,  1.25it/s, D_loss=1.1297, G_loss=2.0053, D(x)=0.7148, D(G(z))=0.1429]\n",
      "Epoch 27/300:  12%|█▎        | 1/8 [00:01<00:07,  1.14s/it, D_loss=1.2870, G_loss=0.6479, D(x)=0.3970, D(G(z))=0.5479]"
     ]
    },
    {
     "name": "stdout",
     "output_type": "stream",
     "text": [
      "\n",
      "Debug Statistics - Epoch 26, Batch 0\n",
      "Generator Loss: 0.6479\n",
      "Discriminator Loss: 1.2870\n",
      "\n",
      "Color Distribution Analysis:\n",
      "Real Images - RGB Mean: [0.38494647 0.4142889  0.4175617 ]\n",
      "Fake Images - RGB Mean: [0.37127897 0.37843096 0.33350444]\n",
      "Real Images - Alpha Mean: 0.38433227\n",
      "Fake Images - Alpha Mean: 0.33390754\n"
     ]
    },
    {
     "name": "stderr",
     "output_type": "stream",
     "text": [
      "Epoch 27/300: 100%|██████████| 8/8 [00:05<00:00,  1.37it/s, D_loss=1.3916, G_loss=0.9446, D(x)=0.3815, D(G(z))=0.4254]\n",
      "Epoch 28/300:  12%|█▎        | 1/8 [00:01<00:07,  1.07s/it, D_loss=1.4433, G_loss=1.5455, D(x)=0.6405, D(G(z))=0.2344]"
     ]
    },
    {
     "name": "stdout",
     "output_type": "stream",
     "text": [
      "\n",
      "Debug Statistics - Epoch 27, Batch 0\n",
      "Generator Loss: 1.5455\n",
      "Discriminator Loss: 1.4433\n",
      "\n",
      "Color Distribution Analysis:\n",
      "Real Images - RGB Mean: [0.3801781  0.40766394 0.4090152 ]\n",
      "Fake Images - RGB Mean: [0.29566908 0.37893417 0.4355737 ]\n",
      "Real Images - Alpha Mean: 0.37837937\n",
      "Fake Images - Alpha Mean: 0.33448845\n"
     ]
    },
    {
     "name": "stderr",
     "output_type": "stream",
     "text": [
      "Epoch 28/300: 100%|██████████| 8/8 [00:05<00:00,  1.43it/s, D_loss=1.1011, G_loss=1.1211, D(x)=0.5239, D(G(z))=0.3373]\n",
      "Epoch 29/300:  12%|█▎        | 1/8 [00:01<00:07,  1.12s/it, D_loss=0.8892, G_loss=1.4956, D(x)=0.6728, D(G(z))=0.2416]"
     ]
    },
    {
     "name": "stdout",
     "output_type": "stream",
     "text": [
      "\n",
      "Debug Statistics - Epoch 28, Batch 0\n",
      "Generator Loss: 1.4956\n",
      "Discriminator Loss: 0.8892\n",
      "\n",
      "Color Distribution Analysis:\n",
      "Real Images - RGB Mean: [0.37931827 0.4018677  0.40174738]\n",
      "Fake Images - RGB Mean: [0.35470217 0.34574974 0.3378629 ]\n",
      "Real Images - Alpha Mean: 0.3711287\n",
      "Fake Images - Alpha Mean: 0.37157598\n"
     ]
    },
    {
     "name": "stderr",
     "output_type": "stream",
     "text": [
      "Epoch 29/300: 100%|██████████| 8/8 [00:05<00:00,  1.42it/s, D_loss=1.1335, G_loss=1.8164, D(x)=0.6134, D(G(z))=0.2180]\n",
      "Epoch 30/300:  12%|█▎        | 1/8 [00:01<00:08,  1.21s/it, D_loss=1.3915, G_loss=0.9964, D(x)=0.4510, D(G(z))=0.4010]"
     ]
    },
    {
     "name": "stdout",
     "output_type": "stream",
     "text": [
      "\n",
      "Debug Statistics - Epoch 29, Batch 0\n",
      "Generator Loss: 0.9964\n",
      "Discriminator Loss: 1.3915\n",
      "\n",
      "Color Distribution Analysis:\n",
      "Real Images - RGB Mean: [0.3705246  0.39382416 0.39175585]\n",
      "Fake Images - RGB Mean: [0.38039684 0.40911242 0.3487086 ]\n",
      "Real Images - Alpha Mean: 0.36500537\n",
      "Fake Images - Alpha Mean: 0.33757025\n"
     ]
    },
    {
     "name": "stderr",
     "output_type": "stream",
     "text": [
      "Epoch 30/300: 100%|██████████| 8/8 [00:05<00:00,  1.39it/s, D_loss=1.2050, G_loss=3.4081, D(x)=0.7546, D(G(z))=0.0388]\n",
      "Epoch 31/300:  12%|█▎        | 1/8 [00:01<00:09,  1.31s/it, D_loss=1.2670, G_loss=0.8061, D(x)=0.3505, D(G(z))=0.4694]"
     ]
    },
    {
     "name": "stdout",
     "output_type": "stream",
     "text": [
      "\n",
      "Debug Statistics - Epoch 30, Batch 0\n",
      "Generator Loss: 0.8061\n",
      "Discriminator Loss: 1.2670\n",
      "\n",
      "Color Distribution Analysis:\n",
      "Real Images - RGB Mean: [0.37857607 0.4110905  0.40220162]\n",
      "Fake Images - RGB Mean: [0.34962165 0.30165383 0.36461362]\n",
      "Real Images - Alpha Mean: 0.3735013\n",
      "Fake Images - Alpha Mean: 0.3751849\n"
     ]
    },
    {
     "name": "stderr",
     "output_type": "stream",
     "text": [
      "Epoch 31/300: 100%|██████████| 8/8 [00:05<00:00,  1.36it/s, D_loss=1.0275, G_loss=1.0185, D(x)=0.5223, D(G(z))=0.4088]\n",
      "Epoch 32/300:  12%|█▎        | 1/8 [00:01<00:07,  1.02s/it, D_loss=1.8160, G_loss=4.7216, D(x)=0.8541, D(G(z))=0.0114]"
     ]
    },
    {
     "name": "stdout",
     "output_type": "stream",
     "text": [
      "\n",
      "Debug Statistics - Epoch 31, Batch 0\n",
      "Generator Loss: 4.7216\n",
      "Discriminator Loss: 1.8160\n",
      "\n",
      "Color Distribution Analysis:\n",
      "Real Images - RGB Mean: [0.38475233 0.4127766  0.41171083]\n",
      "Fake Images - RGB Mean: [0.3356946  0.44256842 0.35906166]\n",
      "Real Images - Alpha Mean: 0.37640196\n",
      "Fake Images - Alpha Mean: 0.29646212\n"
     ]
    },
    {
     "name": "stderr",
     "output_type": "stream",
     "text": [
      "Epoch 32/300: 100%|██████████| 8/8 [00:05<00:00,  1.40it/s, D_loss=0.9842, G_loss=1.9695, D(x)=0.6782, D(G(z))=0.1585]\n",
      "Epoch 33/300:  12%|█▎        | 1/8 [00:01<00:07,  1.13s/it, D_loss=1.1219, G_loss=1.0667, D(x)=0.5282, D(G(z))=0.3754]"
     ]
    },
    {
     "name": "stdout",
     "output_type": "stream",
     "text": [
      "\n",
      "Debug Statistics - Epoch 32, Batch 0\n",
      "Generator Loss: 1.0667\n",
      "Discriminator Loss: 1.1219\n",
      "\n",
      "Color Distribution Analysis:\n",
      "Real Images - RGB Mean: [0.38057715 0.4064514  0.4091209 ]\n",
      "Fake Images - RGB Mean: [0.27947372 0.33021003 0.39758363]\n",
      "Real Images - Alpha Mean: 0.37737104\n",
      "Fake Images - Alpha Mean: 0.37004817\n"
     ]
    },
    {
     "name": "stderr",
     "output_type": "stream",
     "text": [
      "Epoch 33/300: 100%|██████████| 8/8 [00:05<00:00,  1.40it/s, D_loss=1.0860, G_loss=2.2718, D(x)=0.6585, D(G(z))=0.1275]\n",
      "Epoch 34/300:  12%|█▎        | 1/8 [00:01<00:07,  1.05s/it, D_loss=1.2947, G_loss=0.8136, D(x)=0.4157, D(G(z))=0.4903]"
     ]
    },
    {
     "name": "stdout",
     "output_type": "stream",
     "text": [
      "\n",
      "Debug Statistics - Epoch 33, Batch 0\n",
      "Generator Loss: 0.8136\n",
      "Discriminator Loss: 1.2947\n",
      "\n",
      "Color Distribution Analysis:\n",
      "Real Images - RGB Mean: [0.38316908 0.40819877 0.40963656]\n",
      "Fake Images - RGB Mean: [0.43547538 0.32143122 0.34032893]\n",
      "Real Images - Alpha Mean: 0.3813172\n",
      "Fake Images - Alpha Mean: 0.32199258\n"
     ]
    },
    {
     "name": "stderr",
     "output_type": "stream",
     "text": [
      "Epoch 34/300: 100%|██████████| 8/8 [00:05<00:00,  1.41it/s, D_loss=0.9973, G_loss=2.1777, D(x)=0.6844, D(G(z))=0.1447]\n",
      "Epoch 35/300:  12%|█▎        | 1/8 [00:01<00:08,  1.21s/it, D_loss=1.1079, G_loss=1.0999, D(x)=0.5089, D(G(z))=0.3484]"
     ]
    },
    {
     "name": "stdout",
     "output_type": "stream",
     "text": [
      "\n",
      "Debug Statistics - Epoch 34, Batch 0\n",
      "Generator Loss: 1.0999\n",
      "Discriminator Loss: 1.1079\n",
      "\n",
      "Color Distribution Analysis:\n",
      "Real Images - RGB Mean: [0.38782778 0.41391584 0.41214693]\n",
      "Fake Images - RGB Mean: [0.31511122 0.46020764 0.3261099 ]\n",
      "Real Images - Alpha Mean: 0.38170496\n",
      "Fake Images - Alpha Mean: 0.32090062\n"
     ]
    },
    {
     "name": "stderr",
     "output_type": "stream",
     "text": [
      "Epoch 35/300: 100%|██████████| 8/8 [00:05<00:00,  1.37it/s, D_loss=1.0278, G_loss=1.4075, D(x)=0.5453, D(G(z))=0.3135]\n",
      "Epoch 36/300:  12%|█▎        | 1/8 [00:01<00:07,  1.13s/it, D_loss=1.5977, G_loss=4.8537, D(x)=0.7310, D(G(z))=0.0124]"
     ]
    },
    {
     "name": "stdout",
     "output_type": "stream",
     "text": [
      "\n",
      "Debug Statistics - Epoch 35, Batch 0\n",
      "Generator Loss: 4.8537\n",
      "Discriminator Loss: 1.5977\n",
      "\n",
      "Color Distribution Analysis:\n",
      "Real Images - RGB Mean: [0.3769099  0.40296254 0.4028885 ]\n",
      "Fake Images - RGB Mean: [0.37050104 0.3569812  0.34171978]\n",
      "Real Images - Alpha Mean: 0.3749949\n",
      "Fake Images - Alpha Mean: 0.2676518\n"
     ]
    },
    {
     "name": "stderr",
     "output_type": "stream",
     "text": [
      "Epoch 36/300: 100%|██████████| 8/8 [00:05<00:00,  1.40it/s, D_loss=1.1499, G_loss=1.1178, D(x)=0.4552, D(G(z))=0.3570]\n",
      "Epoch 37/300:  12%|█▎        | 1/8 [00:01<00:07,  1.10s/it, D_loss=1.3342, G_loss=3.2142, D(x)=0.8082, D(G(z))=0.0450]"
     ]
    },
    {
     "name": "stdout",
     "output_type": "stream",
     "text": [
      "\n",
      "Debug Statistics - Epoch 36, Batch 0\n",
      "Generator Loss: 3.2142\n",
      "Discriminator Loss: 1.3342\n",
      "\n",
      "Color Distribution Analysis:\n",
      "Real Images - RGB Mean: [0.37593365 0.40425834 0.4055415 ]\n",
      "Fake Images - RGB Mean: [0.34182438 0.3668418  0.37260345]\n",
      "Real Images - Alpha Mean: 0.3720639\n",
      "Fake Images - Alpha Mean: 0.3362486\n"
     ]
    },
    {
     "name": "stderr",
     "output_type": "stream",
     "text": [
      "Epoch 37/300: 100%|██████████| 8/8 [00:05<00:00,  1.41it/s, D_loss=1.4547, G_loss=1.2210, D(x)=0.3157, D(G(z))=0.3277]\n",
      "Epoch 38/300:  12%|█▎        | 1/8 [00:01<00:09,  1.34s/it, D_loss=1.5264, G_loss=4.0222, D(x)=0.9142, D(G(z))=0.0220]"
     ]
    },
    {
     "name": "stdout",
     "output_type": "stream",
     "text": [
      "\n",
      "Debug Statistics - Epoch 37, Batch 0\n",
      "Generator Loss: 4.0222\n",
      "Discriminator Loss: 1.5264\n",
      "\n",
      "Color Distribution Analysis:\n",
      "Real Images - RGB Mean: [0.38475415 0.41181183 0.40910432]\n",
      "Fake Images - RGB Mean: [0.31777596 0.3043051  0.37329206]\n",
      "Real Images - Alpha Mean: 0.3805732\n",
      "Fake Images - Alpha Mean: 0.3976475\n"
     ]
    },
    {
     "name": "stderr",
     "output_type": "stream",
     "text": [
      "Epoch 38/300: 100%|██████████| 8/8 [00:05<00:00,  1.35it/s, D_loss=0.9732, G_loss=1.5713, D(x)=0.7584, D(G(z))=0.2201]\n",
      "Epoch 39/300:  12%|█▎        | 1/8 [00:01<00:07,  1.09s/it, D_loss=0.9058, G_loss=2.2659, D(x)=0.7636, D(G(z))=0.1167]"
     ]
    },
    {
     "name": "stdout",
     "output_type": "stream",
     "text": [
      "\n",
      "Debug Statistics - Epoch 38, Batch 0\n",
      "Generator Loss: 2.2659\n",
      "Discriminator Loss: 0.9058\n",
      "\n",
      "Color Distribution Analysis:\n",
      "Real Images - RGB Mean: [0.38329405 0.40911853 0.40783387]\n",
      "Fake Images - RGB Mean: [0.34279394 0.3450802  0.34859183]\n",
      "Real Images - Alpha Mean: 0.38138765\n",
      "Fake Images - Alpha Mean: 0.33090594\n"
     ]
    },
    {
     "name": "stderr",
     "output_type": "stream",
     "text": [
      "Epoch 39/300: 100%|██████████| 8/8 [00:05<00:00,  1.40it/s, D_loss=0.9413, G_loss=3.5361, D(x)=0.8594, D(G(z))=0.0325]\n",
      "Epoch 40/300:  12%|█▎        | 1/8 [00:01<00:07,  1.04s/it, D_loss=0.7804, G_loss=1.4348, D(x)=0.5204, D(G(z))=0.2521]"
     ]
    },
    {
     "name": "stdout",
     "output_type": "stream",
     "text": [
      "\n",
      "Debug Statistics - Epoch 39, Batch 0\n",
      "Generator Loss: 1.4348\n",
      "Discriminator Loss: 0.7804\n",
      "\n",
      "Color Distribution Analysis:\n",
      "Real Images - RGB Mean: [0.38592348 0.41422683 0.40932554]\n",
      "Fake Images - RGB Mean: [0.34118375 0.43316332 0.41975662]\n",
      "Real Images - Alpha Mean: 0.37968525\n",
      "Fake Images - Alpha Mean: 0.33332914\n"
     ]
    },
    {
     "name": "stderr",
     "output_type": "stream",
     "text": [
      "Epoch 40/300: 100%|██████████| 8/8 [00:05<00:00,  1.41it/s, D_loss=0.7506, G_loss=1.4124, D(x)=0.7201, D(G(z))=0.3021]\n",
      "Epoch 41/300:  12%|█▎        | 1/8 [00:01<00:08,  1.18s/it, D_loss=1.0759, G_loss=2.0906, D(x)=0.7977, D(G(z))=0.1389]"
     ]
    },
    {
     "name": "stdout",
     "output_type": "stream",
     "text": [
      "\n",
      "Debug Statistics - Epoch 40, Batch 0\n",
      "Generator Loss: 2.0906\n",
      "Discriminator Loss: 1.0759\n",
      "\n",
      "Color Distribution Analysis:\n",
      "Real Images - RGB Mean: [0.37622336 0.40279385 0.4038683 ]\n",
      "Fake Images - RGB Mean: [0.36708486 0.36934277 0.35710272]\n",
      "Real Images - Alpha Mean: 0.3723859\n",
      "Fake Images - Alpha Mean: 0.35200468\n"
     ]
    },
    {
     "name": "stderr",
     "output_type": "stream",
     "text": [
      "Epoch 41/300: 100%|██████████| 8/8 [00:05<00:00,  1.42it/s, D_loss=0.6720, G_loss=2.5588, D(x)=0.8678, D(G(z))=0.0870]\n",
      "Epoch 42/300:  12%|█▎        | 1/8 [00:01<00:07,  1.08s/it, D_loss=0.6318, G_loss=3.7478, D(x)=0.7991, D(G(z))=0.0310]"
     ]
    },
    {
     "name": "stdout",
     "output_type": "stream",
     "text": [
      "\n",
      "Debug Statistics - Epoch 41, Batch 0\n",
      "Generator Loss: 3.7478\n",
      "Discriminator Loss: 0.6318\n",
      "\n",
      "Color Distribution Analysis:\n",
      "Real Images - RGB Mean: [0.38586503 0.41039616 0.40749717]\n",
      "Fake Images - RGB Mean: [0.3504726  0.40199015 0.3808717 ]\n",
      "Real Images - Alpha Mean: 0.37651542\n",
      "Fake Images - Alpha Mean: 0.30733585\n"
     ]
    },
    {
     "name": "stderr",
     "output_type": "stream",
     "text": [
      "Epoch 42/300: 100%|██████████| 8/8 [00:05<00:00,  1.41it/s, D_loss=0.5346, G_loss=1.9780, D(x)=0.7432, D(G(z))=0.1538]\n",
      "Epoch 43/300:  12%|█▎        | 1/8 [00:01<00:08,  1.19s/it, D_loss=1.2247, G_loss=3.2069, D(x)=0.8164, D(G(z))=0.0487]"
     ]
    },
    {
     "name": "stdout",
     "output_type": "stream",
     "text": [
      "\n",
      "Debug Statistics - Epoch 42, Batch 0\n",
      "Generator Loss: 3.2069\n",
      "Discriminator Loss: 1.2247\n",
      "\n",
      "Color Distribution Analysis:\n",
      "Real Images - RGB Mean: [0.39746994 0.42559266 0.4277713 ]\n",
      "Fake Images - RGB Mean: [0.382329   0.36271262 0.32270774]\n",
      "Real Images - Alpha Mean: 0.39279366\n",
      "Fake Images - Alpha Mean: 0.35509688\n"
     ]
    },
    {
     "name": "stderr",
     "output_type": "stream",
     "text": [
      "Epoch 43/300: 100%|██████████| 8/8 [00:05<00:00,  1.41it/s, D_loss=0.7394, G_loss=2.6607, D(x)=0.7157, D(G(z))=0.0849]\n",
      "Epoch 44/300:  12%|█▎        | 1/8 [00:01<00:07,  1.10s/it, D_loss=1.0418, G_loss=2.7297, D(x)=0.6030, D(G(z))=0.1057]"
     ]
    },
    {
     "name": "stdout",
     "output_type": "stream",
     "text": [
      "\n",
      "Debug Statistics - Epoch 43, Batch 0\n",
      "Generator Loss: 2.7297\n",
      "Discriminator Loss: 1.0418\n",
      "\n",
      "Color Distribution Analysis:\n",
      "Real Images - RGB Mean: [0.3857736  0.4117553  0.41327396]\n",
      "Fake Images - RGB Mean: [0.3096647  0.38016656 0.37565514]\n",
      "Real Images - Alpha Mean: 0.3822646\n",
      "Fake Images - Alpha Mean: 0.31804824\n"
     ]
    },
    {
     "name": "stderr",
     "output_type": "stream",
     "text": [
      "Epoch 44/300: 100%|██████████| 8/8 [00:05<00:00,  1.42it/s, D_loss=0.5915, G_loss=3.7740, D(x)=0.9266, D(G(z))=0.0296]\n",
      "Epoch 45/300:  12%|█▎        | 1/8 [00:01<00:07,  1.12s/it, D_loss=0.8705, G_loss=1.4587, D(x)=0.4777, D(G(z))=0.2741]"
     ]
    },
    {
     "name": "stdout",
     "output_type": "stream",
     "text": [
      "\n",
      "Debug Statistics - Epoch 44, Batch 0\n",
      "Generator Loss: 1.4587\n",
      "Discriminator Loss: 0.8705\n",
      "\n",
      "Color Distribution Analysis:\n",
      "Real Images - RGB Mean: [0.36829433 0.39814565 0.39678156]\n",
      "Fake Images - RGB Mean: [0.39303905 0.37926883 0.3776283 ]\n",
      "Real Images - Alpha Mean: 0.36498544\n",
      "Fake Images - Alpha Mean: 0.37989727\n"
     ]
    },
    {
     "name": "stderr",
     "output_type": "stream",
     "text": [
      "Epoch 45/300: 100%|██████████| 8/8 [00:05<00:00,  1.38it/s, D_loss=1.3711, G_loss=3.7705, D(x)=0.8667, D(G(z))=0.0271]\n",
      "Epoch 46/300:  12%|█▎        | 1/8 [00:01<00:07,  1.10s/it, D_loss=0.9758, G_loss=1.8215, D(x)=0.4227, D(G(z))=0.1705]"
     ]
    },
    {
     "name": "stdout",
     "output_type": "stream",
     "text": [
      "\n",
      "Debug Statistics - Epoch 45, Batch 0\n",
      "Generator Loss: 1.8215\n",
      "Discriminator Loss: 0.9758\n",
      "\n",
      "Color Distribution Analysis:\n",
      "Real Images - RGB Mean: [0.37928015 0.40561208 0.40562558]\n",
      "Fake Images - RGB Mean: [0.29732078 0.3409352  0.39341974]\n",
      "Real Images - Alpha Mean: 0.37546006\n",
      "Fake Images - Alpha Mean: 0.33770815\n"
     ]
    },
    {
     "name": "stderr",
     "output_type": "stream",
     "text": [
      "Epoch 46/300: 100%|██████████| 8/8 [00:05<00:00,  1.41it/s, D_loss=1.1029, G_loss=4.4826, D(x)=0.9550, D(G(z))=0.0155]\n",
      "Epoch 47/300:  12%|█▎        | 1/8 [00:01<00:07,  1.01s/it, D_loss=1.2710, G_loss=1.3849, D(x)=0.3185, D(G(z))=0.2733]"
     ]
    },
    {
     "name": "stdout",
     "output_type": "stream",
     "text": [
      "\n",
      "Debug Statistics - Epoch 46, Batch 0\n",
      "Generator Loss: 1.3849\n",
      "Discriminator Loss: 1.2710\n",
      "\n",
      "Color Distribution Analysis:\n",
      "Real Images - RGB Mean: [0.37434402 0.39871058 0.39815685]\n",
      "Fake Images - RGB Mean: [0.30451402 0.42989594 0.44346935]\n",
      "Real Images - Alpha Mean: 0.37021446\n",
      "Fake Images - Alpha Mean: 0.34581858\n"
     ]
    },
    {
     "name": "stderr",
     "output_type": "stream",
     "text": [
      "Epoch 47/300: 100%|██████████| 8/8 [00:05<00:00,  1.42it/s, D_loss=0.3674, G_loss=1.9336, D(x)=0.8466, D(G(z))=0.1673]\n",
      "Epoch 48/300:  12%|█▎        | 1/8 [00:01<00:07,  1.07s/it, D_loss=0.7932, G_loss=4.3873, D(x)=0.9600, D(G(z))=0.0140]"
     ]
    },
    {
     "name": "stdout",
     "output_type": "stream",
     "text": [
      "\n",
      "Debug Statistics - Epoch 47, Batch 0\n",
      "Generator Loss: 4.3873\n",
      "Discriminator Loss: 0.7932\n",
      "\n",
      "Color Distribution Analysis:\n",
      "Real Images - RGB Mean: [0.37537625 0.40160352 0.40044975]\n",
      "Fake Images - RGB Mean: [0.37785253 0.39372474 0.39318746]\n",
      "Real Images - Alpha Mean: 0.37598607\n",
      "Fake Images - Alpha Mean: 0.32274312\n"
     ]
    },
    {
     "name": "stderr",
     "output_type": "stream",
     "text": [
      "Epoch 48/300: 100%|██████████| 8/8 [00:05<00:00,  1.41it/s, D_loss=0.6725, G_loss=2.2377, D(x)=0.7928, D(G(z))=0.1468]\n",
      "Epoch 49/300:  12%|█▎        | 1/8 [00:01<00:08,  1.16s/it, D_loss=0.5242, G_loss=3.4295, D(x)=0.9219, D(G(z))=0.0378]"
     ]
    },
    {
     "name": "stdout",
     "output_type": "stream",
     "text": [
      "\n",
      "Debug Statistics - Epoch 48, Batch 0\n",
      "Generator Loss: 3.4295\n",
      "Discriminator Loss: 0.5242\n",
      "\n",
      "Color Distribution Analysis:\n",
      "Real Images - RGB Mean: [0.38169706 0.4091942  0.40794316]\n",
      "Fake Images - RGB Mean: [0.37978676 0.42524576 0.36146873]\n",
      "Real Images - Alpha Mean: 0.37689593\n",
      "Fake Images - Alpha Mean: 0.39718696\n"
     ]
    },
    {
     "name": "stderr",
     "output_type": "stream",
     "text": [
      "Epoch 49/300: 100%|██████████| 8/8 [00:05<00:00,  1.39it/s, D_loss=0.3971, G_loss=1.2615, D(x)=0.8482, D(G(z))=0.2980]\n",
      "Epoch 50/300:  12%|█▎        | 1/8 [00:01<00:07,  1.10s/it, D_loss=1.0460, G_loss=3.5895, D(x)=0.9628, D(G(z))=0.0364]"
     ]
    },
    {
     "name": "stdout",
     "output_type": "stream",
     "text": [
      "\n",
      "Debug Statistics - Epoch 49, Batch 0\n",
      "Generator Loss: 3.5895\n",
      "Discriminator Loss: 1.0460\n",
      "\n",
      "Color Distribution Analysis:\n",
      "Real Images - RGB Mean: [0.3740384  0.40462407 0.40444067]\n",
      "Fake Images - RGB Mean: [0.36723837 0.35350698 0.4190228 ]\n",
      "Real Images - Alpha Mean: 0.37104452\n",
      "Fake Images - Alpha Mean: 0.3709343\n"
     ]
    },
    {
     "name": "stderr",
     "output_type": "stream",
     "text": [
      "Epoch 50/300: 100%|██████████| 8/8 [00:05<00:00,  1.43it/s, D_loss=1.6555, G_loss=2.3155, D(x)=0.2040, D(G(z))=0.1137]\n",
      "Epoch 51/300:  12%|█▎        | 1/8 [00:01<00:09,  1.33s/it, D_loss=0.4614, G_loss=1.5893, D(x)=0.8872, D(G(z))=0.2199]"
     ]
    },
    {
     "name": "stdout",
     "output_type": "stream",
     "text": [
      "\n",
      "Debug Statistics - Epoch 50, Batch 0\n",
      "Generator Loss: 1.5893\n",
      "Discriminator Loss: 0.4614\n",
      "\n",
      "Color Distribution Analysis:\n",
      "Real Images - RGB Mean: [0.3812816  0.40974498 0.4095075 ]\n",
      "Fake Images - RGB Mean: [0.44994405 0.39298925 0.34219283]\n",
      "Real Images - Alpha Mean: 0.37575182\n",
      "Fake Images - Alpha Mean: 0.35583988\n"
     ]
    },
    {
     "name": "stderr",
     "output_type": "stream",
     "text": [
      "Epoch 51/300: 100%|██████████| 8/8 [00:06<00:00,  1.32it/s, D_loss=0.6002, G_loss=1.4683, D(x)=0.8178, D(G(z))=0.2696]\n",
      "Epoch 52/300:  12%|█▎        | 1/8 [00:01<00:07,  1.08s/it, D_loss=0.6296, G_loss=3.6120, D(x)=0.9400, D(G(z))=0.0325]"
     ]
    },
    {
     "name": "stdout",
     "output_type": "stream",
     "text": [
      "\n",
      "Debug Statistics - Epoch 51, Batch 0\n",
      "Generator Loss: 3.6120\n",
      "Discriminator Loss: 0.6296\n",
      "\n",
      "Color Distribution Analysis:\n",
      "Real Images - RGB Mean: [0.38947237 0.4173045  0.41423827]\n",
      "Fake Images - RGB Mean: [0.3210107  0.44964576 0.30948824]\n",
      "Real Images - Alpha Mean: 0.3856787\n",
      "Fake Images - Alpha Mean: 0.343259\n"
     ]
    },
    {
     "name": "stderr",
     "output_type": "stream",
     "text": [
      "Epoch 52/300: 100%|██████████| 8/8 [00:06<00:00,  1.24it/s, D_loss=0.9174, G_loss=3.0289, D(x)=0.7852, D(G(z))=0.0542]\n",
      "Epoch 53/300:  12%|█▎        | 1/8 [00:01<00:07,  1.08s/it, D_loss=0.5305, G_loss=3.4865, D(x)=0.7875, D(G(z))=0.0345]"
     ]
    },
    {
     "name": "stdout",
     "output_type": "stream",
     "text": [
      "\n",
      "Debug Statistics - Epoch 52, Batch 0\n",
      "Generator Loss: 3.4865\n",
      "Discriminator Loss: 0.5305\n",
      "\n",
      "Color Distribution Analysis:\n",
      "Real Images - RGB Mean: [0.38010684 0.407251   0.40461197]\n",
      "Fake Images - RGB Mean: [0.30041257 0.3448975  0.46689525]\n",
      "Real Images - Alpha Mean: 0.37455288\n",
      "Fake Images - Alpha Mean: 0.332588\n"
     ]
    },
    {
     "name": "stderr",
     "output_type": "stream",
     "text": [
      "Epoch 53/300: 100%|██████████| 8/8 [00:06<00:00,  1.32it/s, D_loss=0.8676, G_loss=3.4279, D(x)=0.9408, D(G(z))=0.0408]\n",
      "Epoch 54/300:  12%|█▎        | 1/8 [00:01<00:11,  1.64s/it, D_loss=0.5352, G_loss=2.8865, D(x)=0.6686, D(G(z))=0.0647]"
     ]
    },
    {
     "name": "stdout",
     "output_type": "stream",
     "text": [
      "\n",
      "Debug Statistics - Epoch 53, Batch 0\n",
      "Generator Loss: 2.8865\n",
      "Discriminator Loss: 0.5352\n",
      "\n",
      "Color Distribution Analysis:\n",
      "Real Images - RGB Mean: [0.38019568 0.40867528 0.41137135]\n",
      "Fake Images - RGB Mean: [0.30701324 0.46319008 0.4211764 ]\n",
      "Real Images - Alpha Mean: 0.37973404\n",
      "Fake Images - Alpha Mean: 0.32516417\n"
     ]
    },
    {
     "name": "stderr",
     "output_type": "stream",
     "text": [
      "Epoch 54/300: 100%|██████████| 8/8 [00:06<00:00,  1.30it/s, D_loss=0.4448, G_loss=2.7888, D(x)=0.6829, D(G(z))=0.0684]\n",
      "Epoch 55/300:  12%|█▎        | 1/8 [00:01<00:09,  1.29s/it, D_loss=0.4298, G_loss=3.5919, D(x)=0.9392, D(G(z))=0.0365]"
     ]
    },
    {
     "name": "stdout",
     "output_type": "stream",
     "text": [
      "\n",
      "Debug Statistics - Epoch 54, Batch 0\n",
      "Generator Loss: 3.5919\n",
      "Discriminator Loss: 0.4298\n",
      "\n",
      "Color Distribution Analysis:\n",
      "Real Images - RGB Mean: [0.37361717 0.40278322 0.39942142]\n",
      "Fake Images - RGB Mean: [0.3675347  0.4001452  0.36371216]\n",
      "Real Images - Alpha Mean: 0.37281138\n",
      "Fake Images - Alpha Mean: 0.42043108\n"
     ]
    },
    {
     "name": "stderr",
     "output_type": "stream",
     "text": [
      "Epoch 55/300: 100%|██████████| 8/8 [00:06<00:00,  1.28it/s, D_loss=0.5170, G_loss=3.7220, D(x)=0.8647, D(G(z))=0.0393]\n",
      "Epoch 56/300:  12%|█▎        | 1/8 [00:01<00:07,  1.08s/it, D_loss=0.6455, G_loss=1.7962, D(x)=0.6602, D(G(z))=0.2044]"
     ]
    },
    {
     "name": "stdout",
     "output_type": "stream",
     "text": [
      "\n",
      "Debug Statistics - Epoch 55, Batch 0\n",
      "Generator Loss: 1.7962\n",
      "Discriminator Loss: 0.6455\n",
      "\n",
      "Color Distribution Analysis:\n",
      "Real Images - RGB Mean: [0.36177722 0.38757154 0.38494328]\n",
      "Fake Images - RGB Mean: [0.3577521  0.3414724  0.40009427]\n",
      "Real Images - Alpha Mean: 0.36190754\n",
      "Fake Images - Alpha Mean: 0.38843235\n"
     ]
    },
    {
     "name": "stderr",
     "output_type": "stream",
     "text": [
      "Epoch 56/300: 100%|██████████| 8/8 [00:05<00:00,  1.51it/s, D_loss=2.2758, G_loss=3.7187, D(x)=0.1287, D(G(z))=0.0350]\n",
      "Epoch 57/300:  12%|█▎        | 1/8 [00:01<00:07,  1.03s/it, D_loss=0.4189, G_loss=1.5485, D(x)=0.7512, D(G(z))=0.2455]"
     ]
    },
    {
     "name": "stdout",
     "output_type": "stream",
     "text": [
      "\n",
      "Debug Statistics - Epoch 56, Batch 0\n",
      "Generator Loss: 1.5485\n",
      "Discriminator Loss: 0.4189\n",
      "\n",
      "Color Distribution Analysis:\n",
      "Real Images - RGB Mean: [0.38129947 0.40930972 0.40855262]\n",
      "Fake Images - RGB Mean: [0.3146364  0.42885357 0.41385472]\n",
      "Real Images - Alpha Mean: 0.37614822\n",
      "Fake Images - Alpha Mean: 0.29689062\n"
     ]
    },
    {
     "name": "stderr",
     "output_type": "stream",
     "text": [
      "Epoch 57/300: 100%|██████████| 8/8 [00:05<00:00,  1.34it/s, D_loss=0.5566, G_loss=1.7519, D(x)=0.7685, D(G(z))=0.1814]\n",
      "Epoch 58/300:  12%|█▎        | 1/8 [00:00<00:06,  1.01it/s, D_loss=0.9457, G_loss=3.9245, D(x)=0.8715, D(G(z))=0.0280]"
     ]
    },
    {
     "name": "stdout",
     "output_type": "stream",
     "text": [
      "\n",
      "Debug Statistics - Epoch 57, Batch 0\n",
      "Generator Loss: 3.9245\n",
      "Discriminator Loss: 0.9457\n",
      "\n",
      "Color Distribution Analysis:\n",
      "Real Images - RGB Mean: [0.38023287 0.40759966 0.40737107]\n",
      "Fake Images - RGB Mean: [0.35228416 0.37333637 0.42298132]\n",
      "Real Images - Alpha Mean: 0.37508374\n",
      "Fake Images - Alpha Mean: 0.38500702\n"
     ]
    },
    {
     "name": "stderr",
     "output_type": "stream",
     "text": [
      "Epoch 58/300: 100%|██████████| 8/8 [00:04<00:00,  1.65it/s, D_loss=0.9833, G_loss=4.5231, D(x)=0.8862, D(G(z))=0.0198]\n",
      "Epoch 59/300:  12%|█▎        | 1/8 [00:01<00:07,  1.08s/it, D_loss=0.8822, G_loss=2.4083, D(x)=0.5175, D(G(z))=0.1035]"
     ]
    },
    {
     "name": "stdout",
     "output_type": "stream",
     "text": [
      "\n",
      "Debug Statistics - Epoch 58, Batch 0\n",
      "Generator Loss: 2.4083\n",
      "Discriminator Loss: 0.8822\n",
      "\n",
      "Color Distribution Analysis:\n",
      "Real Images - RGB Mean: [0.37843806 0.4011883  0.40255195]\n",
      "Fake Images - RGB Mean: [0.37726387 0.4312649  0.3490143 ]\n",
      "Real Images - Alpha Mean: 0.3724666\n",
      "Fake Images - Alpha Mean: 0.36642256\n"
     ]
    },
    {
     "name": "stderr",
     "output_type": "stream",
     "text": [
      "Epoch 59/300: 100%|██████████| 8/8 [00:04<00:00,  1.62it/s, D_loss=1.0689, G_loss=3.4068, D(x)=0.4935, D(G(z))=0.0473]\n",
      "Epoch 60/300:  12%|█▎        | 1/8 [00:00<00:06,  1.03it/s, D_loss=0.5543, G_loss=1.8704, D(x)=0.7373, D(G(z))=0.1721]"
     ]
    },
    {
     "name": "stdout",
     "output_type": "stream",
     "text": [
      "\n",
      "Debug Statistics - Epoch 59, Batch 0\n",
      "Generator Loss: 1.8704\n",
      "Discriminator Loss: 0.5543\n",
      "\n",
      "Color Distribution Analysis:\n",
      "Real Images - RGB Mean: [0.37589383 0.40328342 0.40313223]\n",
      "Fake Images - RGB Mean: [0.3689325  0.40165502 0.36806506]\n",
      "Real Images - Alpha Mean: 0.37136763\n",
      "Fake Images - Alpha Mean: 0.30571023\n"
     ]
    },
    {
     "name": "stderr",
     "output_type": "stream",
     "text": [
      "Epoch 60/300: 100%|██████████| 8/8 [00:04<00:00,  1.67it/s, D_loss=0.7389, G_loss=1.7652, D(x)=0.5145, D(G(z))=0.1925]\n",
      "Epoch 61/300:  12%|█▎        | 1/8 [00:01<00:08,  1.22s/it, D_loss=0.9020, G_loss=4.5539, D(x)=0.9428, D(G(z))=0.0157]"
     ]
    },
    {
     "name": "stdout",
     "output_type": "stream",
     "text": [
      "\n",
      "Debug Statistics - Epoch 60, Batch 0\n",
      "Generator Loss: 4.5539\n",
      "Discriminator Loss: 0.9020\n",
      "\n",
      "Color Distribution Analysis:\n",
      "Real Images - RGB Mean: [0.37183112 0.39852157 0.39646292]\n",
      "Fake Images - RGB Mean: [0.353663   0.41893414 0.44021478]\n",
      "Real Images - Alpha Mean: 0.36824542\n",
      "Fake Images - Alpha Mean: 0.3587867\n"
     ]
    },
    {
     "name": "stderr",
     "output_type": "stream",
     "text": [
      "Epoch 61/300: 100%|██████████| 8/8 [00:04<00:00,  1.62it/s, D_loss=1.7197, G_loss=7.7024, D(x)=0.9715, D(G(z))=0.0007]\n",
      "Epoch 62/300:  12%|█▎        | 1/8 [00:00<00:06,  1.05it/s, D_loss=3.1532, G_loss=3.1579, D(x)=0.0525, D(G(z))=0.0535]"
     ]
    },
    {
     "name": "stdout",
     "output_type": "stream",
     "text": [
      "\n",
      "Debug Statistics - Epoch 61, Batch 0\n",
      "Generator Loss: 3.1579\n",
      "Discriminator Loss: 3.1532\n",
      "\n",
      "Color Distribution Analysis:\n",
      "Real Images - RGB Mean: [0.37126917 0.39770457 0.40100846]\n",
      "Fake Images - RGB Mean: [0.37719378 0.34947833 0.38298115]\n",
      "Real Images - Alpha Mean: 0.37225887\n",
      "Fake Images - Alpha Mean: 0.38853005\n"
     ]
    },
    {
     "name": "stderr",
     "output_type": "stream",
     "text": [
      "Epoch 62/300: 100%|██████████| 8/8 [00:04<00:00,  1.71it/s, D_loss=0.8236, G_loss=1.6427, D(x)=0.5320, D(G(z))=0.2081]\n",
      "Epoch 63/300:  12%|█▎        | 1/8 [00:00<00:06,  1.04it/s, D_loss=1.1168, G_loss=5.9623, D(x)=0.9220, D(G(z))=0.0039]"
     ]
    },
    {
     "name": "stdout",
     "output_type": "stream",
     "text": [
      "\n",
      "Debug Statistics - Epoch 62, Batch 0\n",
      "Generator Loss: 5.9623\n",
      "Discriminator Loss: 1.1168\n",
      "\n",
      "Color Distribution Analysis:\n",
      "Real Images - RGB Mean: [0.3864612  0.41736007 0.41584265]\n",
      "Fake Images - RGB Mean: [0.3784705  0.4012567  0.35371074]\n",
      "Real Images - Alpha Mean: 0.3847889\n",
      "Fake Images - Alpha Mean: 0.30246514\n"
     ]
    },
    {
     "name": "stderr",
     "output_type": "stream",
     "text": [
      "Epoch 63/300: 100%|██████████| 8/8 [00:04<00:00,  1.69it/s, D_loss=0.4675, G_loss=5.8330, D(x)=0.9070, D(G(z))=0.0038]\n",
      "Epoch 64/300:  12%|█▎        | 1/8 [00:00<00:06,  1.09it/s, D_loss=0.9213, G_loss=1.1315, D(x)=0.4489, D(G(z))=0.3737]"
     ]
    },
    {
     "name": "stdout",
     "output_type": "stream",
     "text": [
      "\n",
      "Debug Statistics - Epoch 63, Batch 0\n",
      "Generator Loss: 1.1315\n",
      "Discriminator Loss: 0.9213\n",
      "\n",
      "Color Distribution Analysis:\n",
      "Real Images - RGB Mean: [0.38371542 0.4123778  0.41126674]\n",
      "Fake Images - RGB Mean: [0.385852   0.40105796 0.3864867 ]\n",
      "Real Images - Alpha Mean: 0.3824117\n",
      "Fake Images - Alpha Mean: 0.39056146\n"
     ]
    },
    {
     "name": "stderr",
     "output_type": "stream",
     "text": [
      "Epoch 64/300: 100%|██████████| 8/8 [00:04<00:00,  1.69it/s, D_loss=0.5675, G_loss=4.1179, D(x)=0.8884, D(G(z))=0.0185]\n",
      "Epoch 65/300:  12%|█▎        | 1/8 [00:00<00:06,  1.07it/s, D_loss=0.7213, G_loss=2.3373, D(x)=0.5763, D(G(z))=0.1534]"
     ]
    },
    {
     "name": "stdout",
     "output_type": "stream",
     "text": [
      "\n",
      "Debug Statistics - Epoch 64, Batch 0\n",
      "Generator Loss: 2.3373\n",
      "Discriminator Loss: 0.7213\n",
      "\n",
      "Color Distribution Analysis:\n",
      "Real Images - RGB Mean: [0.38687107 0.41292137 0.41072264]\n",
      "Fake Images - RGB Mean: [0.3102488  0.36939305 0.4161898 ]\n",
      "Real Images - Alpha Mean: 0.38213554\n",
      "Fake Images - Alpha Mean: 0.3602215\n"
     ]
    },
    {
     "name": "stderr",
     "output_type": "stream",
     "text": [
      "Epoch 65/300: 100%|██████████| 8/8 [00:04<00:00,  1.70it/s, D_loss=1.2861, G_loss=1.1268, D(x)=0.3226, D(G(z))=0.3823]\n",
      "Epoch 66/300:  12%|█▎        | 1/8 [00:00<00:06,  1.07it/s, D_loss=1.1831, G_loss=5.1257, D(x)=0.9717, D(G(z))=0.0096]"
     ]
    },
    {
     "name": "stdout",
     "output_type": "stream",
     "text": [
      "\n",
      "Debug Statistics - Epoch 65, Batch 0\n",
      "Generator Loss: 5.1257\n",
      "Discriminator Loss: 1.1831\n",
      "\n",
      "Color Distribution Analysis:\n",
      "Real Images - RGB Mean: [0.38238636 0.41285408 0.4092312 ]\n",
      "Fake Images - RGB Mean: [0.3423769  0.36976945 0.40272292]\n",
      "Real Images - Alpha Mean: 0.3799619\n",
      "Fake Images - Alpha Mean: 0.33201963\n"
     ]
    },
    {
     "name": "stderr",
     "output_type": "stream",
     "text": [
      "Epoch 66/300: 100%|██████████| 8/8 [00:04<00:00,  1.69it/s, D_loss=0.4947, G_loss=5.8855, D(x)=0.8866, D(G(z))=0.0034]\n",
      "Epoch 67/300:  12%|█▎        | 1/8 [00:00<00:06,  1.07it/s, D_loss=0.4521, G_loss=3.4118, D(x)=0.6568, D(G(z))=0.0424]"
     ]
    },
    {
     "name": "stdout",
     "output_type": "stream",
     "text": [
      "\n",
      "Debug Statistics - Epoch 66, Batch 0\n",
      "Generator Loss: 3.4118\n",
      "Discriminator Loss: 0.4521\n",
      "\n",
      "Color Distribution Analysis:\n",
      "Real Images - RGB Mean: [0.37724712 0.40288222 0.3998925 ]\n",
      "Fake Images - RGB Mean: [0.36465707 0.37909192 0.3949649 ]\n",
      "Real Images - Alpha Mean: 0.3713239\n",
      "Fake Images - Alpha Mean: 0.39072946\n"
     ]
    },
    {
     "name": "stderr",
     "output_type": "stream",
     "text": [
      "Epoch 67/300: 100%|██████████| 8/8 [00:04<00:00,  1.68it/s, D_loss=0.1145, G_loss=2.7154, D(x)=0.9626, D(G(z))=0.0843]\n",
      "Epoch 68/300:  12%|█▎        | 1/8 [00:01<00:07,  1.02s/it, D_loss=0.6350, G_loss=5.1063, D(x)=0.9957, D(G(z))=0.0116]"
     ]
    },
    {
     "name": "stdout",
     "output_type": "stream",
     "text": [
      "\n",
      "Debug Statistics - Epoch 67, Batch 0\n",
      "Generator Loss: 5.1063\n",
      "Discriminator Loss: 0.6350\n",
      "\n",
      "Color Distribution Analysis:\n",
      "Real Images - RGB Mean: [0.37233827 0.39954954 0.39867273]\n",
      "Fake Images - RGB Mean: [0.34409052 0.34751412 0.42605603]\n",
      "Real Images - Alpha Mean: 0.36563244\n",
      "Fake Images - Alpha Mean: 0.3479566\n"
     ]
    },
    {
     "name": "stderr",
     "output_type": "stream",
     "text": [
      "Epoch 68/300: 100%|██████████| 8/8 [00:04<00:00,  1.64it/s, D_loss=0.7222, G_loss=4.2678, D(x)=0.9619, D(G(z))=0.0348]\n",
      "Epoch 69/300:  12%|█▎        | 1/8 [00:00<00:06,  1.04it/s, D_loss=0.3779, G_loss=4.7366, D(x)=0.9150, D(G(z))=0.0146]"
     ]
    },
    {
     "name": "stdout",
     "output_type": "stream",
     "text": [
      "\n",
      "Debug Statistics - Epoch 68, Batch 0\n",
      "Generator Loss: 4.7366\n",
      "Discriminator Loss: 0.3779\n",
      "\n",
      "Color Distribution Analysis:\n",
      "Real Images - RGB Mean: [0.3763708  0.40784472 0.4064118 ]\n",
      "Fake Images - RGB Mean: [0.39720967 0.41178325 0.35747603]\n",
      "Real Images - Alpha Mean: 0.37323418\n",
      "Fake Images - Alpha Mean: 0.34104884\n"
     ]
    },
    {
     "name": "stderr",
     "output_type": "stream",
     "text": [
      "Epoch 69/300: 100%|██████████| 8/8 [00:04<00:00,  1.60it/s, D_loss=1.3725, G_loss=0.8406, D(x)=0.3053, D(G(z))=0.5049]\n",
      "Epoch 70/300:  12%|█▎        | 1/8 [00:01<00:10,  1.53s/it, D_loss=1.4139, G_loss=2.5663, D(x)=0.9969, D(G(z))=0.1327]"
     ]
    },
    {
     "name": "stdout",
     "output_type": "stream",
     "text": [
      "\n",
      "Debug Statistics - Epoch 69, Batch 0\n",
      "Generator Loss: 2.5663\n",
      "Discriminator Loss: 1.4139\n",
      "\n",
      "Color Distribution Analysis:\n",
      "Real Images - RGB Mean: [0.37690938 0.4026253  0.4071306 ]\n",
      "Fake Images - RGB Mean: [0.32896534 0.37472072 0.40123126]\n",
      "Real Images - Alpha Mean: 0.37760082\n",
      "Fake Images - Alpha Mean: 0.38527223\n"
     ]
    },
    {
     "name": "stderr",
     "output_type": "stream",
     "text": [
      "Epoch 70/300: 100%|██████████| 8/8 [00:06<00:00,  1.29it/s, D_loss=0.7162, G_loss=4.5783, D(x)=0.8605, D(G(z))=0.0150]\n",
      "Epoch 71/300:  12%|█▎        | 1/8 [00:01<00:09,  1.35s/it, D_loss=0.9426, G_loss=1.3526, D(x)=0.4564, D(G(z))=0.2956]"
     ]
    },
    {
     "name": "stdout",
     "output_type": "stream",
     "text": [
      "\n",
      "Debug Statistics - Epoch 70, Batch 0\n",
      "Generator Loss: 1.3526\n",
      "Discriminator Loss: 0.9426\n",
      "\n",
      "Color Distribution Analysis:\n",
      "Real Images - RGB Mean: [0.3851772  0.41169772 0.41021493]\n",
      "Fake Images - RGB Mean: [0.401089   0.41101217 0.4236997 ]\n",
      "Real Images - Alpha Mean: 0.3815571\n",
      "Fake Images - Alpha Mean: 0.349782\n"
     ]
    },
    {
     "name": "stderr",
     "output_type": "stream",
     "text": [
      "Epoch 71/300: 100%|██████████| 8/8 [00:06<00:00,  1.27it/s, D_loss=0.3081, G_loss=4.4393, D(x)=0.7848, D(G(z))=0.0149]\n",
      "Epoch 72/300:  12%|█▎        | 1/8 [00:01<00:09,  1.36s/it, D_loss=0.6251, G_loss=1.4433, D(x)=0.5890, D(G(z))=0.2578]"
     ]
    },
    {
     "name": "stdout",
     "output_type": "stream",
     "text": [
      "\n",
      "Debug Statistics - Epoch 71, Batch 0\n",
      "Generator Loss: 1.4433\n",
      "Discriminator Loss: 0.6251\n",
      "\n",
      "Color Distribution Analysis:\n",
      "Real Images - RGB Mean: [0.3850303  0.4118722  0.40891296]\n",
      "Fake Images - RGB Mean: [0.38683027 0.3828884  0.40315887]\n",
      "Real Images - Alpha Mean: 0.37666225\n",
      "Fake Images - Alpha Mean: 0.38496044\n"
     ]
    },
    {
     "name": "stderr",
     "output_type": "stream",
     "text": [
      "Epoch 72/300: 100%|██████████| 8/8 [00:05<00:00,  1.55it/s, D_loss=0.3517, G_loss=3.2841, D(x)=0.9278, D(G(z))=0.0425]\n",
      "Epoch 73/300:  12%|█▎        | 1/8 [00:00<00:06,  1.03it/s, D_loss=0.3953, G_loss=4.0037, D(x)=0.9269, D(G(z))=0.0212]"
     ]
    },
    {
     "name": "stdout",
     "output_type": "stream",
     "text": [
      "\n",
      "Debug Statistics - Epoch 72, Batch 0\n",
      "Generator Loss: 4.0037\n",
      "Discriminator Loss: 0.3953\n",
      "\n",
      "Color Distribution Analysis:\n",
      "Real Images - RGB Mean: [0.38008162 0.40546697 0.4030247 ]\n",
      "Fake Images - RGB Mean: [0.37225044 0.37568313 0.389078  ]\n",
      "Real Images - Alpha Mean: 0.37279713\n",
      "Fake Images - Alpha Mean: 0.4087636\n"
     ]
    },
    {
     "name": "stderr",
     "output_type": "stream",
     "text": [
      "Epoch 73/300: 100%|██████████| 8/8 [00:04<00:00,  1.64it/s, D_loss=0.2358, G_loss=2.8764, D(x)=0.9247, D(G(z))=0.0670]\n",
      "Epoch 74/300:  12%|█▎        | 1/8 [00:01<00:07,  1.03s/it, D_loss=0.4449, G_loss=5.0382, D(x)=0.9669, D(G(z))=0.0095]"
     ]
    },
    {
     "name": "stdout",
     "output_type": "stream",
     "text": [
      "\n",
      "Debug Statistics - Epoch 73, Batch 0\n",
      "Generator Loss: 5.0382\n",
      "Discriminator Loss: 0.4449\n",
      "\n",
      "Color Distribution Analysis:\n",
      "Real Images - RGB Mean: [0.38460776 0.40939677 0.40760347]\n",
      "Fake Images - RGB Mean: [0.334791   0.38407558 0.4350811 ]\n",
      "Real Images - Alpha Mean: 0.38094395\n",
      "Fake Images - Alpha Mean: 0.37370837\n"
     ]
    },
    {
     "name": "stderr",
     "output_type": "stream",
     "text": [
      "Epoch 74/300: 100%|██████████| 8/8 [00:04<00:00,  1.61it/s, D_loss=0.2218, G_loss=2.8623, D(x)=0.9608, D(G(z))=0.0713]\n",
      "Epoch 75/300:  12%|█▎        | 1/8 [00:00<00:06,  1.03it/s, D_loss=0.5920, G_loss=6.6607, D(x)=0.9803, D(G(z))=0.0017]"
     ]
    },
    {
     "name": "stdout",
     "output_type": "stream",
     "text": [
      "\n",
      "Debug Statistics - Epoch 74, Batch 0\n",
      "Generator Loss: 6.6607\n",
      "Discriminator Loss: 0.5920\n",
      "\n",
      "Color Distribution Analysis:\n",
      "Real Images - RGB Mean: [0.37736517 0.4084445  0.40732178]\n",
      "Fake Images - RGB Mean: [0.36397898 0.36759952 0.4096658 ]\n",
      "Real Images - Alpha Mean: 0.37402457\n",
      "Fake Images - Alpha Mean: 0.35593826\n"
     ]
    },
    {
     "name": "stderr",
     "output_type": "stream",
     "text": [
      "Epoch 75/300: 100%|██████████| 8/8 [00:04<00:00,  1.67it/s, D_loss=0.4378, G_loss=5.0948, D(x)=0.6909, D(G(z))=0.0082]\n",
      "Epoch 76/300:  12%|█▎        | 1/8 [00:00<00:06,  1.06it/s, D_loss=0.3131, G_loss=2.4206, D(x)=0.8012, D(G(z))=0.1134]"
     ]
    },
    {
     "name": "stdout",
     "output_type": "stream",
     "text": [
      "\n",
      "Debug Statistics - Epoch 75, Batch 0\n",
      "Generator Loss: 2.4206\n",
      "Discriminator Loss: 0.3131\n",
      "\n",
      "Color Distribution Analysis:\n",
      "Real Images - RGB Mean: [0.3667792 0.3967596 0.3938792]\n",
      "Fake Images - RGB Mean: [0.35102713 0.39738655 0.391428  ]\n",
      "Real Images - Alpha Mean: 0.36104655\n",
      "Fake Images - Alpha Mean: 0.3828291\n"
     ]
    },
    {
     "name": "stderr",
     "output_type": "stream",
     "text": [
      "Epoch 76/300: 100%|██████████| 8/8 [00:04<00:00,  1.67it/s, D_loss=0.2842, G_loss=2.8118, D(x)=0.8978, D(G(z))=0.0766]\n",
      "Epoch 77/300:  12%|█▎        | 1/8 [00:01<00:07,  1.01s/it, D_loss=0.4958, G_loss=5.1470, D(x)=0.9794, D(G(z))=0.0095]"
     ]
    },
    {
     "name": "stdout",
     "output_type": "stream",
     "text": [
      "\n",
      "Debug Statistics - Epoch 76, Batch 0\n",
      "Generator Loss: 5.1470\n",
      "Discriminator Loss: 0.4958\n",
      "\n",
      "Color Distribution Analysis:\n",
      "Real Images - RGB Mean: [0.38066396 0.4098297  0.41231033]\n",
      "Fake Images - RGB Mean: [0.35625705 0.40101212 0.35873663]\n",
      "Real Images - Alpha Mean: 0.37729543\n",
      "Fake Images - Alpha Mean: 0.381881\n"
     ]
    },
    {
     "name": "stderr",
     "output_type": "stream",
     "text": [
      "Epoch 77/300: 100%|██████████| 8/8 [00:04<00:00,  1.65it/s, D_loss=0.4782, G_loss=5.3300, D(x)=0.8450, D(G(z))=0.0085]\n",
      "Epoch 78/300:  12%|█▎        | 1/8 [00:00<00:06,  1.06it/s, D_loss=0.9917, G_loss=0.9538, D(x)=0.4450, D(G(z))=0.4228]"
     ]
    },
    {
     "name": "stdout",
     "output_type": "stream",
     "text": [
      "\n",
      "Debug Statistics - Epoch 77, Batch 0\n",
      "Generator Loss: 0.9538\n",
      "Discriminator Loss: 0.9917\n",
      "\n",
      "Color Distribution Analysis:\n",
      "Real Images - RGB Mean: [0.38188016 0.4054208  0.40773815]\n",
      "Fake Images - RGB Mean: [0.36650503 0.38465917 0.4098604 ]\n",
      "Real Images - Alpha Mean: 0.37847853\n",
      "Fake Images - Alpha Mean: 0.38413587\n"
     ]
    },
    {
     "name": "stderr",
     "output_type": "stream",
     "text": [
      "Epoch 78/300: 100%|██████████| 8/8 [00:04<00:00,  1.65it/s, D_loss=0.2652, G_loss=3.0508, D(x)=0.8993, D(G(z))=0.0579]\n",
      "Epoch 79/300:  12%|█▎        | 1/8 [00:00<00:06,  1.02it/s, D_loss=0.3373, G_loss=4.3782, D(x)=0.9445, D(G(z))=0.0148]"
     ]
    },
    {
     "name": "stdout",
     "output_type": "stream",
     "text": [
      "\n",
      "Debug Statistics - Epoch 78, Batch 0\n",
      "Generator Loss: 4.3782\n",
      "Discriminator Loss: 0.3373\n",
      "\n",
      "Color Distribution Analysis:\n",
      "Real Images - RGB Mean: [0.36862138 0.39494407 0.3949258 ]\n",
      "Fake Images - RGB Mean: [0.3841238  0.36747745 0.4039457 ]\n",
      "Real Images - Alpha Mean: 0.3642819\n",
      "Fake Images - Alpha Mean: 0.38028413\n"
     ]
    },
    {
     "name": "stderr",
     "output_type": "stream",
     "text": [
      "Epoch 79/300: 100%|██████████| 8/8 [00:04<00:00,  1.65it/s, D_loss=0.2473, G_loss=3.5082, D(x)=0.8231, D(G(z))=0.0426]\n",
      "Epoch 80/300:  12%|█▎        | 1/8 [00:01<00:07,  1.05s/it, D_loss=0.2197, G_loss=3.3482, D(x)=0.9586, D(G(z))=0.0431]"
     ]
    },
    {
     "name": "stdout",
     "output_type": "stream",
     "text": [
      "\n",
      "Debug Statistics - Epoch 79, Batch 0\n",
      "Generator Loss: 3.3482\n",
      "Discriminator Loss: 0.2197\n",
      "\n",
      "Color Distribution Analysis:\n",
      "Real Images - RGB Mean: [0.3948824  0.42063415 0.42124522]\n",
      "Fake Images - RGB Mean: [0.3388722  0.42033198 0.41222742]\n",
      "Real Images - Alpha Mean: 0.3905429\n",
      "Fake Images - Alpha Mean: 0.3387056\n"
     ]
    },
    {
     "name": "stderr",
     "output_type": "stream",
     "text": [
      "Epoch 80/300: 100%|██████████| 8/8 [00:04<00:00,  1.64it/s, D_loss=0.6201, G_loss=6.9229, D(x)=0.5611, D(G(z))=0.0019]\n",
      "Epoch 81/300:  12%|█▎        | 1/8 [00:01<00:09,  1.29s/it, D_loss=0.1073, G_loss=3.6778, D(x)=0.9149, D(G(z))=0.0428]"
     ]
    },
    {
     "name": "stdout",
     "output_type": "stream",
     "text": [
      "\n",
      "Debug Statistics - Epoch 80, Batch 0\n",
      "Generator Loss: 3.6778\n",
      "Discriminator Loss: 0.1073\n",
      "\n",
      "Color Distribution Analysis:\n",
      "Real Images - RGB Mean: [0.37388748 0.39994323 0.39775229]\n",
      "Fake Images - RGB Mean: [0.36255515 0.3922635  0.38841444]\n",
      "Real Images - Alpha Mean: 0.37053683\n",
      "Fake Images - Alpha Mean: 0.37027538\n"
     ]
    },
    {
     "name": "stderr",
     "output_type": "stream",
     "text": [
      "Epoch 81/300: 100%|██████████| 8/8 [00:04<00:00,  1.61it/s, D_loss=0.1769, G_loss=4.3642, D(x)=0.9516, D(G(z))=0.0159]\n",
      "Epoch 82/300:  12%|█▎        | 1/8 [00:00<00:06,  1.01it/s, D_loss=0.1663, G_loss=4.4947, D(x)=0.9310, D(G(z))=0.0135]"
     ]
    },
    {
     "name": "stdout",
     "output_type": "stream",
     "text": [
      "\n",
      "Debug Statistics - Epoch 81, Batch 0\n",
      "Generator Loss: 4.4947\n",
      "Discriminator Loss: 0.1663\n",
      "\n",
      "Color Distribution Analysis:\n",
      "Real Images - RGB Mean: [0.3776471  0.40321955 0.40030053]\n",
      "Fake Images - RGB Mean: [0.35670274 0.37000865 0.39626363]\n",
      "Real Images - Alpha Mean: 0.37520018\n",
      "Fake Images - Alpha Mean: 0.31781715\n"
     ]
    },
    {
     "name": "stderr",
     "output_type": "stream",
     "text": [
      "Epoch 82/300: 100%|██████████| 8/8 [00:04<00:00,  1.69it/s, D_loss=0.1060, G_loss=3.4482, D(x)=0.9554, D(G(z))=0.0416]\n",
      "Epoch 83/300:  12%|█▎        | 1/8 [00:00<00:06,  1.07it/s, D_loss=0.1929, G_loss=4.2820, D(x)=0.9836, D(G(z))=0.0165]"
     ]
    },
    {
     "name": "stdout",
     "output_type": "stream",
     "text": [
      "\n",
      "Debug Statistics - Epoch 82, Batch 0\n",
      "Generator Loss: 4.2820\n",
      "Discriminator Loss: 0.1929\n",
      "\n",
      "Color Distribution Analysis:\n",
      "Real Images - RGB Mean: [0.38675267 0.41344577 0.41134062]\n",
      "Fake Images - RGB Mean: [0.2912326  0.28149733 0.399089  ]\n",
      "Real Images - Alpha Mean: 0.38332918\n",
      "Fake Images - Alpha Mean: 0.3801832\n"
     ]
    },
    {
     "name": "stderr",
     "output_type": "stream",
     "text": [
      "Epoch 83/300: 100%|██████████| 8/8 [00:04<00:00,  1.71it/s, D_loss=0.2504, G_loss=4.0376, D(x)=0.8455, D(G(z))=0.0201]\n",
      "Epoch 84/300:  12%|█▎        | 1/8 [00:01<00:07,  1.04s/it, D_loss=0.1211, G_loss=4.0669, D(x)=0.9371, D(G(z))=0.0200]"
     ]
    },
    {
     "name": "stdout",
     "output_type": "stream",
     "text": [
      "\n",
      "Debug Statistics - Epoch 83, Batch 0\n",
      "Generator Loss: 4.0669\n",
      "Discriminator Loss: 0.1211\n",
      "\n",
      "Color Distribution Analysis:\n",
      "Real Images - RGB Mean: [0.38316214 0.40874428 0.40715158]\n",
      "Fake Images - RGB Mean: [0.31189144 0.35710496 0.3868289 ]\n",
      "Real Images - Alpha Mean: 0.37835422\n",
      "Fake Images - Alpha Mean: 0.31827033\n"
     ]
    },
    {
     "name": "stderr",
     "output_type": "stream",
     "text": [
      "Epoch 84/300: 100%|██████████| 8/8 [00:04<00:00,  1.67it/s, D_loss=0.5690, G_loss=8.9849, D(x)=0.9557, D(G(z))=0.0002]\n",
      "Epoch 85/300:  12%|█▎        | 1/8 [00:00<00:06,  1.07it/s, D_loss=0.6580, G_loss=5.2014, D(x)=0.5579, D(G(z))=0.0088]"
     ]
    },
    {
     "name": "stdout",
     "output_type": "stream",
     "text": [
      "\n",
      "Debug Statistics - Epoch 84, Batch 0\n",
      "Generator Loss: 5.2014\n",
      "Discriminator Loss: 0.6580\n",
      "\n",
      "Color Distribution Analysis:\n",
      "Real Images - RGB Mean: [0.3743948  0.40469828 0.40294325]\n",
      "Fake Images - RGB Mean: [0.3352437 0.4293774 0.3786742]\n",
      "Real Images - Alpha Mean: 0.3746606\n",
      "Fake Images - Alpha Mean: 0.3167069\n"
     ]
    },
    {
     "name": "stderr",
     "output_type": "stream",
     "text": [
      "Epoch 85/300: 100%|██████████| 8/8 [00:04<00:00,  1.70it/s, D_loss=0.2041, G_loss=4.1156, D(x)=0.8588, D(G(z))=0.0209]\n",
      "Epoch 86/300:  12%|█▎        | 1/8 [00:00<00:06,  1.06it/s, D_loss=0.2579, G_loss=5.6744, D(x)=0.9187, D(G(z))=0.0053]"
     ]
    },
    {
     "name": "stdout",
     "output_type": "stream",
     "text": [
      "\n",
      "Debug Statistics - Epoch 85, Batch 0\n",
      "Generator Loss: 5.6744\n",
      "Discriminator Loss: 0.2579\n",
      "\n",
      "Color Distribution Analysis:\n",
      "Real Images - RGB Mean: [0.39128026 0.41936302 0.41597393]\n",
      "Fake Images - RGB Mean: [0.36262688 0.3678161  0.36835986]\n",
      "Real Images - Alpha Mean: 0.38489398\n",
      "Fake Images - Alpha Mean: 0.36439654\n"
     ]
    },
    {
     "name": "stderr",
     "output_type": "stream",
     "text": [
      "Epoch 86/300: 100%|██████████| 8/8 [00:04<00:00,  1.68it/s, D_loss=0.1609, G_loss=4.8865, D(x)=0.9051, D(G(z))=0.0092]\n",
      "Epoch 87/300:  12%|█▎        | 1/8 [00:00<00:06,  1.01it/s, D_loss=0.1390, G_loss=4.0787, D(x)=0.9166, D(G(z))=0.0214]"
     ]
    },
    {
     "name": "stdout",
     "output_type": "stream",
     "text": [
      "\n",
      "Debug Statistics - Epoch 86, Batch 0\n",
      "Generator Loss: 4.0787\n",
      "Discriminator Loss: 0.1390\n",
      "\n",
      "Color Distribution Analysis:\n",
      "Real Images - RGB Mean: [0.37756693 0.4128625  0.41000223]\n",
      "Fake Images - RGB Mean: [0.34006634 0.43019596 0.40688354]\n",
      "Real Images - Alpha Mean: 0.3768116\n",
      "Fake Images - Alpha Mean: 0.33467144\n"
     ]
    },
    {
     "name": "stderr",
     "output_type": "stream",
     "text": [
      "Epoch 87/300: 100%|██████████| 8/8 [00:04<00:00,  1.65it/s, D_loss=0.1582, G_loss=7.1457, D(x)=0.9750, D(G(z))=0.0012]\n",
      "Epoch 88/300:  12%|█▎        | 1/8 [00:01<00:07,  1.09s/it, D_loss=0.2163, G_loss=3.6122, D(x)=0.8307, D(G(z))=0.0434]"
     ]
    },
    {
     "name": "stdout",
     "output_type": "stream",
     "text": [
      "\n",
      "Debug Statistics - Epoch 87, Batch 0\n",
      "Generator Loss: 3.6122\n",
      "Discriminator Loss: 0.2163\n",
      "\n",
      "Color Distribution Analysis:\n",
      "Real Images - RGB Mean: [0.36715022 0.39745623 0.39640653]\n",
      "Fake Images - RGB Mean: [0.38995454 0.34957492 0.36786038]\n",
      "Real Images - Alpha Mean: 0.3678597\n",
      "Fake Images - Alpha Mean: 0.39422983\n"
     ]
    },
    {
     "name": "stderr",
     "output_type": "stream",
     "text": [
      "Epoch 88/300: 100%|██████████| 8/8 [00:05<00:00,  1.36it/s, D_loss=0.4603, G_loss=7.8733, D(x)=0.9930, D(G(z))=0.0006]\n",
      "Epoch 89/300:  12%|█▎        | 1/8 [00:01<00:07,  1.14s/it, D_loss=0.1134, G_loss=6.3141, D(x)=0.9157, D(G(z))=0.0028]"
     ]
    },
    {
     "name": "stdout",
     "output_type": "stream",
     "text": [
      "\n",
      "Debug Statistics - Epoch 88, Batch 0\n",
      "Generator Loss: 6.3141\n",
      "Discriminator Loss: 0.1134\n",
      "\n",
      "Color Distribution Analysis:\n",
      "Real Images - RGB Mean: [0.37383735 0.4043783  0.40196854]\n",
      "Fake Images - RGB Mean: [0.3828836  0.41287345 0.38966537]\n",
      "Real Images - Alpha Mean: 0.37213707\n",
      "Fake Images - Alpha Mean: 0.36194026\n"
     ]
    },
    {
     "name": "stderr",
     "output_type": "stream",
     "text": [
      "Epoch 89/300: 100%|██████████| 8/8 [00:05<00:00,  1.59it/s, D_loss=0.7605, G_loss=2.2944, D(x)=0.5891, D(G(z))=0.1533] \n",
      "Epoch 90/300:  12%|█▎        | 1/8 [00:00<00:06,  1.03it/s, D_loss=1.9898, G_loss=9.8658, D(x)=0.9978, D(G(z))=0.0001]"
     ]
    },
    {
     "name": "stdout",
     "output_type": "stream",
     "text": [
      "\n",
      "Debug Statistics - Epoch 89, Batch 0\n",
      "Generator Loss: 9.8658\n",
      "Discriminator Loss: 1.9898\n",
      "\n",
      "Color Distribution Analysis:\n",
      "Real Images - RGB Mean: [0.3795993  0.40620843 0.4034745 ]\n",
      "Fake Images - RGB Mean: [0.37145737 0.37131813 0.36433026]\n",
      "Real Images - Alpha Mean: 0.37756768\n",
      "Fake Images - Alpha Mean: 0.3687491\n"
     ]
    },
    {
     "name": "stderr",
     "output_type": "stream",
     "text": [
      "Epoch 90/300: 100%|██████████| 8/8 [00:04<00:00,  1.66it/s, D_loss=0.1095, G_loss=5.3924, D(x)=0.9415, D(G(z))=0.0083]\n",
      "Epoch 91/300:  12%|█▎        | 1/8 [00:00<00:06,  1.04it/s, D_loss=0.1501, G_loss=4.9398, D(x)=0.9711, D(G(z))=0.0104]"
     ]
    },
    {
     "name": "stdout",
     "output_type": "stream",
     "text": [
      "\n",
      "Debug Statistics - Epoch 90, Batch 0\n",
      "Generator Loss: 4.9398\n",
      "Discriminator Loss: 0.1501\n",
      "\n",
      "Color Distribution Analysis:\n",
      "Real Images - RGB Mean: [0.37983343 0.40704393 0.40909898]\n",
      "Fake Images - RGB Mean: [0.42043975 0.391336   0.37660664]\n",
      "Real Images - Alpha Mean: 0.37798613\n",
      "Fake Images - Alpha Mean: 0.34311116\n"
     ]
    },
    {
     "name": "stderr",
     "output_type": "stream",
     "text": [
      "Epoch 91/300: 100%|██████████| 8/8 [00:04<00:00,  1.69it/s, D_loss=0.2235, G_loss=2.7748, D(x)=0.8352, D(G(z))=0.0741]\n",
      "Epoch 92/300:  12%|█▎        | 1/8 [00:00<00:06,  1.04it/s, D_loss=0.5224, G_loss=6.1273, D(x)=0.9889, D(G(z))=0.0083]"
     ]
    },
    {
     "name": "stdout",
     "output_type": "stream",
     "text": [
      "\n",
      "Debug Statistics - Epoch 91, Batch 0\n",
      "Generator Loss: 6.1273\n",
      "Discriminator Loss: 0.5224\n",
      "\n",
      "Color Distribution Analysis:\n",
      "Real Images - RGB Mean: [0.37053874 0.3963484  0.3939988 ]\n",
      "Fake Images - RGB Mean: [0.30488405 0.37683368 0.41651446]\n",
      "Real Images - Alpha Mean: 0.366861\n",
      "Fake Images - Alpha Mean: 0.36024594\n"
     ]
    },
    {
     "name": "stderr",
     "output_type": "stream",
     "text": [
      "Epoch 92/300: 100%|██████████| 8/8 [00:04<00:00,  1.66it/s, D_loss=0.1439, G_loss=5.9568, D(x)=0.8811, D(G(z))=0.0031]\n",
      "Epoch 93/300:  12%|█▎        | 1/8 [00:00<00:06,  1.05it/s, D_loss=0.1483, G_loss=4.1327, D(x)=0.8766, D(G(z))=0.0202]"
     ]
    },
    {
     "name": "stdout",
     "output_type": "stream",
     "text": [
      "\n",
      "Debug Statistics - Epoch 92, Batch 0\n",
      "Generator Loss: 4.1327\n",
      "Discriminator Loss: 0.1483\n",
      "\n",
      "Color Distribution Analysis:\n",
      "Real Images - RGB Mean: [0.37409106 0.39917606 0.39874792]\n",
      "Fake Images - RGB Mean: [0.3825217  0.40240583 0.38016748]\n",
      "Real Images - Alpha Mean: 0.36806595\n",
      "Fake Images - Alpha Mean: 0.36910197\n"
     ]
    },
    {
     "name": "stderr",
     "output_type": "stream",
     "text": [
      "Epoch 93/300: 100%|██████████| 8/8 [00:04<00:00,  1.65it/s, D_loss=0.5370, G_loss=10.0960, D(x)=0.9545, D(G(z))=0.0001]\n",
      "Epoch 94/300:  12%|█▎        | 1/8 [00:00<00:06,  1.01it/s, D_loss=1.0805, G_loss=4.0514, D(x)=0.3660, D(G(z))=0.0256]"
     ]
    },
    {
     "name": "stdout",
     "output_type": "stream",
     "text": [
      "\n",
      "Debug Statistics - Epoch 93, Batch 0\n",
      "Generator Loss: 4.0514\n",
      "Discriminator Loss: 1.0805\n",
      "\n",
      "Color Distribution Analysis:\n",
      "Real Images - RGB Mean: [0.39054415 0.41427657 0.41448924]\n",
      "Fake Images - RGB Mean: [0.3691027  0.37450537 0.42171726]\n",
      "Real Images - Alpha Mean: 0.38359058\n",
      "Fake Images - Alpha Mean: 0.35839534\n"
     ]
    },
    {
     "name": "stderr",
     "output_type": "stream",
     "text": [
      "Epoch 94/300: 100%|██████████| 8/8 [00:06<00:00,  1.28it/s, D_loss=0.3756, G_loss=1.5185, D(x)=0.7147, D(G(z))=0.2606] \n",
      "Epoch 95/300:  12%|█▎        | 1/8 [00:01<00:07,  1.02s/it, D_loss=0.3995, G_loss=3.1147, D(x)=0.9962, D(G(z))=0.0618]"
     ]
    },
    {
     "name": "stdout",
     "output_type": "stream",
     "text": [
      "\n",
      "Debug Statistics - Epoch 94, Batch 0\n",
      "Generator Loss: 3.1147\n",
      "Discriminator Loss: 0.3995\n",
      "\n",
      "Color Distribution Analysis:\n",
      "Real Images - RGB Mean: [0.38160077 0.4124218  0.40973532]\n",
      "Fake Images - RGB Mean: [0.3536729  0.4361856  0.42870417]\n",
      "Real Images - Alpha Mean: 0.3778439\n",
      "Fake Images - Alpha Mean: 0.3537253\n"
     ]
    },
    {
     "name": "stderr",
     "output_type": "stream",
     "text": [
      "Epoch 95/300: 100%|██████████| 8/8 [00:05<00:00,  1.46it/s, D_loss=0.2121, G_loss=4.4074, D(x)=0.9408, D(G(z))=0.0191]\n",
      "Epoch 96/300:  12%|█▎        | 1/8 [00:01<00:12,  1.83s/it, D_loss=0.2716, G_loss=6.3454, D(x)=0.9720, D(G(z))=0.0028]"
     ]
    },
    {
     "name": "stdout",
     "output_type": "stream",
     "text": [
      "\n",
      "Debug Statistics - Epoch 95, Batch 0\n",
      "Generator Loss: 6.3454\n",
      "Discriminator Loss: 0.2716\n",
      "\n",
      "Color Distribution Analysis:\n",
      "Real Images - RGB Mean: [0.38330436 0.41220835 0.4127775 ]\n",
      "Fake Images - RGB Mean: [0.32446134 0.31788433 0.33829448]\n",
      "Real Images - Alpha Mean: 0.3786351\n",
      "Fake Images - Alpha Mean: 0.35502708\n"
     ]
    },
    {
     "name": "stderr",
     "output_type": "stream",
     "text": [
      "Epoch 96/300: 100%|██████████| 8/8 [00:06<00:00,  1.21it/s, D_loss=0.6147, G_loss=4.1930, D(x)=0.6286, D(G(z))=0.0236] \n",
      "Epoch 97/300:  12%|█▎        | 1/8 [00:01<00:09,  1.36s/it, D_loss=0.1533, G_loss=3.0098, D(x)=0.9164, D(G(z))=0.0647]"
     ]
    },
    {
     "name": "stdout",
     "output_type": "stream",
     "text": [
      "\n",
      "Debug Statistics - Epoch 96, Batch 0\n",
      "Generator Loss: 3.0098\n",
      "Discriminator Loss: 0.1533\n",
      "\n",
      "Color Distribution Analysis:\n",
      "Real Images - RGB Mean: [0.3913576  0.4185307  0.42018342]\n",
      "Fake Images - RGB Mean: [0.39528102 0.37805745 0.3803192 ]\n",
      "Real Images - Alpha Mean: 0.38784492\n",
      "Fake Images - Alpha Mean: 0.33850378\n"
     ]
    },
    {
     "name": "stderr",
     "output_type": "stream",
     "text": [
      "Epoch 97/300: 100%|██████████| 8/8 [00:06<00:00,  1.32it/s, D_loss=0.4148, G_loss=3.5614, D(x)=0.8020, D(G(z))=0.0360]\n",
      "Epoch 98/300:  12%|█▎        | 1/8 [00:01<00:07,  1.03s/it, D_loss=0.2614, G_loss=4.7101, D(x)=0.9248, D(G(z))=0.0124]"
     ]
    },
    {
     "name": "stdout",
     "output_type": "stream",
     "text": [
      "\n",
      "Debug Statistics - Epoch 97, Batch 0\n",
      "Generator Loss: 4.7101\n",
      "Discriminator Loss: 0.2614\n",
      "\n",
      "Color Distribution Analysis:\n",
      "Real Images - RGB Mean: [0.38798577 0.41417503 0.41768274]\n",
      "Fake Images - RGB Mean: [0.36353025 0.37672216 0.3941909 ]\n",
      "Real Images - Alpha Mean: 0.38572764\n",
      "Fake Images - Alpha Mean: 0.3671967\n"
     ]
    },
    {
     "name": "stderr",
     "output_type": "stream",
     "text": [
      "Epoch 98/300: 100%|██████████| 8/8 [00:05<00:00,  1.51it/s, D_loss=0.2105, G_loss=4.1499, D(x)=0.8624, D(G(z))=0.0205]\n",
      "Epoch 99/300:  12%|█▎        | 1/8 [00:01<00:11,  1.67s/it, D_loss=0.1153, G_loss=4.9131, D(x)=0.9623, D(G(z))=0.0090]"
     ]
    },
    {
     "name": "stdout",
     "output_type": "stream",
     "text": [
      "\n",
      "Debug Statistics - Epoch 98, Batch 0\n",
      "Generator Loss: 4.9131\n",
      "Discriminator Loss: 0.1153\n",
      "\n",
      "Color Distribution Analysis:\n",
      "Real Images - RGB Mean: [0.3781604  0.40587202 0.40393925]\n",
      "Fake Images - RGB Mean: [0.36523905 0.4153904  0.40615886]\n",
      "Real Images - Alpha Mean: 0.37362662\n",
      "Fake Images - Alpha Mean: 0.35580152\n"
     ]
    },
    {
     "name": "stderr",
     "output_type": "stream",
     "text": [
      "Epoch 99/300: 100%|██████████| 8/8 [00:06<00:00,  1.16it/s, D_loss=0.2029, G_loss=4.7321, D(x)=0.9941, D(G(z))=0.0132]\n",
      "Epoch 100/300:  12%|█▎        | 1/8 [00:01<00:08,  1.20s/it, D_loss=0.2027, G_loss=6.2976, D(x)=0.9862, D(G(z))=0.0040]"
     ]
    },
    {
     "name": "stdout",
     "output_type": "stream",
     "text": [
      "\n",
      "Debug Statistics - Epoch 99, Batch 0\n",
      "Generator Loss: 6.2976\n",
      "Discriminator Loss: 0.2027\n",
      "\n",
      "Color Distribution Analysis:\n",
      "Real Images - RGB Mean: [0.37938854 0.4018362  0.4006208 ]\n",
      "Fake Images - RGB Mean: [0.38539463 0.3959428  0.40591195]\n",
      "Real Images - Alpha Mean: 0.37088752\n",
      "Fake Images - Alpha Mean: 0.3714471\n"
     ]
    },
    {
     "name": "stderr",
     "output_type": "stream",
     "text": [
      "Epoch 100/300: 100%|██████████| 8/8 [00:06<00:00,  1.32it/s, D_loss=0.0310, G_loss=4.1795, D(x)=0.9924, D(G(z))=0.0248]\n",
      "Epoch 101/300:  12%|█▎        | 1/8 [00:01<00:08,  1.19s/it, D_loss=0.1272, G_loss=4.6019, D(x)=0.9909, D(G(z))=0.0136]"
     ]
    },
    {
     "name": "stdout",
     "output_type": "stream",
     "text": [
      "\n",
      "Debug Statistics - Epoch 100, Batch 0\n",
      "Generator Loss: 4.6019\n",
      "Discriminator Loss: 0.1272\n",
      "\n",
      "Color Distribution Analysis:\n",
      "Real Images - RGB Mean: [0.37721917 0.40254545 0.39899597]\n",
      "Fake Images - RGB Mean: [0.36694232 0.4405644  0.4255286 ]\n",
      "Real Images - Alpha Mean: 0.37092957\n",
      "Fake Images - Alpha Mean: 0.35134703\n"
     ]
    },
    {
     "name": "stderr",
     "output_type": "stream",
     "text": [
      "Epoch 101/300: 100%|██████████| 8/8 [00:05<00:00,  1.34it/s, D_loss=0.1498, G_loss=5.3704, D(x)=0.9625, D(G(z))=0.0063] \n",
      "Epoch 102/300:  12%|█▎        | 1/8 [00:01<00:07,  1.03s/it, D_loss=0.0960, G_loss=5.0787, D(x)=0.9467, D(G(z))=0.0085]"
     ]
    },
    {
     "name": "stdout",
     "output_type": "stream",
     "text": [
      "\n",
      "Debug Statistics - Epoch 101, Batch 0\n",
      "Generator Loss: 5.0787\n",
      "Discriminator Loss: 0.0960\n",
      "\n",
      "Color Distribution Analysis:\n",
      "Real Images - RGB Mean: [0.375153   0.40159154 0.40351647]\n",
      "Fake Images - RGB Mean: [0.3646595  0.38133386 0.38835227]\n",
      "Real Images - Alpha Mean: 0.36955714\n",
      "Fake Images - Alpha Mean: 0.37573463\n"
     ]
    },
    {
     "name": "stderr",
     "output_type": "stream",
     "text": [
      "Epoch 102/300: 100%|██████████| 8/8 [00:05<00:00,  1.40it/s, D_loss=0.2344, G_loss=5.3735, D(x)=0.9256, D(G(z))=0.0056]\n",
      "Epoch 103/300:  12%|█▎        | 1/8 [00:01<00:08,  1.16s/it, D_loss=0.1695, G_loss=4.4991, D(x)=0.8822, D(G(z))=0.0132]"
     ]
    },
    {
     "name": "stdout",
     "output_type": "stream",
     "text": [
      "\n",
      "Debug Statistics - Epoch 102, Batch 0\n",
      "Generator Loss: 4.4991\n",
      "Discriminator Loss: 0.1695\n",
      "\n",
      "Color Distribution Analysis:\n",
      "Real Images - RGB Mean: [0.37748224 0.4046256  0.4055935 ]\n",
      "Fake Images - RGB Mean: [0.34892255 0.38370106 0.4167241 ]\n",
      "Real Images - Alpha Mean: 0.37569064\n",
      "Fake Images - Alpha Mean: 0.32643524\n"
     ]
    },
    {
     "name": "stderr",
     "output_type": "stream",
     "text": [
      "Epoch 103/300: 100%|██████████| 8/8 [00:05<00:00,  1.40it/s, D_loss=0.1374, G_loss=5.8059, D(x)=0.9667, D(G(z))=0.0044]\n",
      "Epoch 104/300:  12%|█▎        | 1/8 [00:00<00:06,  1.02it/s, D_loss=0.0406, G_loss=5.6391, D(x)=0.9874, D(G(z))=0.0048]"
     ]
    },
    {
     "name": "stdout",
     "output_type": "stream",
     "text": [
      "\n",
      "Debug Statistics - Epoch 103, Batch 0\n",
      "Generator Loss: 5.6391\n",
      "Discriminator Loss: 0.0406\n",
      "\n",
      "Color Distribution Analysis:\n",
      "Real Images - RGB Mean: [0.3857712  0.41504517 0.41376284]\n",
      "Fake Images - RGB Mean: [0.3919062 0.3879201 0.3902887]\n",
      "Real Images - Alpha Mean: 0.38393793\n",
      "Fake Images - Alpha Mean: 0.36891672\n"
     ]
    },
    {
     "name": "stderr",
     "output_type": "stream",
     "text": [
      "Epoch 104/300: 100%|██████████| 8/8 [00:06<00:00,  1.25it/s, D_loss=0.0703, G_loss=3.6912, D(x)=0.9964, D(G(z))=0.0517] \n",
      "Epoch 105/300:  12%|█▎        | 1/8 [00:01<00:09,  1.33s/it, D_loss=0.6145, G_loss=10.2892, D(x)=0.9959, D(G(z))=0.0011]"
     ]
    },
    {
     "name": "stdout",
     "output_type": "stream",
     "text": [
      "\n",
      "Debug Statistics - Epoch 104, Batch 0\n",
      "Generator Loss: 10.2892\n",
      "Discriminator Loss: 0.6145\n",
      "\n",
      "Color Distribution Analysis:\n",
      "Real Images - RGB Mean: [0.3845851  0.41447517 0.4114637 ]\n",
      "Fake Images - RGB Mean: [0.32790062 0.4129633  0.4143363 ]\n",
      "Real Images - Alpha Mean: 0.37967628\n",
      "Fake Images - Alpha Mean: 0.37464315\n"
     ]
    },
    {
     "name": "stderr",
     "output_type": "stream",
     "text": [
      "Epoch 105/300: 100%|██████████| 8/8 [00:05<00:00,  1.41it/s, D_loss=1.2100, G_loss=3.4485, D(x)=0.4215, D(G(z))=0.0975] \n",
      "Epoch 106/300:  12%|█▎        | 1/8 [00:01<00:08,  1.21s/it, D_loss=1.7765, G_loss=13.6158, D(x)=0.9931, D(G(z))=0.0002]"
     ]
    },
    {
     "name": "stdout",
     "output_type": "stream",
     "text": [
      "\n",
      "Debug Statistics - Epoch 105, Batch 0\n",
      "Generator Loss: 13.6158\n",
      "Discriminator Loss: 1.7765\n",
      "\n",
      "Color Distribution Analysis:\n",
      "Real Images - RGB Mean: [0.37799364 0.40345782 0.39922035]\n",
      "Fake Images - RGB Mean: [0.35442796 0.3611134  0.38219154]\n",
      "Real Images - Alpha Mean: 0.36941543\n",
      "Fake Images - Alpha Mean: 0.3406287\n"
     ]
    },
    {
     "name": "stderr",
     "output_type": "stream",
     "text": [
      "Epoch 106/300: 100%|██████████| 8/8 [00:05<00:00,  1.55it/s, D_loss=0.7158, G_loss=10.2104, D(x)=0.9826, D(G(z))=0.0001]\n",
      "Epoch 107/300:  12%|█▎        | 1/8 [00:01<00:08,  1.26s/it, D_loss=3.7020, G_loss=2.2672, D(x)=0.0474, D(G(z))=0.1718]"
     ]
    },
    {
     "name": "stdout",
     "output_type": "stream",
     "text": [
      "\n",
      "Debug Statistics - Epoch 106, Batch 0\n",
      "Generator Loss: 2.2672\n",
      "Discriminator Loss: 3.7020\n",
      "\n",
      "Color Distribution Analysis:\n",
      "Real Images - RGB Mean: [0.3829201  0.40922055 0.40736246]\n",
      "Fake Images - RGB Mean: [0.34175655 0.38234752 0.39558887]\n",
      "Real Images - Alpha Mean: 0.38041633\n",
      "Fake Images - Alpha Mean: 0.28917292\n"
     ]
    },
    {
     "name": "stderr",
     "output_type": "stream",
     "text": [
      "Epoch 107/300: 100%|██████████| 8/8 [00:06<00:00,  1.31it/s, D_loss=0.2550, G_loss=4.0581, D(x)=0.9440, D(G(z))=0.0240]\n",
      "Epoch 108/300:  12%|█▎        | 1/8 [00:01<00:09,  1.36s/it, D_loss=0.3292, G_loss=6.5753, D(x)=0.9477, D(G(z))=0.0029]"
     ]
    },
    {
     "name": "stdout",
     "output_type": "stream",
     "text": [
      "\n",
      "Debug Statistics - Epoch 107, Batch 0\n",
      "Generator Loss: 6.5753\n",
      "Discriminator Loss: 0.3292\n",
      "\n",
      "Color Distribution Analysis:\n",
      "Real Images - RGB Mean: [0.3815609 0.4116868 0.4055443]\n",
      "Fake Images - RGB Mean: [0.37460026 0.41666314 0.3451921 ]\n",
      "Real Images - Alpha Mean: 0.37257776\n",
      "Fake Images - Alpha Mean: 0.44155377\n"
     ]
    },
    {
     "name": "stderr",
     "output_type": "stream",
     "text": [
      "Epoch 108/300: 100%|██████████| 8/8 [00:06<00:00,  1.33it/s, D_loss=0.0587, G_loss=6.4875, D(x)=0.9742, D(G(z))=0.0037] \n",
      "Epoch 109/300:  12%|█▎        | 1/8 [00:01<00:08,  1.17s/it, D_loss=0.3584, G_loss=2.9251, D(x)=0.7317, D(G(z))=0.0745]"
     ]
    },
    {
     "name": "stdout",
     "output_type": "stream",
     "text": [
      "\n",
      "Debug Statistics - Epoch 108, Batch 0\n",
      "Generator Loss: 2.9251\n",
      "Discriminator Loss: 0.3584\n",
      "\n",
      "Color Distribution Analysis:\n",
      "Real Images - RGB Mean: [0.38472316 0.41266185 0.41196913]\n",
      "Fake Images - RGB Mean: [0.39417192 0.37074316 0.42977327]\n",
      "Real Images - Alpha Mean: 0.378179\n",
      "Fake Images - Alpha Mean: 0.33459494\n"
     ]
    },
    {
     "name": "stderr",
     "output_type": "stream",
     "text": [
      "Epoch 109/300: 100%|██████████| 8/8 [00:05<00:00,  1.45it/s, D_loss=0.1576, G_loss=4.0727, D(x)=0.9406, D(G(z))=0.0221]\n",
      "Epoch 110/300:  12%|█▎        | 1/8 [00:01<00:09,  1.39s/it, D_loss=0.2177, G_loss=4.8419, D(x)=0.9538, D(G(z))=0.0111]"
     ]
    },
    {
     "name": "stdout",
     "output_type": "stream",
     "text": [
      "\n",
      "Debug Statistics - Epoch 109, Batch 0\n",
      "Generator Loss: 4.8419\n",
      "Discriminator Loss: 0.2177\n",
      "\n",
      "Color Distribution Analysis:\n",
      "Real Images - RGB Mean: [0.38986325 0.41892895 0.4162103 ]\n",
      "Fake Images - RGB Mean: [0.3966111  0.40071782 0.33447117]\n",
      "Real Images - Alpha Mean: 0.38257807\n",
      "Fake Images - Alpha Mean: 0.35260588\n"
     ]
    },
    {
     "name": "stderr",
     "output_type": "stream",
     "text": [
      "Epoch 110/300: 100%|██████████| 8/8 [00:06<00:00,  1.20it/s, D_loss=0.2916, G_loss=4.9280, D(x)=0.7818, D(G(z))=0.0101]\n",
      "Epoch 111/300:  12%|█▎        | 1/8 [00:01<00:08,  1.14s/it, D_loss=0.2940, G_loss=2.6823, D(x)=0.8206, D(G(z))=0.0833]"
     ]
    },
    {
     "name": "stdout",
     "output_type": "stream",
     "text": [
      "\n",
      "Debug Statistics - Epoch 110, Batch 0\n",
      "Generator Loss: 2.6823\n",
      "Discriminator Loss: 0.2940\n",
      "\n",
      "Color Distribution Analysis:\n",
      "Real Images - RGB Mean: [0.3866245  0.41529477 0.4120698 ]\n",
      "Fake Images - RGB Mean: [0.29609844 0.3946864  0.42651093]\n",
      "Real Images - Alpha Mean: 0.3810863\n",
      "Fake Images - Alpha Mean: 0.3901946\n"
     ]
    },
    {
     "name": "stderr",
     "output_type": "stream",
     "text": [
      "Epoch 111/300: 100%|██████████| 8/8 [00:06<00:00,  1.28it/s, D_loss=0.2734, G_loss=3.6314, D(x)=0.8208, D(G(z))=0.0434]\n",
      "Epoch 112/300:  12%|█▎        | 1/8 [00:00<00:06,  1.03it/s, D_loss=0.2398, G_loss=5.7691, D(x)=0.9866, D(G(z))=0.0046]"
     ]
    },
    {
     "name": "stdout",
     "output_type": "stream",
     "text": [
      "\n",
      "Debug Statistics - Epoch 111, Batch 0\n",
      "Generator Loss: 5.7691\n",
      "Discriminator Loss: 0.2398\n",
      "\n",
      "Color Distribution Analysis:\n",
      "Real Images - RGB Mean: [0.37578645 0.39951697 0.4021597 ]\n",
      "Fake Images - RGB Mean: [0.40270013 0.38846213 0.39264697]\n",
      "Real Images - Alpha Mean: 0.373182\n",
      "Fake Images - Alpha Mean: 0.37693053\n"
     ]
    },
    {
     "name": "stderr",
     "output_type": "stream",
     "text": [
      "Epoch 112/300: 100%|██████████| 8/8 [00:04<00:00,  1.67it/s, D_loss=0.0851, G_loss=5.4361, D(x)=0.9790, D(G(z))=0.0061] \n",
      "Epoch 113/300:  12%|█▎        | 1/8 [00:01<00:11,  1.59s/it, D_loss=0.5220, G_loss=3.1388, D(x)=0.7051, D(G(z))=0.0642]"
     ]
    },
    {
     "name": "stdout",
     "output_type": "stream",
     "text": [
      "\n",
      "Debug Statistics - Epoch 112, Batch 0\n",
      "Generator Loss: 3.1388\n",
      "Discriminator Loss: 0.5220\n",
      "\n",
      "Color Distribution Analysis:\n",
      "Real Images - RGB Mean: [0.37834856 0.4062646  0.40132776]\n",
      "Fake Images - RGB Mean: [0.36316207 0.36727694 0.35719138]\n",
      "Real Images - Alpha Mean: 0.37185785\n",
      "Fake Images - Alpha Mean: 0.36433917\n"
     ]
    },
    {
     "name": "stderr",
     "output_type": "stream",
     "text": [
      "Epoch 113/300: 100%|██████████| 8/8 [00:06<00:00,  1.24it/s, D_loss=0.2103, G_loss=3.9550, D(x)=0.8215, D(G(z))=0.0302] \n",
      "Epoch 114/300:  12%|█▎        | 1/8 [00:01<00:10,  1.45s/it, D_loss=0.2620, G_loss=3.8250, D(x)=0.9621, D(G(z))=0.0278]"
     ]
    },
    {
     "name": "stdout",
     "output_type": "stream",
     "text": [
      "\n",
      "Debug Statistics - Epoch 113, Batch 0\n",
      "Generator Loss: 3.8250\n",
      "Discriminator Loss: 0.2620\n",
      "\n",
      "Color Distribution Analysis:\n",
      "Real Images - RGB Mean: [0.38387594 0.41785178 0.41570166]\n",
      "Fake Images - RGB Mean: [0.35372877 0.40097925 0.35956755]\n",
      "Real Images - Alpha Mean: 0.3823837\n",
      "Fake Images - Alpha Mean: 0.3498778\n"
     ]
    },
    {
     "name": "stderr",
     "output_type": "stream",
     "text": [
      "Epoch 114/300: 100%|██████████| 8/8 [00:06<00:00,  1.20it/s, D_loss=1.2531, G_loss=0.8799, D(x)=0.3417, D(G(z))=0.4840]\n",
      "Epoch 115/300:  12%|█▎        | 1/8 [00:01<00:07,  1.05s/it, D_loss=2.5473, G_loss=11.3827, D(x)=0.9968, D(G(z))=0.0000]"
     ]
    },
    {
     "name": "stdout",
     "output_type": "stream",
     "text": [
      "\n",
      "Debug Statistics - Epoch 114, Batch 0\n",
      "Generator Loss: 11.3827\n",
      "Discriminator Loss: 2.5473\n",
      "\n",
      "Color Distribution Analysis:\n",
      "Real Images - RGB Mean: [0.37032124 0.39942336 0.39731923]\n",
      "Fake Images - RGB Mean: [0.35958704 0.38684452 0.41323838]\n",
      "Real Images - Alpha Mean: 0.36720672\n",
      "Fake Images - Alpha Mean: 0.35724992\n"
     ]
    },
    {
     "name": "stderr",
     "output_type": "stream",
     "text": [
      "Epoch 115/300: 100%|██████████| 8/8 [00:05<00:00,  1.46it/s, D_loss=0.1848, G_loss=4.1113, D(x)=0.9707, D(G(z))=0.0204] \n",
      "Epoch 116/300:  12%|█▎        | 1/8 [00:01<00:07,  1.08s/it, D_loss=0.2509, G_loss=4.7772, D(x)=0.9399, D(G(z))=0.0104]"
     ]
    },
    {
     "name": "stdout",
     "output_type": "stream",
     "text": [
      "\n",
      "Debug Statistics - Epoch 115, Batch 0\n",
      "Generator Loss: 4.7772\n",
      "Discriminator Loss: 0.2509\n",
      "\n",
      "Color Distribution Analysis:\n",
      "Real Images - RGB Mean: [0.36918023 0.39523134 0.39775404]\n",
      "Fake Images - RGB Mean: [0.3785969  0.42160177 0.41617954]\n",
      "Real Images - Alpha Mean: 0.36673442\n",
      "Fake Images - Alpha Mean: 0.37146258\n"
     ]
    },
    {
     "name": "stderr",
     "output_type": "stream",
     "text": [
      "Epoch 116/300: 100%|██████████| 8/8 [00:05<00:00,  1.34it/s, D_loss=0.1596, G_loss=5.0452, D(x)=0.9497, D(G(z))=0.0085]\n",
      "Epoch 117/300:  12%|█▎        | 1/8 [00:01<00:09,  1.34s/it, D_loss=0.1435, G_loss=4.2331, D(x)=0.8971, D(G(z))=0.0190]"
     ]
    },
    {
     "name": "stdout",
     "output_type": "stream",
     "text": [
      "\n",
      "Debug Statistics - Epoch 116, Batch 0\n",
      "Generator Loss: 4.2331\n",
      "Discriminator Loss: 0.1435\n",
      "\n",
      "Color Distribution Analysis:\n",
      "Real Images - RGB Mean: [0.37993088 0.40746096 0.40799037]\n",
      "Fake Images - RGB Mean: [0.38969573 0.40595034 0.4267695 ]\n",
      "Real Images - Alpha Mean: 0.3788737\n",
      "Fake Images - Alpha Mean: 0.3350428\n"
     ]
    },
    {
     "name": "stderr",
     "output_type": "stream",
     "text": [
      "Epoch 117/300: 100%|██████████| 8/8 [00:06<00:00,  1.31it/s, D_loss=0.1017, G_loss=3.7258, D(x)=0.9602, D(G(z))=0.0290]\n",
      "Epoch 118/300:  12%|█▎        | 1/8 [00:01<00:07,  1.01s/it, D_loss=0.2998, G_loss=7.1427, D(x)=0.9821, D(G(z))=0.0014]"
     ]
    },
    {
     "name": "stdout",
     "output_type": "stream",
     "text": [
      "\n",
      "Debug Statistics - Epoch 117, Batch 0\n",
      "Generator Loss: 7.1427\n",
      "Discriminator Loss: 0.2998\n",
      "\n",
      "Color Distribution Analysis:\n",
      "Real Images - RGB Mean: [0.3761388  0.40281823 0.40118486]\n",
      "Fake Images - RGB Mean: [0.40862513 0.41561532 0.39743358]\n",
      "Real Images - Alpha Mean: 0.37140608\n",
      "Fake Images - Alpha Mean: 0.4026855\n"
     ]
    },
    {
     "name": "stderr",
     "output_type": "stream",
     "text": [
      "Epoch 118/300: 100%|██████████| 8/8 [00:05<00:00,  1.37it/s, D_loss=0.3555, G_loss=7.1736, D(x)=0.9508, D(G(z))=0.0014]\n",
      "Epoch 119/300:  12%|█▎        | 1/8 [00:01<00:08,  1.15s/it, D_loss=0.3158, G_loss=3.8590, D(x)=0.7663, D(G(z))=0.0288]"
     ]
    },
    {
     "name": "stdout",
     "output_type": "stream",
     "text": [
      "\n",
      "Debug Statistics - Epoch 118, Batch 0\n",
      "Generator Loss: 3.8590\n",
      "Discriminator Loss: 0.3158\n",
      "\n",
      "Color Distribution Analysis:\n",
      "Real Images - RGB Mean: [0.38684827 0.41372332 0.4124486 ]\n",
      "Fake Images - RGB Mean: [0.34100404 0.4045622  0.41362667]\n",
      "Real Images - Alpha Mean: 0.3820746\n",
      "Fake Images - Alpha Mean: 0.3439715\n"
     ]
    },
    {
     "name": "stderr",
     "output_type": "stream",
     "text": [
      "Epoch 119/300: 100%|██████████| 8/8 [00:05<00:00,  1.57it/s, D_loss=0.1236, G_loss=6.2323, D(x)=0.9077, D(G(z))=0.0033]\n",
      "Epoch 120/300:  12%|█▎        | 1/8 [00:01<00:07,  1.01s/it, D_loss=0.0967, G_loss=4.8539, D(x)=0.9201, D(G(z))=0.0110]"
     ]
    },
    {
     "name": "stdout",
     "output_type": "stream",
     "text": [
      "\n",
      "Debug Statistics - Epoch 119, Batch 0\n",
      "Generator Loss: 4.8539\n",
      "Discriminator Loss: 0.0967\n",
      "\n",
      "Color Distribution Analysis:\n",
      "Real Images - RGB Mean: [0.3862665  0.41487277 0.4128617 ]\n",
      "Fake Images - RGB Mean: [0.34587651 0.43557736 0.40533826]\n",
      "Real Images - Alpha Mean: 0.38485867\n",
      "Fake Images - Alpha Mean: 0.3162348\n"
     ]
    },
    {
     "name": "stderr",
     "output_type": "stream",
     "text": [
      "Epoch 120/300: 100%|██████████| 8/8 [00:04<00:00,  1.61it/s, D_loss=0.1679, G_loss=3.9186, D(x)=0.9211, D(G(z))=0.0235]\n",
      "Epoch 121/300:  12%|█▎        | 1/8 [00:01<00:08,  1.23s/it, D_loss=0.3841, G_loss=10.8467, D(x)=0.9925, D(G(z))=0.0000]"
     ]
    },
    {
     "name": "stdout",
     "output_type": "stream",
     "text": [
      "\n",
      "Debug Statistics - Epoch 120, Batch 0\n",
      "Generator Loss: 10.8467\n",
      "Discriminator Loss: 0.3841\n",
      "\n",
      "Color Distribution Analysis:\n",
      "Real Images - RGB Mean: [0.37925205 0.41106808 0.40777355]\n",
      "Fake Images - RGB Mean: [0.38046873 0.4103926  0.37906668]\n",
      "Real Images - Alpha Mean: 0.37473792\n",
      "Fake Images - Alpha Mean: 0.37588626\n"
     ]
    },
    {
     "name": "stderr",
     "output_type": "stream",
     "text": [
      "Epoch 121/300: 100%|██████████| 8/8 [00:05<00:00,  1.58it/s, D_loss=0.1285, G_loss=7.1066, D(x)=0.9043, D(G(z))=0.0035] \n",
      "Epoch 122/300:  12%|█▎        | 1/8 [00:01<00:07,  1.01s/it, D_loss=0.1915, G_loss=4.3830, D(x)=0.8627, D(G(z))=0.0224]"
     ]
    },
    {
     "name": "stdout",
     "output_type": "stream",
     "text": [
      "\n",
      "Debug Statistics - Epoch 121, Batch 0\n",
      "Generator Loss: 4.3830\n",
      "Discriminator Loss: 0.1915\n",
      "\n",
      "Color Distribution Analysis:\n",
      "Real Images - RGB Mean: [0.39066494 0.41424143 0.41543835]\n",
      "Fake Images - RGB Mean: [0.356144   0.3936461  0.41577062]\n",
      "Real Images - Alpha Mean: 0.39168784\n",
      "Fake Images - Alpha Mean: 0.36689767\n"
     ]
    },
    {
     "name": "stderr",
     "output_type": "stream",
     "text": [
      "Epoch 122/300: 100%|██████████| 8/8 [00:04<00:00,  1.66it/s, D_loss=0.7816, G_loss=7.9944, D(x)=0.9987, D(G(z))=0.0008] \n",
      "Epoch 123/300:  12%|█▎        | 1/8 [00:00<00:06,  1.02it/s, D_loss=0.0323, G_loss=8.3134, D(x)=0.9732, D(G(z))=0.0009]"
     ]
    },
    {
     "name": "stdout",
     "output_type": "stream",
     "text": [
      "\n",
      "Debug Statistics - Epoch 122, Batch 0\n",
      "Generator Loss: 8.3134\n",
      "Discriminator Loss: 0.0323\n",
      "\n",
      "Color Distribution Analysis:\n",
      "Real Images - RGB Mean: [0.38761172 0.41424903 0.4182274 ]\n",
      "Fake Images - RGB Mean: [0.40558317 0.41522944 0.4119735 ]\n",
      "Real Images - Alpha Mean: 0.3862353\n",
      "Fake Images - Alpha Mean: 0.38659889\n"
     ]
    },
    {
     "name": "stderr",
     "output_type": "stream",
     "text": [
      "Epoch 123/300: 100%|██████████| 8/8 [00:04<00:00,  1.64it/s, D_loss=0.8455, G_loss=10.4149, D(x)=0.9983, D(G(z))=0.0003]\n",
      "Epoch 124/300:  12%|█▎        | 1/8 [00:01<00:09,  1.36s/it, D_loss=0.0509, G_loss=9.5941, D(x)=0.9548, D(G(z))=0.0008]"
     ]
    },
    {
     "name": "stdout",
     "output_type": "stream",
     "text": [
      "\n",
      "Debug Statistics - Epoch 123, Batch 0\n",
      "Generator Loss: 9.5941\n",
      "Discriminator Loss: 0.0509\n",
      "\n",
      "Color Distribution Analysis:\n",
      "Real Images - RGB Mean: [0.38520274 0.4137931  0.4137504 ]\n",
      "Fake Images - RGB Mean: [0.35513294 0.38634843 0.39757305]\n",
      "Real Images - Alpha Mean: 0.37963772\n",
      "Fake Images - Alpha Mean: 0.33935684\n"
     ]
    },
    {
     "name": "stderr",
     "output_type": "stream",
     "text": [
      "Epoch 124/300: 100%|██████████| 8/8 [00:05<00:00,  1.53it/s, D_loss=0.3298, G_loss=8.1758, D(x)=0.9790, D(G(z))=0.0005]\n",
      "Epoch 125/300:  12%|█▎        | 1/8 [00:01<00:07,  1.04s/it, D_loss=1.0168, G_loss=1.9924, D(x)=0.4213, D(G(z))=0.2320]"
     ]
    },
    {
     "name": "stdout",
     "output_type": "stream",
     "text": [
      "\n",
      "Debug Statistics - Epoch 124, Batch 0\n",
      "Generator Loss: 1.9924\n",
      "Discriminator Loss: 1.0168\n",
      "\n",
      "Color Distribution Analysis:\n",
      "Real Images - RGB Mean: [0.38255444 0.41081133 0.40638602]\n",
      "Fake Images - RGB Mean: [0.3579945  0.3366903  0.32490695]\n",
      "Real Images - Alpha Mean: 0.3757648\n",
      "Fake Images - Alpha Mean: 0.3573085\n"
     ]
    },
    {
     "name": "stderr",
     "output_type": "stream",
     "text": [
      "Epoch 125/300: 100%|██████████| 8/8 [00:04<00:00,  1.63it/s, D_loss=0.3550, G_loss=4.4602, D(x)=0.9949, D(G(z))=0.0175] \n",
      "Epoch 126/300:  12%|█▎        | 1/8 [00:00<00:06,  1.01it/s, D_loss=0.1748, G_loss=4.6602, D(x)=0.9306, D(G(z))=0.0129]"
     ]
    },
    {
     "name": "stdout",
     "output_type": "stream",
     "text": [
      "\n",
      "Debug Statistics - Epoch 125, Batch 0\n",
      "Generator Loss: 4.6602\n",
      "Discriminator Loss: 0.1748\n",
      "\n",
      "Color Distribution Analysis:\n",
      "Real Images - RGB Mean: [0.3944355  0.42669037 0.42642632]\n",
      "Fake Images - RGB Mean: [0.38539663 0.40719515 0.4011103 ]\n",
      "Real Images - Alpha Mean: 0.38848135\n",
      "Fake Images - Alpha Mean: 0.3243577\n"
     ]
    },
    {
     "name": "stderr",
     "output_type": "stream",
     "text": [
      "Epoch 126/300: 100%|██████████| 8/8 [00:04<00:00,  1.65it/s, D_loss=0.1368, G_loss=6.1183, D(x)=0.9491, D(G(z))=0.0028]\n",
      "Epoch 127/300:  12%|█▎        | 1/8 [00:00<00:06,  1.01it/s, D_loss=0.2040, G_loss=5.1243, D(x)=0.8857, D(G(z))=0.0080]"
     ]
    },
    {
     "name": "stdout",
     "output_type": "stream",
     "text": [
      "\n",
      "Debug Statistics - Epoch 126, Batch 0\n",
      "Generator Loss: 5.1243\n",
      "Discriminator Loss: 0.2040\n",
      "\n",
      "Color Distribution Analysis:\n",
      "Real Images - RGB Mean: [0.37627852 0.4042867  0.40395862]\n",
      "Fake Images - RGB Mean: [0.31052673 0.3549603  0.37962297]\n",
      "Real Images - Alpha Mean: 0.3752352\n",
      "Fake Images - Alpha Mean: 0.30953765\n"
     ]
    },
    {
     "name": "stderr",
     "output_type": "stream",
     "text": [
      "Epoch 127/300: 100%|██████████| 8/8 [00:05<00:00,  1.42it/s, D_loss=0.1268, G_loss=6.4579, D(x)=0.9882, D(G(z))=0.0021] \n",
      "Epoch 128/300:  12%|█▎        | 1/8 [00:01<00:09,  1.36s/it, D_loss=0.0808, G_loss=5.6666, D(x)=0.9393, D(G(z))=0.0049]"
     ]
    },
    {
     "name": "stdout",
     "output_type": "stream",
     "text": [
      "\n",
      "Debug Statistics - Epoch 127, Batch 0\n",
      "Generator Loss: 5.6666\n",
      "Discriminator Loss: 0.0808\n",
      "\n",
      "Color Distribution Analysis:\n",
      "Real Images - RGB Mean: [0.38694775 0.41136798 0.41151127]\n",
      "Fake Images - RGB Mean: [0.3553305  0.37082633 0.4391806 ]\n",
      "Real Images - Alpha Mean: 0.38134408\n",
      "Fake Images - Alpha Mean: 0.3814818\n"
     ]
    },
    {
     "name": "stderr",
     "output_type": "stream",
     "text": [
      "Epoch 128/300: 100%|██████████| 8/8 [00:06<00:00,  1.29it/s, D_loss=1.2161, G_loss=8.4749, D(x)=0.3442, D(G(z))=0.0004] \n",
      "Epoch 129/300:  12%|█▎        | 1/8 [00:01<00:10,  1.50s/it, D_loss=0.0206, G_loss=7.0820, D(x)=0.9808, D(G(z))=0.0022]"
     ]
    },
    {
     "name": "stdout",
     "output_type": "stream",
     "text": [
      "\n",
      "Debug Statistics - Epoch 128, Batch 0\n",
      "Generator Loss: 7.0820\n",
      "Discriminator Loss: 0.0206\n",
      "\n",
      "Color Distribution Analysis:\n",
      "Real Images - RGB Mean: [0.3819695  0.40828684 0.40421936]\n",
      "Fake Images - RGB Mean: [0.408075   0.4495373  0.40140966]\n",
      "Real Images - Alpha Mean: 0.37543356\n",
      "Fake Images - Alpha Mean: 0.40876222\n"
     ]
    },
    {
     "name": "stderr",
     "output_type": "stream",
     "text": [
      "Epoch 129/300: 100%|██████████| 8/8 [00:06<00:00,  1.28it/s, D_loss=0.2107, G_loss=3.5224, D(x)=0.8571, D(G(z))=0.0382]\n",
      "Epoch 130/300:  12%|█▎        | 1/8 [00:01<00:09,  1.31s/it, D_loss=0.1554, G_loss=5.0031, D(x)=0.9870, D(G(z))=0.0083]"
     ]
    },
    {
     "name": "stdout",
     "output_type": "stream",
     "text": [
      "\n",
      "Debug Statistics - Epoch 129, Batch 0\n",
      "Generator Loss: 5.0031\n",
      "Discriminator Loss: 0.1554\n",
      "\n",
      "Color Distribution Analysis:\n",
      "Real Images - RGB Mean: [0.37689105 0.40447497 0.40552586]\n",
      "Fake Images - RGB Mean: [0.36559504 0.42219532 0.4333361 ]\n",
      "Real Images - Alpha Mean: 0.3768514\n",
      "Fake Images - Alpha Mean: 0.40164724\n"
     ]
    },
    {
     "name": "stderr",
     "output_type": "stream",
     "text": [
      "Epoch 130/300: 100%|██████████| 8/8 [00:05<00:00,  1.40it/s, D_loss=0.0705, G_loss=5.2880, D(x)=0.9716, D(G(z))=0.0066]\n",
      "Epoch 131/300:  12%|█▎        | 1/8 [00:01<00:08,  1.20s/it, D_loss=0.1583, G_loss=4.1490, D(x)=0.8928, D(G(z))=0.0195]"
     ]
    },
    {
     "name": "stdout",
     "output_type": "stream",
     "text": [
      "\n",
      "Debug Statistics - Epoch 130, Batch 0\n",
      "Generator Loss: 4.1490\n",
      "Discriminator Loss: 0.1583\n",
      "\n",
      "Color Distribution Analysis:\n",
      "Real Images - RGB Mean: [0.3873593 0.4148798 0.4144721]\n",
      "Fake Images - RGB Mean: [0.40987927 0.41996077 0.39455053]\n",
      "Real Images - Alpha Mean: 0.38426828\n",
      "Fake Images - Alpha Mean: 0.37489325\n"
     ]
    },
    {
     "name": "stderr",
     "output_type": "stream",
     "text": [
      "Epoch 131/300: 100%|██████████| 8/8 [00:05<00:00,  1.56it/s, D_loss=0.0826, G_loss=4.3642, D(x)=0.9311, D(G(z))=0.0201] \n",
      "Epoch 132/300:  12%|█▎        | 1/8 [00:01<00:07,  1.08s/it, D_loss=0.2737, G_loss=5.8309, D(x)=0.9929, D(G(z))=0.0049]"
     ]
    },
    {
     "name": "stdout",
     "output_type": "stream",
     "text": [
      "\n",
      "Debug Statistics - Epoch 131, Batch 0\n",
      "Generator Loss: 5.8309\n",
      "Discriminator Loss: 0.2737\n",
      "\n",
      "Color Distribution Analysis:\n",
      "Real Images - RGB Mean: [0.37242624 0.40012017 0.39755392]\n",
      "Fake Images - RGB Mean: [0.361168   0.36568466 0.3997359 ]\n",
      "Real Images - Alpha Mean: 0.37004435\n",
      "Fake Images - Alpha Mean: 0.3905897\n"
     ]
    },
    {
     "name": "stderr",
     "output_type": "stream",
     "text": [
      "Epoch 132/300: 100%|██████████| 8/8 [00:05<00:00,  1.57it/s, D_loss=0.2381, G_loss=6.3525, D(x)=0.8008, D(G(z))=0.0032]\n",
      "Epoch 133/300:  12%|█▎        | 1/8 [00:00<00:06,  1.03it/s, D_loss=0.0412, G_loss=4.5183, D(x)=0.9898, D(G(z))=0.0166]"
     ]
    },
    {
     "name": "stdout",
     "output_type": "stream",
     "text": [
      "\n",
      "Debug Statistics - Epoch 132, Batch 0\n",
      "Generator Loss: 4.5183\n",
      "Discriminator Loss: 0.0412\n",
      "\n",
      "Color Distribution Analysis:\n",
      "Real Images - RGB Mean: [0.37948784 0.40632635 0.4005841 ]\n",
      "Fake Images - RGB Mean: [0.35523474 0.37191752 0.35891372]\n",
      "Real Images - Alpha Mean: 0.37346607\n",
      "Fake Images - Alpha Mean: 0.35615212\n"
     ]
    },
    {
     "name": "stderr",
     "output_type": "stream",
     "text": [
      "Epoch 133/300: 100%|██████████| 8/8 [00:04<00:00,  1.66it/s, D_loss=0.2113, G_loss=6.0909, D(x)=0.9773, D(G(z))=0.0038]\n",
      "Epoch 134/300:  12%|█▎        | 1/8 [00:01<00:07,  1.00s/it, D_loss=0.0965, G_loss=6.2716, D(x)=0.9684, D(G(z))=0.0032]"
     ]
    },
    {
     "name": "stdout",
     "output_type": "stream",
     "text": [
      "\n",
      "Debug Statistics - Epoch 133, Batch 0\n",
      "Generator Loss: 6.2716\n",
      "Discriminator Loss: 0.0965\n",
      "\n",
      "Color Distribution Analysis:\n",
      "Real Images - RGB Mean: [0.37263805 0.3989197  0.39737636]\n",
      "Fake Images - RGB Mean: [0.391099   0.40216237 0.4020154 ]\n",
      "Real Images - Alpha Mean: 0.36944932\n",
      "Fake Images - Alpha Mean: 0.35097802\n"
     ]
    },
    {
     "name": "stderr",
     "output_type": "stream",
     "text": [
      "Epoch 134/300: 100%|██████████| 8/8 [00:04<00:00,  1.62it/s, D_loss=0.1675, G_loss=6.9317, D(x)=0.9969, D(G(z))=0.0017]\n",
      "Epoch 135/300:  12%|█▎        | 1/8 [00:01<00:09,  1.34s/it, D_loss=0.0130, G_loss=7.3749, D(x)=0.9947, D(G(z))=0.0013]"
     ]
    },
    {
     "name": "stdout",
     "output_type": "stream",
     "text": [
      "\n",
      "Debug Statistics - Epoch 134, Batch 0\n",
      "Generator Loss: 7.3749\n",
      "Discriminator Loss: 0.0130\n",
      "\n",
      "Color Distribution Analysis:\n",
      "Real Images - RGB Mean: [0.38447443 0.4132498  0.4100702 ]\n",
      "Fake Images - RGB Mean: [0.34288156 0.38808993 0.40098137]\n",
      "Real Images - Alpha Mean: 0.37565494\n",
      "Fake Images - Alpha Mean: 0.33339408\n"
     ]
    },
    {
     "name": "stderr",
     "output_type": "stream",
     "text": [
      "Epoch 135/300: 100%|██████████| 8/8 [00:05<00:00,  1.42it/s, D_loss=0.1800, G_loss=8.7680, D(x)=0.9917, D(G(z))=0.0003]\n",
      "Epoch 136/300:  12%|█▎        | 1/8 [00:01<00:07,  1.09s/it, D_loss=0.1096, G_loss=6.9622, D(x)=0.9177, D(G(z))=0.0019]"
     ]
    },
    {
     "name": "stdout",
     "output_type": "stream",
     "text": [
      "\n",
      "Debug Statistics - Epoch 135, Batch 0\n",
      "Generator Loss: 6.9622\n",
      "Discriminator Loss: 0.1096\n",
      "\n",
      "Color Distribution Analysis:\n",
      "Real Images - RGB Mean: [0.37600043 0.4053999  0.40473342]\n",
      "Fake Images - RGB Mean: [0.38629365 0.43107247 0.3972027 ]\n",
      "Real Images - Alpha Mean: 0.3722615\n",
      "Fake Images - Alpha Mean: 0.35160884\n"
     ]
    },
    {
     "name": "stderr",
     "output_type": "stream",
     "text": [
      "Epoch 136/300: 100%|██████████| 8/8 [00:05<00:00,  1.50it/s, D_loss=1.7943, G_loss=19.8715, D(x)=0.9998, D(G(z))=0.0000]\n",
      "Epoch 137/300:  12%|█▎        | 1/8 [00:01<00:08,  1.19s/it, D_loss=3.5978, G_loss=11.0346, D(x)=0.0446, D(G(z))=0.0001]"
     ]
    },
    {
     "name": "stdout",
     "output_type": "stream",
     "text": [
      "\n",
      "Debug Statistics - Epoch 136, Batch 0\n",
      "Generator Loss: 11.0346\n",
      "Discriminator Loss: 3.5978\n",
      "\n",
      "Color Distribution Analysis:\n",
      "Real Images - RGB Mean: [0.38838214 0.41125792 0.4124112 ]\n",
      "Fake Images - RGB Mean: [0.45365053 0.42362756 0.39564276]\n",
      "Real Images - Alpha Mean: 0.38216707\n",
      "Fake Images - Alpha Mean: 0.43229532\n"
     ]
    },
    {
     "name": "stderr",
     "output_type": "stream",
     "text": [
      "Epoch 137/300: 100%|██████████| 8/8 [00:05<00:00,  1.37it/s, D_loss=0.4928, G_loss=8.6465, D(x)=0.9962, D(G(z))=0.0004] \n",
      "Epoch 138/300:  12%|█▎        | 1/8 [00:00<00:06,  1.04it/s, D_loss=0.3238, G_loss=7.6193, D(x)=0.7781, D(G(z))=0.0017]"
     ]
    },
    {
     "name": "stdout",
     "output_type": "stream",
     "text": [
      "\n",
      "Debug Statistics - Epoch 137, Batch 0\n",
      "Generator Loss: 7.6193\n",
      "Discriminator Loss: 0.3238\n",
      "\n",
      "Color Distribution Analysis:\n",
      "Real Images - RGB Mean: [0.37267965 0.39918327 0.3963341 ]\n",
      "Fake Images - RGB Mean: [0.38098952 0.4251767  0.443378  ]\n",
      "Real Images - Alpha Mean: 0.3677014\n",
      "Fake Images - Alpha Mean: 0.3764487\n"
     ]
    },
    {
     "name": "stderr",
     "output_type": "stream",
     "text": [
      "Epoch 138/300: 100%|██████████| 8/8 [00:05<00:00,  1.40it/s, D_loss=2.6588, G_loss=13.0416, D(x)=0.9939, D(G(z))=0.0000]\n",
      "Epoch 139/300:  12%|█▎        | 1/8 [00:01<00:09,  1.39s/it, D_loss=2.1808, G_loss=9.3169, D(x)=0.1918, D(G(z))=0.0003]"
     ]
    },
    {
     "name": "stdout",
     "output_type": "stream",
     "text": [
      "\n",
      "Debug Statistics - Epoch 138, Batch 0\n",
      "Generator Loss: 9.3169\n",
      "Discriminator Loss: 2.1808\n",
      "\n",
      "Color Distribution Analysis:\n",
      "Real Images - RGB Mean: [0.3734061  0.39920735 0.3980773 ]\n",
      "Fake Images - RGB Mean: [0.33191144 0.3729876  0.37771952]\n",
      "Real Images - Alpha Mean: 0.36753154\n",
      "Fake Images - Alpha Mean: 0.35365272\n"
     ]
    },
    {
     "name": "stderr",
     "output_type": "stream",
     "text": [
      "Epoch 139/300: 100%|██████████| 8/8 [00:05<00:00,  1.41it/s, D_loss=0.8535, G_loss=3.1769, D(x)=0.4925, D(G(z))=0.0533]\n",
      "Epoch 140/300:  12%|█▎        | 1/8 [00:01<00:09,  1.30s/it, D_loss=0.3212, G_loss=5.5032, D(x)=0.9873, D(G(z))=0.0059]"
     ]
    },
    {
     "name": "stdout",
     "output_type": "stream",
     "text": [
      "\n",
      "Debug Statistics - Epoch 139, Batch 0\n",
      "Generator Loss: 5.5032\n",
      "Discriminator Loss: 0.3212\n",
      "\n",
      "Color Distribution Analysis:\n",
      "Real Images - RGB Mean: [0.37784916 0.40780863 0.40263692]\n",
      "Fake Images - RGB Mean: [0.3460591  0.34745675 0.37079912]\n",
      "Real Images - Alpha Mean: 0.37177405\n",
      "Fake Images - Alpha Mean: 0.3994133\n"
     ]
    },
    {
     "name": "stderr",
     "output_type": "stream",
     "text": [
      "Epoch 140/300: 100%|██████████| 8/8 [00:05<00:00,  1.42it/s, D_loss=0.2668, G_loss=7.6553, D(x)=0.7823, D(G(z))=0.0019]\n",
      "Epoch 141/300:  12%|█▎        | 1/8 [00:01<00:09,  1.38s/it, D_loss=0.2342, G_loss=4.7472, D(x)=0.8344, D(G(z))=0.0143]"
     ]
    },
    {
     "name": "stdout",
     "output_type": "stream",
     "text": [
      "\n",
      "Debug Statistics - Epoch 140, Batch 0\n",
      "Generator Loss: 4.7472\n",
      "Discriminator Loss: 0.2342\n",
      "\n",
      "Color Distribution Analysis:\n",
      "Real Images - RGB Mean: [0.38573387 0.41247925 0.4126519 ]\n",
      "Fake Images - RGB Mean: [0.36487567 0.41420513 0.40546215]\n",
      "Real Images - Alpha Mean: 0.384419\n",
      "Fake Images - Alpha Mean: 0.33596668\n"
     ]
    },
    {
     "name": "stderr",
     "output_type": "stream",
     "text": [
      "Epoch 141/300: 100%|██████████| 8/8 [00:05<00:00,  1.45it/s, D_loss=1.5745, G_loss=9.4061, D(x)=0.2669, D(G(z))=0.0001] \n",
      "Epoch 142/300:  12%|█▎        | 1/8 [00:00<00:06,  1.02it/s, D_loss=0.3098, G_loss=6.3829, D(x)=0.7566, D(G(z))=0.0028]"
     ]
    },
    {
     "name": "stdout",
     "output_type": "stream",
     "text": [
      "\n",
      "Debug Statistics - Epoch 141, Batch 0\n",
      "Generator Loss: 6.3829\n",
      "Discriminator Loss: 0.3098\n",
      "\n",
      "Color Distribution Analysis:\n",
      "Real Images - RGB Mean: [0.38315776 0.41647905 0.41436777]\n",
      "Fake Images - RGB Mean: [0.39028415 0.40692687 0.4348472 ]\n",
      "Real Images - Alpha Mean: 0.3816227\n",
      "Fake Images - Alpha Mean: 0.36009845\n"
     ]
    },
    {
     "name": "stderr",
     "output_type": "stream",
     "text": [
      "Epoch 142/300: 100%|██████████| 8/8 [00:04<00:00,  1.64it/s, D_loss=0.4274, G_loss=3.8133, D(x)=0.8071, D(G(z))=0.0372]\n",
      "Epoch 143/300:  12%|█▎        | 1/8 [00:00<00:06,  1.04it/s, D_loss=0.4001, G_loss=8.0274, D(x)=0.9728, D(G(z))=0.0010]"
     ]
    },
    {
     "name": "stdout",
     "output_type": "stream",
     "text": [
      "\n",
      "Debug Statistics - Epoch 142, Batch 0\n",
      "Generator Loss: 8.0274\n",
      "Discriminator Loss: 0.4001\n",
      "\n",
      "Color Distribution Analysis:\n",
      "Real Images - RGB Mean: [0.37575674 0.4032845  0.40037522]\n",
      "Fake Images - RGB Mean: [0.38054684 0.39556825 0.37820825]\n",
      "Real Images - Alpha Mean: 0.3704451\n",
      "Fake Images - Alpha Mean: 0.33207262\n"
     ]
    },
    {
     "name": "stderr",
     "output_type": "stream",
     "text": [
      "Epoch 143/300: 100%|██████████| 8/8 [00:04<00:00,  1.63it/s, D_loss=0.1645, G_loss=3.7888, D(x)=0.9261, D(G(z))=0.0305]\n",
      "Epoch 144/300:  12%|█▎        | 1/8 [00:00<00:06,  1.06it/s, D_loss=0.2269, G_loss=5.5496, D(x)=0.9611, D(G(z))=0.0050]"
     ]
    },
    {
     "name": "stdout",
     "output_type": "stream",
     "text": [
      "\n",
      "Debug Statistics - Epoch 143, Batch 0\n",
      "Generator Loss: 5.5496\n",
      "Discriminator Loss: 0.2269\n",
      "\n",
      "Color Distribution Analysis:\n",
      "Real Images - RGB Mean: [0.37694958 0.40197572 0.40328336]\n",
      "Fake Images - RGB Mean: [0.3443377 0.4203985 0.3907293]\n",
      "Real Images - Alpha Mean: 0.37357238\n",
      "Fake Images - Alpha Mean: 0.37058097\n"
     ]
    },
    {
     "name": "stderr",
     "output_type": "stream",
     "text": [
      "Epoch 144/300: 100%|██████████| 8/8 [00:04<00:00,  1.63it/s, D_loss=0.2532, G_loss=5.1631, D(x)=0.9917, D(G(z))=0.0076] \n",
      "Epoch 145/300:  12%|█▎        | 1/8 [00:01<00:07,  1.12s/it, D_loss=0.0589, G_loss=5.4351, D(x)=0.9933, D(G(z))=0.0055]"
     ]
    },
    {
     "name": "stdout",
     "output_type": "stream",
     "text": [
      "\n",
      "Debug Statistics - Epoch 144, Batch 0\n",
      "Generator Loss: 5.4351\n",
      "Discriminator Loss: 0.0589\n",
      "\n",
      "Color Distribution Analysis:\n",
      "Real Images - RGB Mean: [0.37735903 0.4065241  0.40583462]\n",
      "Fake Images - RGB Mean: [0.3836119  0.39520723 0.3669399 ]\n",
      "Real Images - Alpha Mean: 0.37509137\n",
      "Fake Images - Alpha Mean: 0.41320294\n"
     ]
    },
    {
     "name": "stderr",
     "output_type": "stream",
     "text": [
      "Epoch 145/300: 100%|██████████| 8/8 [00:05<00:00,  1.40it/s, D_loss=0.1590, G_loss=3.7726, D(x)=0.8731, D(G(z))=0.0284]\n",
      "Epoch 146/300:  12%|█▎        | 1/8 [00:01<00:08,  1.19s/it, D_loss=0.3139, G_loss=6.6130, D(x)=0.9789, D(G(z))=0.0019]"
     ]
    },
    {
     "name": "stdout",
     "output_type": "stream",
     "text": [
      "\n",
      "Debug Statistics - Epoch 145, Batch 0\n",
      "Generator Loss: 6.6130\n",
      "Discriminator Loss: 0.3139\n",
      "\n",
      "Color Distribution Analysis:\n",
      "Real Images - RGB Mean: [0.37579763 0.40730202 0.407814  ]\n",
      "Fake Images - RGB Mean: [0.38746297 0.43289742 0.41386965]\n",
      "Real Images - Alpha Mean: 0.37282225\n",
      "Fake Images - Alpha Mean: 0.37306905\n"
     ]
    },
    {
     "name": "stderr",
     "output_type": "stream",
     "text": [
      "Epoch 146/300: 100%|██████████| 8/8 [00:06<00:00,  1.31it/s, D_loss=0.1079, G_loss=4.8417, D(x)=0.9117, D(G(z))=0.0101]\n",
      "Epoch 147/300:  12%|█▎        | 1/8 [00:01<00:08,  1.18s/it, D_loss=0.1144, G_loss=3.8092, D(x)=0.9327, D(G(z))=0.0281]"
     ]
    },
    {
     "name": "stdout",
     "output_type": "stream",
     "text": [
      "\n",
      "Debug Statistics - Epoch 146, Batch 0\n",
      "Generator Loss: 3.8092\n",
      "Discriminator Loss: 0.1144\n",
      "\n",
      "Color Distribution Analysis:\n",
      "Real Images - RGB Mean: [0.38445207 0.41327223 0.41020864]\n",
      "Fake Images - RGB Mean: [0.35234305 0.42455992 0.41926453]\n",
      "Real Images - Alpha Mean: 0.3822663\n",
      "Fake Images - Alpha Mean: 0.38781187\n"
     ]
    },
    {
     "name": "stderr",
     "output_type": "stream",
     "text": [
      "Epoch 147/300: 100%|██████████| 8/8 [00:06<00:00,  1.33it/s, D_loss=0.1039, G_loss=4.9737, D(x)=0.9354, D(G(z))=0.0088]\n",
      "Epoch 148/300:  12%|█▎        | 1/8 [00:01<00:07,  1.13s/it, D_loss=0.0823, G_loss=5.2630, D(x)=0.9745, D(G(z))=0.0065]"
     ]
    },
    {
     "name": "stdout",
     "output_type": "stream",
     "text": [
      "\n",
      "Debug Statistics - Epoch 147, Batch 0\n",
      "Generator Loss: 5.2630\n",
      "Discriminator Loss: 0.0823\n",
      "\n",
      "Color Distribution Analysis:\n",
      "Real Images - RGB Mean: [0.37272298 0.40251455 0.3978358 ]\n",
      "Fake Images - RGB Mean: [0.36665347 0.41170132 0.40420863]\n",
      "Real Images - Alpha Mean: 0.36609292\n",
      "Fake Images - Alpha Mean: 0.356143\n"
     ]
    },
    {
     "name": "stderr",
     "output_type": "stream",
     "text": [
      "Epoch 148/300: 100%|██████████| 8/8 [00:05<00:00,  1.44it/s, D_loss=0.0304, G_loss=6.4997, D(x)=0.9925, D(G(z))=0.0046] \n",
      "Epoch 149/300:  12%|█▎        | 1/8 [00:01<00:08,  1.22s/it, D_loss=0.0386, G_loss=5.8664, D(x)=0.9824, D(G(z))=0.0062]"
     ]
    },
    {
     "name": "stdout",
     "output_type": "stream",
     "text": [
      "\n",
      "Debug Statistics - Epoch 148, Batch 0\n",
      "Generator Loss: 5.8664\n",
      "Discriminator Loss: 0.0386\n",
      "\n",
      "Color Distribution Analysis:\n",
      "Real Images - RGB Mean: [0.3915873  0.417968   0.41790187]\n",
      "Fake Images - RGB Mean: [0.350955   0.38692147 0.41557318]\n",
      "Real Images - Alpha Mean: 0.38820484\n",
      "Fake Images - Alpha Mean: 0.36529502\n"
     ]
    },
    {
     "name": "stderr",
     "output_type": "stream",
     "text": [
      "Epoch 149/300: 100%|██████████| 8/8 [00:05<00:00,  1.35it/s, D_loss=0.0670, G_loss=7.9379, D(x)=0.9366, D(G(z))=0.0012] \n",
      "Epoch 150/300:  12%|█▎        | 1/8 [00:01<00:07,  1.10s/it, D_loss=0.0885, G_loss=4.3054, D(x)=0.9983, D(G(z))=0.0259]"
     ]
    },
    {
     "name": "stdout",
     "output_type": "stream",
     "text": [
      "\n",
      "Debug Statistics - Epoch 149, Batch 0\n",
      "Generator Loss: 4.3054\n",
      "Discriminator Loss: 0.0885\n",
      "\n",
      "Color Distribution Analysis:\n",
      "Real Images - RGB Mean: [0.3831688  0.41065595 0.406908  ]\n",
      "Fake Images - RGB Mean: [0.37287217 0.4347122  0.36018476]\n",
      "Real Images - Alpha Mean: 0.3788867\n",
      "Fake Images - Alpha Mean: 0.35996598\n"
     ]
    },
    {
     "name": "stderr",
     "output_type": "stream",
     "text": [
      "Epoch 150/300: 100%|██████████| 8/8 [00:06<00:00,  1.29it/s, D_loss=0.0281, G_loss=5.9219, D(x)=0.9917, D(G(z))=0.0040]\n",
      "Epoch 151/300:  12%|█▎        | 1/8 [00:01<00:11,  1.61s/it, D_loss=0.0298, G_loss=5.4521, D(x)=0.9937, D(G(z))=0.0065]"
     ]
    },
    {
     "name": "stdout",
     "output_type": "stream",
     "text": [
      "\n",
      "Debug Statistics - Epoch 150, Batch 0\n",
      "Generator Loss: 5.4521\n",
      "Discriminator Loss: 0.0298\n",
      "\n",
      "Color Distribution Analysis:\n",
      "Real Images - RGB Mean: [0.37573925 0.4074854  0.4050592 ]\n",
      "Fake Images - RGB Mean: [0.35202885 0.4066374  0.41241267]\n",
      "Real Images - Alpha Mean: 0.37363106\n",
      "Fake Images - Alpha Mean: 0.35722852\n"
     ]
    },
    {
     "name": "stderr",
     "output_type": "stream",
     "text": [
      "Epoch 151/300: 100%|██████████| 8/8 [00:05<00:00,  1.34it/s, D_loss=0.2131, G_loss=10.4435, D(x)=0.8534, D(G(z))=0.0001]\n",
      "Epoch 152/300:  12%|█▎        | 1/8 [00:01<00:08,  1.26s/it, D_loss=0.0050, G_loss=9.5064, D(x)=0.9953, D(G(z))=0.0002]"
     ]
    },
    {
     "name": "stdout",
     "output_type": "stream",
     "text": [
      "\n",
      "Debug Statistics - Epoch 151, Batch 0\n",
      "Generator Loss: 9.5064\n",
      "Discriminator Loss: 0.0050\n",
      "\n",
      "Color Distribution Analysis:\n",
      "Real Images - RGB Mean: [0.38095745 0.40519655 0.40700376]\n",
      "Fake Images - RGB Mean: [0.3578329  0.4271109  0.40083563]\n",
      "Real Images - Alpha Mean: 0.37678185\n",
      "Fake Images - Alpha Mean: 0.36924383\n"
     ]
    },
    {
     "name": "stderr",
     "output_type": "stream",
     "text": [
      "Epoch 152/300: 100%|██████████| 8/8 [00:05<00:00,  1.37it/s, D_loss=0.3511, G_loss=8.9806, D(x)=0.9994, D(G(z))=0.0003]\n",
      "Epoch 153/300:  12%|█▎        | 1/8 [00:00<00:06,  1.04it/s, D_loss=0.0093, G_loss=9.3277, D(x)=0.9950, D(G(z))=0.0004]"
     ]
    },
    {
     "name": "stdout",
     "output_type": "stream",
     "text": [
      "\n",
      "Debug Statistics - Epoch 152, Batch 0\n",
      "Generator Loss: 9.3277\n",
      "Discriminator Loss: 0.0093\n",
      "\n",
      "Color Distribution Analysis:\n",
      "Real Images - RGB Mean: [0.38240376 0.4093448  0.40719232]\n",
      "Fake Images - RGB Mean: [0.39443663 0.39155728 0.38196158]\n",
      "Real Images - Alpha Mean: 0.37911215\n",
      "Fake Images - Alpha Mean: 0.39243817\n"
     ]
    },
    {
     "name": "stderr",
     "output_type": "stream",
     "text": [
      "Epoch 153/300: 100%|██████████| 8/8 [00:05<00:00,  1.43it/s, D_loss=0.2331, G_loss=3.2702, D(x)=0.8060, D(G(z))=0.0612]\n",
      "Epoch 154/300:  12%|█▎        | 1/8 [00:00<00:06,  1.03it/s, D_loss=0.3046, G_loss=7.3977, D(x)=0.9982, D(G(z))=0.0012]"
     ]
    },
    {
     "name": "stdout",
     "output_type": "stream",
     "text": [
      "\n",
      "Debug Statistics - Epoch 153, Batch 0\n",
      "Generator Loss: 7.3977\n",
      "Discriminator Loss: 0.3046\n",
      "\n",
      "Color Distribution Analysis:\n",
      "Real Images - RGB Mean: [0.38195527 0.4086874  0.40959835]\n",
      "Fake Images - RGB Mean: [0.40008634 0.35532942 0.39950117]\n",
      "Real Images - Alpha Mean: 0.37529558\n",
      "Fake Images - Alpha Mean: 0.39745313\n"
     ]
    },
    {
     "name": "stderr",
     "output_type": "stream",
     "text": [
      "Epoch 154/300: 100%|██████████| 8/8 [00:04<00:00,  1.61it/s, D_loss=0.1036, G_loss=6.3167, D(x)=0.9972, D(G(z))=0.0025]\n",
      "Epoch 155/300:  12%|█▎        | 1/8 [00:01<00:08,  1.18s/it, D_loss=0.1379, G_loss=5.1366, D(x)=0.8972, D(G(z))=0.0082]"
     ]
    },
    {
     "name": "stdout",
     "output_type": "stream",
     "text": [
      "\n",
      "Debug Statistics - Epoch 154, Batch 0\n",
      "Generator Loss: 5.1366\n",
      "Discriminator Loss: 0.1379\n",
      "\n",
      "Color Distribution Analysis:\n",
      "Real Images - RGB Mean: [0.38398287 0.4088051  0.40868902]\n",
      "Fake Images - RGB Mean: [0.36766312 0.36925513 0.4100932 ]\n",
      "Real Images - Alpha Mean: 0.3787138\n",
      "Fake Images - Alpha Mean: 0.34532386\n"
     ]
    },
    {
     "name": "stderr",
     "output_type": "stream",
     "text": [
      "Epoch 155/300: 100%|██████████| 8/8 [00:05<00:00,  1.52it/s, D_loss=0.1853, G_loss=4.1556, D(x)=0.8619, D(G(z))=0.0282]\n",
      "Epoch 156/300:  12%|█▎        | 1/8 [00:01<00:08,  1.22s/it, D_loss=0.3128, G_loss=8.8793, D(x)=0.9399, D(G(z))=0.0004]"
     ]
    },
    {
     "name": "stdout",
     "output_type": "stream",
     "text": [
      "\n",
      "Debug Statistics - Epoch 155, Batch 0\n",
      "Generator Loss: 8.8793\n",
      "Discriminator Loss: 0.3128\n",
      "\n",
      "Color Distribution Analysis:\n",
      "Real Images - RGB Mean: [0.3814433  0.40915936 0.40765828]\n",
      "Fake Images - RGB Mean: [0.3579112 0.3653776 0.3844617]\n",
      "Real Images - Alpha Mean: 0.3758065\n",
      "Fake Images - Alpha Mean: 0.36734867\n"
     ]
    },
    {
     "name": "stderr",
     "output_type": "stream",
     "text": [
      "Epoch 156/300: 100%|██████████| 8/8 [00:05<00:00,  1.57it/s, D_loss=0.1178, G_loss=4.3358, D(x)=0.9170, D(G(z))=0.0165]\n",
      "Epoch 157/300:  12%|█▎        | 1/8 [00:00<00:06,  1.02it/s, D_loss=0.1503, G_loss=4.1929, D(x)=0.9155, D(G(z))=0.0190]"
     ]
    },
    {
     "name": "stdout",
     "output_type": "stream",
     "text": [
      "\n",
      "Debug Statistics - Epoch 156, Batch 0\n",
      "Generator Loss: 4.1929\n",
      "Discriminator Loss: 0.1503\n",
      "\n",
      "Color Distribution Analysis:\n",
      "Real Images - RGB Mean: [0.39210364 0.41952574 0.41783333]\n",
      "Fake Images - RGB Mean: [0.37898973 0.41760236 0.40497044]\n",
      "Real Images - Alpha Mean: 0.38467845\n",
      "Fake Images - Alpha Mean: 0.39310518\n"
     ]
    },
    {
     "name": "stderr",
     "output_type": "stream",
     "text": [
      "Epoch 157/300: 100%|██████████| 8/8 [00:04<00:00,  1.65it/s, D_loss=0.0216, G_loss=6.8752, D(x)=0.9866, D(G(z))=0.0015]\n",
      "Epoch 158/300:  12%|█▎        | 1/8 [00:00<00:06,  1.03it/s, D_loss=0.4778, G_loss=0.9986, D(x)=0.6413, D(G(z))=0.4114]"
     ]
    },
    {
     "name": "stdout",
     "output_type": "stream",
     "text": [
      "\n",
      "Debug Statistics - Epoch 157, Batch 0\n",
      "Generator Loss: 0.9986\n",
      "Discriminator Loss: 0.4778\n",
      "\n",
      "Color Distribution Analysis:\n",
      "Real Images - RGB Mean: [0.38530803 0.4194165  0.4176442 ]\n",
      "Fake Images - RGB Mean: [0.35521796 0.40901566 0.36890632]\n",
      "Real Images - Alpha Mean: 0.38263428\n",
      "Fake Images - Alpha Mean: 0.3708578\n"
     ]
    },
    {
     "name": "stderr",
     "output_type": "stream",
     "text": [
      "Epoch 158/300: 100%|██████████| 8/8 [00:04<00:00,  1.67it/s, D_loss=2.8791, G_loss=16.3831, D(x)=0.9989, D(G(z))=0.0000]\n",
      "Epoch 159/300:  12%|█▎        | 1/8 [00:01<00:09,  1.34s/it, D_loss=0.0212, G_loss=17.0106, D(x)=0.9794, D(G(z))=0.0000]"
     ]
    },
    {
     "name": "stdout",
     "output_type": "stream",
     "text": [
      "\n",
      "Debug Statistics - Epoch 158, Batch 0\n",
      "Generator Loss: 17.0106\n",
      "Discriminator Loss: 0.0212\n",
      "\n",
      "Color Distribution Analysis:\n",
      "Real Images - RGB Mean: [0.3880587  0.41532353 0.41805002]\n",
      "Fake Images - RGB Mean: [0.39183092 0.3788311  0.37264934]\n",
      "Real Images - Alpha Mean: 0.38561517\n",
      "Fake Images - Alpha Mean: 0.32024944\n"
     ]
    },
    {
     "name": "stderr",
     "output_type": "stream",
     "text": [
      "Epoch 159/300: 100%|██████████| 8/8 [00:05<00:00,  1.41it/s, D_loss=0.0738, G_loss=9.6940, D(x)=0.9310, D(G(z))=0.0004] \n",
      "Epoch 160/300:  12%|█▎        | 1/8 [00:01<00:07,  1.12s/it, D_loss=0.0401, G_loss=8.7887, D(x)=0.9620, D(G(z))=0.0008]"
     ]
    },
    {
     "name": "stdout",
     "output_type": "stream",
     "text": [
      "\n",
      "Debug Statistics - Epoch 159, Batch 0\n",
      "Generator Loss: 8.7887\n",
      "Discriminator Loss: 0.0401\n",
      "\n",
      "Color Distribution Analysis:\n",
      "Real Images - RGB Mean: [0.37932023 0.4030063  0.40096655]\n",
      "Fake Images - RGB Mean: [0.33468658 0.40055034 0.46300736]\n",
      "Real Images - Alpha Mean: 0.37439334\n",
      "Fake Images - Alpha Mean: 0.30876103\n"
     ]
    },
    {
     "name": "stderr",
     "output_type": "stream",
     "text": [
      "Epoch 160/300: 100%|██████████| 8/8 [00:05<00:00,  1.50it/s, D_loss=2.0713, G_loss=7.6333, D(x)=0.3562, D(G(z))=0.0036] \n",
      "Epoch 161/300:  12%|█▎        | 1/8 [00:01<00:09,  1.42s/it, D_loss=0.1536, G_loss=3.2089, D(x)=0.9921, D(G(z))=0.0658]"
     ]
    },
    {
     "name": "stdout",
     "output_type": "stream",
     "text": [
      "\n",
      "Debug Statistics - Epoch 160, Batch 0\n",
      "Generator Loss: 3.2089\n",
      "Discriminator Loss: 0.1536\n",
      "\n",
      "Color Distribution Analysis:\n",
      "Real Images - RGB Mean: [0.3734215  0.39486745 0.39304635]\n",
      "Fake Images - RGB Mean: [0.39854926 0.39177486 0.405841  ]\n",
      "Real Images - Alpha Mean: 0.3639565\n",
      "Fake Images - Alpha Mean: 0.33561403\n"
     ]
    },
    {
     "name": "stderr",
     "output_type": "stream",
     "text": [
      "Epoch 161/300: 100%|██████████| 8/8 [00:06<00:00,  1.30it/s, D_loss=0.5347, G_loss=12.7584, D(x)=0.9875, D(G(z))=0.0000]\n",
      "Epoch 162/300:  12%|█▎        | 1/8 [00:01<00:10,  1.46s/it, D_loss=0.3615, G_loss=10.6479, D(x)=0.7189, D(G(z))=0.0001]"
     ]
    },
    {
     "name": "stdout",
     "output_type": "stream",
     "text": [
      "\n",
      "Debug Statistics - Epoch 161, Batch 0\n",
      "Generator Loss: 10.6479\n",
      "Discriminator Loss: 0.3615\n",
      "\n",
      "Color Distribution Analysis:\n",
      "Real Images - RGB Mean: [0.383571   0.4141881  0.41339368]\n",
      "Fake Images - RGB Mean: [0.3372962  0.41059688 0.41732618]\n",
      "Real Images - Alpha Mean: 0.3804027\n",
      "Fake Images - Alpha Mean: 0.3885946\n"
     ]
    },
    {
     "name": "stderr",
     "output_type": "stream",
     "text": [
      "Epoch 162/300: 100%|██████████| 8/8 [00:06<00:00,  1.26it/s, D_loss=0.0844, G_loss=6.4772, D(x)=0.9796, D(G(z))=0.0029] \n",
      "Epoch 163/300:  12%|█▎        | 1/8 [00:01<00:10,  1.45s/it, D_loss=1.6943, G_loss=1.6674, D(x)=0.2802, D(G(z))=0.2548]"
     ]
    },
    {
     "name": "stdout",
     "output_type": "stream",
     "text": [
      "\n",
      "Debug Statistics - Epoch 162, Batch 0\n",
      "Generator Loss: 1.6674\n",
      "Discriminator Loss: 1.6943\n",
      "\n",
      "Color Distribution Analysis:\n",
      "Real Images - RGB Mean: [0.38296273 0.40912858 0.40809944]\n",
      "Fake Images - RGB Mean: [0.36668026 0.35957852 0.36078104]\n",
      "Real Images - Alpha Mean: 0.3771713\n",
      "Fake Images - Alpha Mean: 0.33443147\n"
     ]
    },
    {
     "name": "stderr",
     "output_type": "stream",
     "text": [
      "Epoch 163/300: 100%|██████████| 8/8 [00:06<00:00,  1.25it/s, D_loss=0.0324, G_loss=5.6777, D(x)=0.9979, D(G(z))=0.0052] \n",
      "Epoch 164/300:  12%|█▎        | 1/8 [00:01<00:08,  1.17s/it, D_loss=0.0476, G_loss=5.8951, D(x)=0.9957, D(G(z))=0.0046]"
     ]
    },
    {
     "name": "stdout",
     "output_type": "stream",
     "text": [
      "\n",
      "Debug Statistics - Epoch 163, Batch 0\n",
      "Generator Loss: 5.8951\n",
      "Discriminator Loss: 0.0476\n",
      "\n",
      "Color Distribution Analysis:\n",
      "Real Images - RGB Mean: [0.375633  0.4029758 0.3979176]\n",
      "Fake Images - RGB Mean: [0.38160816 0.35701302 0.43014354]\n",
      "Real Images - Alpha Mean: 0.369394\n",
      "Fake Images - Alpha Mean: 0.34466538\n"
     ]
    },
    {
     "name": "stderr",
     "output_type": "stream",
     "text": [
      "Epoch 164/300: 100%|██████████| 8/8 [00:06<00:00,  1.32it/s, D_loss=0.0943, G_loss=8.7362, D(x)=0.9142, D(G(z))=0.0014]\n",
      "Epoch 165/300:  12%|█▎        | 1/8 [00:01<00:08,  1.28s/it, D_loss=0.0135, G_loss=7.3810, D(x)=0.9922, D(G(z))=0.0025]"
     ]
    },
    {
     "name": "stdout",
     "output_type": "stream",
     "text": [
      "\n",
      "Debug Statistics - Epoch 164, Batch 0\n",
      "Generator Loss: 7.3810\n",
      "Discriminator Loss: 0.0135\n",
      "\n",
      "Color Distribution Analysis:\n",
      "Real Images - RGB Mean: [0.3813872  0.41051465 0.40929085]\n",
      "Fake Images - RGB Mean: [0.32980412 0.40630063 0.35368353]\n",
      "Real Images - Alpha Mean: 0.37789553\n",
      "Fake Images - Alpha Mean: 0.30498114\n"
     ]
    },
    {
     "name": "stderr",
     "output_type": "stream",
     "text": [
      "Epoch 165/300: 100%|██████████| 8/8 [00:06<00:00,  1.29it/s, D_loss=0.1009, G_loss=4.4898, D(x)=0.9421, D(G(z))=0.0158]\n",
      "Epoch 166/300:  12%|█▎        | 1/8 [00:01<00:08,  1.20s/it, D_loss=0.1349, G_loss=5.7151, D(x)=0.9931, D(G(z))=0.0046]"
     ]
    },
    {
     "name": "stdout",
     "output_type": "stream",
     "text": [
      "\n",
      "Debug Statistics - Epoch 165, Batch 0\n",
      "Generator Loss: 5.7151\n",
      "Discriminator Loss: 0.1349\n",
      "\n",
      "Color Distribution Analysis:\n",
      "Real Images - RGB Mean: [0.37805068 0.40607148 0.40280437]\n",
      "Fake Images - RGB Mean: [0.33655185 0.39629972 0.3765458 ]\n",
      "Real Images - Alpha Mean: 0.37432703\n",
      "Fake Images - Alpha Mean: 0.32902253\n"
     ]
    },
    {
     "name": "stderr",
     "output_type": "stream",
     "text": [
      "Epoch 166/300: 100%|██████████| 8/8 [00:06<00:00,  1.32it/s, D_loss=0.1306, G_loss=3.8951, D(x)=0.9383, D(G(z))=0.0246]\n",
      "Epoch 167/300:  12%|█▎        | 1/8 [00:01<00:07,  1.11s/it, D_loss=0.1309, G_loss=4.8670, D(x)=0.9581, D(G(z))=0.0093]"
     ]
    },
    {
     "name": "stdout",
     "output_type": "stream",
     "text": [
      "\n",
      "Debug Statistics - Epoch 166, Batch 0\n",
      "Generator Loss: 4.8670\n",
      "Discriminator Loss: 0.1309\n",
      "\n",
      "Color Distribution Analysis:\n",
      "Real Images - RGB Mean: [0.37253302 0.3975264  0.39362165]\n",
      "Fake Images - RGB Mean: [0.37745228 0.34816614 0.36355034]\n",
      "Real Images - Alpha Mean: 0.36722815\n",
      "Fake Images - Alpha Mean: 0.38125575\n"
     ]
    },
    {
     "name": "stderr",
     "output_type": "stream",
     "text": [
      "Epoch 167/300: 100%|██████████| 8/8 [00:05<00:00,  1.48it/s, D_loss=0.0303, G_loss=6.9753, D(x)=0.9775, D(G(z))=0.0013]\n",
      "Epoch 168/300:  12%|█▎        | 1/8 [00:01<00:08,  1.18s/it, D_loss=0.0512, G_loss=6.4450, D(x)=0.9534, D(G(z))=0.0022]"
     ]
    },
    {
     "name": "stdout",
     "output_type": "stream",
     "text": [
      "\n",
      "Debug Statistics - Epoch 167, Batch 0\n",
      "Generator Loss: 6.4450\n",
      "Discriminator Loss: 0.0512\n",
      "\n",
      "Color Distribution Analysis:\n",
      "Real Images - RGB Mean: [0.36517754 0.39565137 0.3944381 ]\n",
      "Fake Images - RGB Mean: [0.3612523  0.41834855 0.40346918]\n",
      "Real Images - Alpha Mean: 0.36284354\n",
      "Fake Images - Alpha Mean: 0.35523033\n"
     ]
    },
    {
     "name": "stderr",
     "output_type": "stream",
     "text": [
      "Epoch 168/300: 100%|██████████| 8/8 [00:06<00:00,  1.31it/s, D_loss=0.0716, G_loss=5.1481, D(x)=0.9563, D(G(z))=0.0073]\n",
      "Epoch 169/300:  12%|█▎        | 1/8 [00:01<00:08,  1.26s/it, D_loss=0.1238, G_loss=3.9735, D(x)=0.9160, D(G(z))=0.0219]"
     ]
    },
    {
     "name": "stdout",
     "output_type": "stream",
     "text": [
      "\n",
      "Debug Statistics - Epoch 168, Batch 0\n",
      "Generator Loss: 3.9735\n",
      "Discriminator Loss: 0.1238\n",
      "\n",
      "Color Distribution Analysis:\n",
      "Real Images - RGB Mean: [0.3770607 0.405243  0.4001648]\n",
      "Fake Images - RGB Mean: [0.36339563 0.39664432 0.38050938]\n",
      "Real Images - Alpha Mean: 0.37219536\n",
      "Fake Images - Alpha Mean: 0.3835511\n"
     ]
    },
    {
     "name": "stderr",
     "output_type": "stream",
     "text": [
      "Epoch 169/300: 100%|██████████| 8/8 [00:05<00:00,  1.38it/s, D_loss=0.4440, G_loss=0.9088, D(x)=0.6808, D(G(z))=0.4319]\n",
      "Epoch 170/300:  12%|█▎        | 1/8 [00:01<00:08,  1.23s/it, D_loss=0.6854, G_loss=13.8618, D(x)=0.9959, D(G(z))=0.0000]"
     ]
    },
    {
     "name": "stdout",
     "output_type": "stream",
     "text": [
      "\n",
      "Debug Statistics - Epoch 169, Batch 0\n",
      "Generator Loss: 13.8618\n",
      "Discriminator Loss: 0.6854\n",
      "\n",
      "Color Distribution Analysis:\n",
      "Real Images - RGB Mean: [0.3653382  0.390672   0.38922012]\n",
      "Fake Images - RGB Mean: [0.36931074 0.35761413 0.37571564]\n",
      "Real Images - Alpha Mean: 0.3652723\n",
      "Fake Images - Alpha Mean: 0.373669\n"
     ]
    },
    {
     "name": "stderr",
     "output_type": "stream",
     "text": [
      "Epoch 170/300: 100%|██████████| 8/8 [00:05<00:00,  1.35it/s, D_loss=0.0874, G_loss=4.3062, D(x)=0.9801, D(G(z))=0.0175] \n",
      "Epoch 171/300:  12%|█▎        | 1/8 [00:01<00:08,  1.17s/it, D_loss=0.2026, G_loss=7.6331, D(x)=0.9872, D(G(z))=0.0007]"
     ]
    },
    {
     "name": "stdout",
     "output_type": "stream",
     "text": [
      "\n",
      "Debug Statistics - Epoch 170, Batch 0\n",
      "Generator Loss: 7.6331\n",
      "Discriminator Loss: 0.2026\n",
      "\n",
      "Color Distribution Analysis:\n",
      "Real Images - RGB Mean: [0.37492913 0.40302742 0.3996856 ]\n",
      "Fake Images - RGB Mean: [0.35964137 0.41328686 0.40393725]\n",
      "Real Images - Alpha Mean: 0.37224415\n",
      "Fake Images - Alpha Mean: 0.38166898\n"
     ]
    },
    {
     "name": "stderr",
     "output_type": "stream",
     "text": [
      "Epoch 171/300: 100%|██████████| 8/8 [00:05<00:00,  1.40it/s, D_loss=0.0609, G_loss=6.8836, D(x)=0.9431, D(G(z))=0.0018]\n",
      "Epoch 172/300:  12%|█▎        | 1/8 [00:01<00:09,  1.33s/it, D_loss=0.0768, G_loss=4.7597, D(x)=0.9379, D(G(z))=0.0126]"
     ]
    },
    {
     "name": "stdout",
     "output_type": "stream",
     "text": [
      "\n",
      "Debug Statistics - Epoch 171, Batch 0\n",
      "Generator Loss: 4.7597\n",
      "Discriminator Loss: 0.0768\n",
      "\n",
      "Color Distribution Analysis:\n",
      "Real Images - RGB Mean: [0.3774212  0.40658942 0.40502712]\n",
      "Fake Images - RGB Mean: [0.37421474 0.38965544 0.40013918]\n",
      "Real Images - Alpha Mean: 0.37266627\n",
      "Fake Images - Alpha Mean: 0.36762345\n"
     ]
    },
    {
     "name": "stderr",
     "output_type": "stream",
     "text": [
      "Epoch 172/300: 100%|██████████| 8/8 [00:06<00:00,  1.27it/s, D_loss=0.3063, G_loss=7.5058, D(x)=0.9333, D(G(z))=0.0013]\n",
      "Epoch 173/300:  12%|█▎        | 1/8 [00:01<00:07,  1.11s/it, D_loss=0.0816, G_loss=5.3977, D(x)=0.9330, D(G(z))=0.0071]"
     ]
    },
    {
     "name": "stdout",
     "output_type": "stream",
     "text": [
      "\n",
      "Debug Statistics - Epoch 172, Batch 0\n",
      "Generator Loss: 5.3977\n",
      "Discriminator Loss: 0.0816\n",
      "\n",
      "Color Distribution Analysis:\n",
      "Real Images - RGB Mean: [0.38581094 0.41367012 0.41014963]\n",
      "Fake Images - RGB Mean: [0.36047572 0.36645555 0.37575996]\n",
      "Real Images - Alpha Mean: 0.37921137\n",
      "Fake Images - Alpha Mean: 0.349157\n"
     ]
    },
    {
     "name": "stderr",
     "output_type": "stream",
     "text": [
      "Epoch 173/300: 100%|██████████| 8/8 [00:05<00:00,  1.48it/s, D_loss=0.2316, G_loss=3.0853, D(x)=0.8351, D(G(z))=0.0647]\n",
      "Epoch 174/300:  12%|█▎        | 1/8 [00:01<00:07,  1.04s/it, D_loss=0.2151, G_loss=9.4511, D(x)=0.9977, D(G(z))=0.0001]"
     ]
    },
    {
     "name": "stdout",
     "output_type": "stream",
     "text": [
      "\n",
      "Debug Statistics - Epoch 173, Batch 0\n",
      "Generator Loss: 9.4511\n",
      "Discriminator Loss: 0.2151\n",
      "\n",
      "Color Distribution Analysis:\n",
      "Real Images - RGB Mean: [0.3850999  0.4082277  0.41138995]\n",
      "Fake Images - RGB Mean: [0.37454394 0.41178086 0.3983175 ]\n",
      "Real Images - Alpha Mean: 0.38198352\n",
      "Fake Images - Alpha Mean: 0.3562682\n"
     ]
    },
    {
     "name": "stderr",
     "output_type": "stream",
     "text": [
      "Epoch 174/300: 100%|██████████| 8/8 [00:04<00:00,  1.60it/s, D_loss=0.0393, G_loss=5.0548, D(x)=0.9962, D(G(z))=0.0084] \n",
      "Epoch 175/300:  12%|█▎        | 1/8 [00:00<00:06,  1.06it/s, D_loss=0.0526, G_loss=5.6204, D(x)=0.9984, D(G(z))=0.0044]"
     ]
    },
    {
     "name": "stdout",
     "output_type": "stream",
     "text": [
      "\n",
      "Debug Statistics - Epoch 174, Batch 0\n",
      "Generator Loss: 5.6204\n",
      "Discriminator Loss: 0.0526\n",
      "\n",
      "Color Distribution Analysis:\n",
      "Real Images - RGB Mean: [0.38166723 0.40815276 0.40801594]\n",
      "Fake Images - RGB Mean: [0.3912807  0.38451874 0.39143687]\n",
      "Real Images - Alpha Mean: 0.3775824\n",
      "Fake Images - Alpha Mean: 0.37689108\n"
     ]
    },
    {
     "name": "stderr",
     "output_type": "stream",
     "text": [
      "Epoch 175/300: 100%|██████████| 8/8 [00:05<00:00,  1.49it/s, D_loss=0.0446, G_loss=6.4290, D(x)=0.9602, D(G(z))=0.0024]\n",
      "Epoch 176/300:  12%|█▎        | 1/8 [00:01<00:08,  1.16s/it, D_loss=0.0049, G_loss=6.3629, D(x)=0.9986, D(G(z))=0.0026]"
     ]
    },
    {
     "name": "stdout",
     "output_type": "stream",
     "text": [
      "\n",
      "Debug Statistics - Epoch 175, Batch 0\n",
      "Generator Loss: 6.3629\n",
      "Discriminator Loss: 0.0049\n",
      "\n",
      "Color Distribution Analysis:\n",
      "Real Images - RGB Mean: [0.37679663 0.40148208 0.40314385]\n",
      "Fake Images - RGB Mean: [0.39354497 0.37430176 0.42724133]\n",
      "Real Images - Alpha Mean: 0.37425247\n",
      "Fake Images - Alpha Mean: 0.4053178\n"
     ]
    },
    {
     "name": "stderr",
     "output_type": "stream",
     "text": [
      "Epoch 176/300: 100%|██████████| 8/8 [00:05<00:00,  1.36it/s, D_loss=0.5274, G_loss=2.1010, D(x)=0.6481, D(G(z))=0.2750]\n",
      "Epoch 177/300:  12%|█▎        | 1/8 [00:01<00:09,  1.32s/it, D_loss=2.2972, G_loss=17.5948, D(x)=0.9995, D(G(z))=0.0000]"
     ]
    },
    {
     "name": "stdout",
     "output_type": "stream",
     "text": [
      "\n",
      "Debug Statistics - Epoch 176, Batch 0\n",
      "Generator Loss: 17.5948\n",
      "Discriminator Loss: 2.2972\n",
      "\n",
      "Color Distribution Analysis:\n",
      "Real Images - RGB Mean: [0.39120832 0.41876188 0.4179092 ]\n",
      "Fake Images - RGB Mean: [0.36474085 0.3762845  0.42937022]\n",
      "Real Images - Alpha Mean: 0.38642746\n",
      "Fake Images - Alpha Mean: 0.3730455\n"
     ]
    },
    {
     "name": "stderr",
     "output_type": "stream",
     "text": [
      "Epoch 177/300: 100%|██████████| 8/8 [00:05<00:00,  1.35it/s, D_loss=0.0244, G_loss=5.8343, D(x)=0.9864, D(G(z))=0.0049] \n",
      "Epoch 178/300:  12%|█▎        | 1/8 [00:01<00:08,  1.16s/it, D_loss=0.0224, G_loss=5.2720, D(x)=0.9968, D(G(z))=0.0069]"
     ]
    },
    {
     "name": "stdout",
     "output_type": "stream",
     "text": [
      "\n",
      "Debug Statistics - Epoch 177, Batch 0\n",
      "Generator Loss: 5.2720\n",
      "Discriminator Loss: 0.0224\n",
      "\n",
      "Color Distribution Analysis:\n",
      "Real Images - RGB Mean: [0.37296334 0.40064132 0.40401468]\n",
      "Fake Images - RGB Mean: [0.386074   0.4474914  0.35297593]\n",
      "Real Images - Alpha Mean: 0.37279186\n",
      "Fake Images - Alpha Mean: 0.29938498\n"
     ]
    },
    {
     "name": "stderr",
     "output_type": "stream",
     "text": [
      "Epoch 178/300: 100%|██████████| 8/8 [00:06<00:00,  1.31it/s, D_loss=0.0060, G_loss=14.2615, D(x)=0.9941, D(G(z))=0.0000]\n",
      "Epoch 179/300:  12%|█▎        | 1/8 [00:01<00:10,  1.52s/it, D_loss=0.0501, G_loss=12.9497, D(x)=0.9597, D(G(z))=0.0000]"
     ]
    },
    {
     "name": "stdout",
     "output_type": "stream",
     "text": [
      "\n",
      "Debug Statistics - Epoch 178, Batch 0\n",
      "Generator Loss: 12.9497\n",
      "Discriminator Loss: 0.0501\n",
      "\n",
      "Color Distribution Analysis:\n",
      "Real Images - RGB Mean: [0.3738998  0.40101233 0.40101597]\n",
      "Fake Images - RGB Mean: [0.32837567 0.36455518 0.31921917]\n",
      "Real Images - Alpha Mean: 0.37010047\n",
      "Fake Images - Alpha Mean: 0.2535629\n"
     ]
    },
    {
     "name": "stderr",
     "output_type": "stream",
     "text": [
      "Epoch 179/300: 100%|██████████| 8/8 [00:06<00:00,  1.19it/s, D_loss=0.0624, G_loss=5.4328, D(x)=0.9616, D(G(z))=0.0056] \n",
      "Epoch 180/300:  12%|█▎        | 1/8 [00:01<00:10,  1.47s/it, D_loss=0.0671, G_loss=4.7704, D(x)=0.9725, D(G(z))=0.0103]"
     ]
    },
    {
     "name": "stdout",
     "output_type": "stream",
     "text": [
      "\n",
      "Debug Statistics - Epoch 179, Batch 0\n",
      "Generator Loss: 4.7704\n",
      "Discriminator Loss: 0.0671\n",
      "\n",
      "Color Distribution Analysis:\n",
      "Real Images - RGB Mean: [0.36276352 0.38670316 0.38656446]\n",
      "Fake Images - RGB Mean: [0.32475516 0.33130315 0.31127667]\n",
      "Real Images - Alpha Mean: 0.36358598\n",
      "Fake Images - Alpha Mean: 0.32727975\n"
     ]
    },
    {
     "name": "stderr",
     "output_type": "stream",
     "text": [
      "Epoch 180/300: 100%|██████████| 8/8 [00:05<00:00,  1.51it/s, D_loss=0.0526, G_loss=5.2698, D(x)=0.9610, D(G(z))=0.0068]\n",
      "Epoch 181/300:  12%|█▎        | 1/8 [00:01<00:11,  1.65s/it, D_loss=0.1557, G_loss=6.1188, D(x)=0.9865, D(G(z))=0.0035]"
     ]
    },
    {
     "name": "stdout",
     "output_type": "stream",
     "text": [
      "\n",
      "Debug Statistics - Epoch 180, Batch 0\n",
      "Generator Loss: 6.1188\n",
      "Discriminator Loss: 0.1557\n",
      "\n",
      "Color Distribution Analysis:\n",
      "Real Images - RGB Mean: [0.3751146  0.40247297 0.4030368 ]\n",
      "Fake Images - RGB Mean: [0.37344095 0.35437515 0.36934292]\n",
      "Real Images - Alpha Mean: 0.37382177\n",
      "Fake Images - Alpha Mean: 0.3234995\n"
     ]
    },
    {
     "name": "stderr",
     "output_type": "stream",
     "text": [
      "Epoch 181/300: 100%|██████████| 8/8 [00:06<00:00,  1.33it/s, D_loss=0.0991, G_loss=4.9495, D(x)=0.9601, D(G(z))=0.0103]\n",
      "Epoch 182/300:  12%|█▎        | 1/8 [00:01<00:07,  1.03s/it, D_loss=0.1291, G_loss=5.8376, D(x)=0.9614, D(G(z))=0.0046]"
     ]
    },
    {
     "name": "stdout",
     "output_type": "stream",
     "text": [
      "\n",
      "Debug Statistics - Epoch 181, Batch 0\n",
      "Generator Loss: 5.8376\n",
      "Discriminator Loss: 0.1291\n",
      "\n",
      "Color Distribution Analysis:\n",
      "Real Images - RGB Mean: [0.38210043 0.41339    0.41309658]\n",
      "Fake Images - RGB Mean: [0.37645847 0.39217192 0.3785788 ]\n",
      "Real Images - Alpha Mean: 0.3790801\n",
      "Fake Images - Alpha Mean: 0.34000742\n"
     ]
    },
    {
     "name": "stderr",
     "output_type": "stream",
     "text": [
      "Epoch 182/300: 100%|██████████| 8/8 [00:05<00:00,  1.57it/s, D_loss=0.1778, G_loss=8.7881, D(x)=0.9957, D(G(z))=0.0002]\n",
      "Epoch 183/300:  12%|█▎        | 1/8 [00:00<00:06,  1.05it/s, D_loss=0.0713, G_loss=9.2593, D(x)=0.9322, D(G(z))=0.0001]"
     ]
    },
    {
     "name": "stdout",
     "output_type": "stream",
     "text": [
      "\n",
      "Debug Statistics - Epoch 182, Batch 0\n",
      "Generator Loss: 9.2593\n",
      "Discriminator Loss: 0.0713\n",
      "\n",
      "Color Distribution Analysis:\n",
      "Real Images - RGB Mean: [0.38761982 0.41808257 0.4187075 ]\n",
      "Fake Images - RGB Mean: [0.36492434 0.39555722 0.4222891 ]\n",
      "Real Images - Alpha Mean: 0.38438544\n",
      "Fake Images - Alpha Mean: 0.38167557\n"
     ]
    },
    {
     "name": "stderr",
     "output_type": "stream",
     "text": [
      "Epoch 183/300: 100%|██████████| 8/8 [00:05<00:00,  1.54it/s, D_loss=0.2747, G_loss=9.7348, D(x)=0.9450, D(G(z))=0.0001]\n",
      "Epoch 184/300:  12%|█▎        | 1/8 [00:01<00:07,  1.11s/it, D_loss=0.2026, G_loss=6.7242, D(x)=0.8326, D(G(z))=0.0043]"
     ]
    },
    {
     "name": "stdout",
     "output_type": "stream",
     "text": [
      "\n",
      "Debug Statistics - Epoch 183, Batch 0\n",
      "Generator Loss: 6.7242\n",
      "Discriminator Loss: 0.2026\n",
      "\n",
      "Color Distribution Analysis:\n",
      "Real Images - RGB Mean: [0.38716936 0.41688684 0.41388753]\n",
      "Fake Images - RGB Mean: [0.36908993 0.41162065 0.3917389 ]\n",
      "Real Images - Alpha Mean: 0.38187003\n",
      "Fake Images - Alpha Mean: 0.35883123\n"
     ]
    },
    {
     "name": "stderr",
     "output_type": "stream",
     "text": [
      "Epoch 184/300: 100%|██████████| 8/8 [00:04<00:00,  1.61it/s, D_loss=0.0566, G_loss=5.0776, D(x)=0.9644, D(G(z))=0.0088]\n",
      "Epoch 185/300:  12%|█▎        | 1/8 [00:00<00:06,  1.04it/s, D_loss=0.1080, G_loss=6.4013, D(x)=0.9771, D(G(z))=0.0032]"
     ]
    },
    {
     "name": "stdout",
     "output_type": "stream",
     "text": [
      "\n",
      "Debug Statistics - Epoch 184, Batch 0\n",
      "Generator Loss: 6.4013\n",
      "Discriminator Loss: 0.1080\n",
      "\n",
      "Color Distribution Analysis:\n",
      "Real Images - RGB Mean: [0.37416402 0.4004495  0.40193492]\n",
      "Fake Images - RGB Mean: [0.35522985 0.4205334  0.38494217]\n",
      "Real Images - Alpha Mean: 0.37168133\n",
      "Fake Images - Alpha Mean: 0.3734262\n"
     ]
    },
    {
     "name": "stderr",
     "output_type": "stream",
     "text": [
      "Epoch 185/300: 100%|██████████| 8/8 [00:05<00:00,  1.58it/s, D_loss=0.1363, G_loss=3.5504, D(x)=0.9062, D(G(z))=0.0349]\n",
      "Epoch 186/300:  12%|█▎        | 1/8 [00:01<00:09,  1.36s/it, D_loss=0.0880, G_loss=5.3232, D(x)=0.9912, D(G(z))=0.0060]"
     ]
    },
    {
     "name": "stdout",
     "output_type": "stream",
     "text": [
      "\n",
      "Debug Statistics - Epoch 185, Batch 0\n",
      "Generator Loss: 5.3232\n",
      "Discriminator Loss: 0.0880\n",
      "\n",
      "Color Distribution Analysis:\n",
      "Real Images - RGB Mean: [0.38977835 0.42019513 0.4203296 ]\n",
      "Fake Images - RGB Mean: [0.36538482 0.39304447 0.40578556]\n",
      "Real Images - Alpha Mean: 0.3870766\n",
      "Fake Images - Alpha Mean: 0.3579269\n"
     ]
    },
    {
     "name": "stderr",
     "output_type": "stream",
     "text": [
      "Epoch 186/300: 100%|██████████| 8/8 [00:05<00:00,  1.35it/s, D_loss=0.0348, G_loss=4.8672, D(x)=0.9905, D(G(z))=0.0101] \n",
      "Epoch 187/300:  12%|█▎        | 1/8 [00:01<00:08,  1.17s/it, D_loss=0.0725, G_loss=6.0383, D(x)=0.9956, D(G(z))=0.0031]"
     ]
    },
    {
     "name": "stdout",
     "output_type": "stream",
     "text": [
      "\n",
      "Debug Statistics - Epoch 186, Batch 0\n",
      "Generator Loss: 6.0383\n",
      "Discriminator Loss: 0.0725\n",
      "\n",
      "Color Distribution Analysis:\n",
      "Real Images - RGB Mean: [0.37153584 0.39742947 0.39808714]\n",
      "Fake Images - RGB Mean: [0.3495461  0.39012614 0.3947366 ]\n",
      "Real Images - Alpha Mean: 0.3715103\n",
      "Fake Images - Alpha Mean: 0.37375978\n"
     ]
    },
    {
     "name": "stderr",
     "output_type": "stream",
     "text": [
      "Epoch 187/300: 100%|██████████| 8/8 [00:05<00:00,  1.51it/s, D_loss=0.0162, G_loss=10.7642, D(x)=0.9849, D(G(z))=0.0001]\n",
      "Epoch 188/300:  12%|█▎        | 1/8 [00:00<00:06,  1.06it/s, D_loss=0.0533, G_loss=8.2307, D(x)=0.9540, D(G(z))=0.0006]"
     ]
    },
    {
     "name": "stdout",
     "output_type": "stream",
     "text": [
      "\n",
      "Debug Statistics - Epoch 187, Batch 0\n",
      "Generator Loss: 8.2307\n",
      "Discriminator Loss: 0.0533\n",
      "\n",
      "Color Distribution Analysis:\n",
      "Real Images - RGB Mean: [0.37793553 0.4087757  0.40582564]\n",
      "Fake Images - RGB Mean: [0.36841702 0.42313886 0.41046467]\n",
      "Real Images - Alpha Mean: 0.37555316\n",
      "Fake Images - Alpha Mean: 0.35476446\n"
     ]
    },
    {
     "name": "stderr",
     "output_type": "stream",
     "text": [
      "Epoch 188/300: 100%|██████████| 8/8 [00:05<00:00,  1.58it/s, D_loss=0.0271, G_loss=7.6019, D(x)=0.9822, D(G(z))=0.0011]\n",
      "Epoch 189/300:  12%|█▎        | 1/8 [00:01<00:07,  1.09s/it, D_loss=0.1982, G_loss=3.3540, D(x)=0.8434, D(G(z))=0.0565]"
     ]
    },
    {
     "name": "stdout",
     "output_type": "stream",
     "text": [
      "\n",
      "Debug Statistics - Epoch 188, Batch 0\n",
      "Generator Loss: 3.3540\n",
      "Discriminator Loss: 0.1982\n",
      "\n",
      "Color Distribution Analysis:\n",
      "Real Images - RGB Mean: [0.38676694 0.41780666 0.41258696]\n",
      "Fake Images - RGB Mean: [0.35938036 0.36174214 0.36311352]\n",
      "Real Images - Alpha Mean: 0.38452274\n",
      "Fake Images - Alpha Mean: 0.37585822\n"
     ]
    },
    {
     "name": "stderr",
     "output_type": "stream",
     "text": [
      "Epoch 189/300: 100%|██████████| 8/8 [00:05<00:00,  1.53it/s, D_loss=0.2718, G_loss=5.8863, D(x)=0.9956, D(G(z))=0.0102] \n",
      "Epoch 190/300:  12%|█▎        | 1/8 [00:00<00:06,  1.02it/s, D_loss=0.4766, G_loss=10.1024, D(x)=0.9983, D(G(z))=0.0001]"
     ]
    },
    {
     "name": "stdout",
     "output_type": "stream",
     "text": [
      "\n",
      "Debug Statistics - Epoch 189, Batch 0\n",
      "Generator Loss: 10.1024\n",
      "Discriminator Loss: 0.4766\n",
      "\n",
      "Color Distribution Analysis:\n",
      "Real Images - RGB Mean: [0.38037196 0.41061184 0.4085859 ]\n",
      "Fake Images - RGB Mean: [0.37773067 0.38111836 0.37360916]\n",
      "Real Images - Alpha Mean: 0.37328827\n",
      "Fake Images - Alpha Mean: 0.3700975\n"
     ]
    },
    {
     "name": "stderr",
     "output_type": "stream",
     "text": [
      "Epoch 190/300: 100%|██████████| 8/8 [00:05<00:00,  1.55it/s, D_loss=1.4101, G_loss=7.4070, D(x)=0.4181, D(G(z))=0.0077] \n",
      "Epoch 191/300:  12%|█▎        | 1/8 [00:01<00:07,  1.14s/it, D_loss=0.3481, G_loss=5.8780, D(x)=0.9724, D(G(z))=0.0052]"
     ]
    },
    {
     "name": "stdout",
     "output_type": "stream",
     "text": [
      "\n",
      "Debug Statistics - Epoch 190, Batch 0\n",
      "Generator Loss: 5.8780\n",
      "Discriminator Loss: 0.3481\n",
      "\n",
      "Color Distribution Analysis:\n",
      "Real Images - RGB Mean: [0.37788764 0.40341568 0.4014064 ]\n",
      "Fake Images - RGB Mean: [0.33350736 0.36414975 0.35067135]\n",
      "Real Images - Alpha Mean: 0.3730552\n",
      "Fake Images - Alpha Mean: 0.31129858\n"
     ]
    },
    {
     "name": "stderr",
     "output_type": "stream",
     "text": [
      "Epoch 191/300: 100%|██████████| 8/8 [00:04<00:00,  1.64it/s, D_loss=0.1398, G_loss=5.5169, D(x)=0.8997, D(G(z))=0.0082] \n",
      "Epoch 192/300:  12%|█▎        | 1/8 [00:00<00:06,  1.03it/s, D_loss=0.1993, G_loss=5.6222, D(x)=0.9425, D(G(z))=0.0058]"
     ]
    },
    {
     "name": "stdout",
     "output_type": "stream",
     "text": [
      "\n",
      "Debug Statistics - Epoch 191, Batch 0\n",
      "Generator Loss: 5.6222\n",
      "Discriminator Loss: 0.1993\n",
      "\n",
      "Color Distribution Analysis:\n",
      "Real Images - RGB Mean: [0.38192666 0.4107618  0.4091449 ]\n",
      "Fake Images - RGB Mean: [0.3416229  0.35005426 0.42740494]\n",
      "Real Images - Alpha Mean: 0.37510213\n",
      "Fake Images - Alpha Mean: 0.34247065\n"
     ]
    },
    {
     "name": "stderr",
     "output_type": "stream",
     "text": [
      "Epoch 192/300: 100%|██████████| 8/8 [00:04<00:00,  1.67it/s, D_loss=0.1165, G_loss=8.4809, D(x)=0.9980, D(G(z))=0.0005] \n",
      "Epoch 193/300:  12%|█▎        | 1/8 [00:00<00:06,  1.06it/s, D_loss=0.0222, G_loss=7.1844, D(x)=0.9895, D(G(z))=0.0018]"
     ]
    },
    {
     "name": "stdout",
     "output_type": "stream",
     "text": [
      "\n",
      "Debug Statistics - Epoch 192, Batch 0\n",
      "Generator Loss: 7.1844\n",
      "Discriminator Loss: 0.0222\n",
      "\n",
      "Color Distribution Analysis:\n",
      "Real Images - RGB Mean: [0.3758306  0.40310878 0.40156582]\n",
      "Fake Images - RGB Mean: [0.3962636  0.41879302 0.37290907]\n",
      "Real Images - Alpha Mean: 0.37195536\n",
      "Fake Images - Alpha Mean: 0.35715324\n"
     ]
    },
    {
     "name": "stderr",
     "output_type": "stream",
     "text": [
      "Epoch 193/300: 100%|██████████| 8/8 [00:04<00:00,  1.68it/s, D_loss=0.1739, G_loss=4.0692, D(x)=0.9157, D(G(z))=0.0364]\n",
      "Epoch 194/300:  12%|█▎        | 1/8 [00:00<00:06,  1.05it/s, D_loss=0.1559, G_loss=5.7492, D(x)=0.9868, D(G(z))=0.0046]"
     ]
    },
    {
     "name": "stdout",
     "output_type": "stream",
     "text": [
      "\n",
      "Debug Statistics - Epoch 193, Batch 0\n",
      "Generator Loss: 5.7492\n",
      "Discriminator Loss: 0.1559\n",
      "\n",
      "Color Distribution Analysis:\n",
      "Real Images - RGB Mean: [0.38287216 0.41590545 0.41053942]\n",
      "Fake Images - RGB Mean: [0.35549986 0.41264004 0.3736988 ]\n",
      "Real Images - Alpha Mean: 0.37782317\n",
      "Fake Images - Alpha Mean: 0.36174458\n"
     ]
    },
    {
     "name": "stderr",
     "output_type": "stream",
     "text": [
      "Epoch 194/300: 100%|██████████| 8/8 [00:05<00:00,  1.45it/s, D_loss=0.3220, G_loss=2.4602, D(x)=0.7646, D(G(z))=0.1181]\n",
      "Epoch 195/300:  12%|█▎        | 1/8 [00:01<00:10,  1.49s/it, D_loss=0.5229, G_loss=12.8739, D(x)=0.9994, D(G(z))=0.0000]"
     ]
    },
    {
     "name": "stdout",
     "output_type": "stream",
     "text": [
      "\n",
      "Debug Statistics - Epoch 194, Batch 0\n",
      "Generator Loss: 12.8739\n",
      "Discriminator Loss: 0.5229\n",
      "\n",
      "Color Distribution Analysis:\n",
      "Real Images - RGB Mean: [0.36720148 0.39600492 0.3970066 ]\n",
      "Fake Images - RGB Mean: [0.3407284  0.4005949  0.40646547]\n",
      "Real Images - Alpha Mean: 0.36590636\n",
      "Fake Images - Alpha Mean: 0.34377122\n"
     ]
    },
    {
     "name": "stderr",
     "output_type": "stream",
     "text": [
      "Epoch 195/300: 100%|██████████| 8/8 [00:06<00:00,  1.32it/s, D_loss=0.0522, G_loss=8.1117, D(x)=0.9526, D(G(z))=0.0005] \n",
      "Epoch 196/300:  12%|█▎        | 1/8 [00:01<00:08,  1.16s/it, D_loss=0.0203, G_loss=6.1914, D(x)=0.9876, D(G(z))=0.0028]"
     ]
    },
    {
     "name": "stdout",
     "output_type": "stream",
     "text": [
      "\n",
      "Debug Statistics - Epoch 195, Batch 0\n",
      "Generator Loss: 6.1914\n",
      "Discriminator Loss: 0.0203\n",
      "\n",
      "Color Distribution Analysis:\n",
      "Real Images - RGB Mean: [0.36632875 0.39427722 0.38893914]\n",
      "Fake Images - RGB Mean: [0.34627432 0.39446735 0.39110354]\n",
      "Real Images - Alpha Mean: 0.36081994\n",
      "Fake Images - Alpha Mean: 0.3539219\n"
     ]
    },
    {
     "name": "stderr",
     "output_type": "stream",
     "text": [
      "Epoch 196/300: 100%|██████████| 8/8 [00:05<00:00,  1.35it/s, D_loss=0.0676, G_loss=7.5577, D(x)=0.9398, D(G(z))=0.0008]\n",
      "Epoch 197/300:  12%|█▎        | 1/8 [00:01<00:08,  1.25s/it, D_loss=0.0127, G_loss=6.7415, D(x)=0.9906, D(G(z))=0.0017]"
     ]
    },
    {
     "name": "stdout",
     "output_type": "stream",
     "text": [
      "\n",
      "Debug Statistics - Epoch 196, Batch 0\n",
      "Generator Loss: 6.7415\n",
      "Discriminator Loss: 0.0127\n",
      "\n",
      "Color Distribution Analysis:\n",
      "Real Images - RGB Mean: [0.3758954 0.4043096 0.4000158]\n",
      "Fake Images - RGB Mean: [0.3428512  0.37409306 0.37685186]\n",
      "Real Images - Alpha Mean: 0.37270555\n",
      "Fake Images - Alpha Mean: 0.3468917\n"
     ]
    },
    {
     "name": "stderr",
     "output_type": "stream",
     "text": [
      "Epoch 197/300: 100%|██████████| 8/8 [00:05<00:00,  1.38it/s, D_loss=0.3386, G_loss=14.8985, D(x)=0.9909, D(G(z))=0.0000]\n",
      "Epoch 198/300:  12%|█▎        | 1/8 [00:01<00:07,  1.14s/it, D_loss=0.5972, G_loss=10.2514, D(x)=0.5762, D(G(z))=0.0001]"
     ]
    },
    {
     "name": "stdout",
     "output_type": "stream",
     "text": [
      "\n",
      "Debug Statistics - Epoch 197, Batch 0\n",
      "Generator Loss: 10.2514\n",
      "Discriminator Loss: 0.5972\n",
      "\n",
      "Color Distribution Analysis:\n",
      "Real Images - RGB Mean: [0.37432182 0.3967625  0.39654085]\n",
      "Fake Images - RGB Mean: [0.36227858 0.37328854 0.40711707]\n",
      "Real Images - Alpha Mean: 0.36830744\n",
      "Fake Images - Alpha Mean: 0.34456378\n"
     ]
    },
    {
     "name": "stderr",
     "output_type": "stream",
     "text": [
      "Epoch 198/300: 100%|██████████| 8/8 [00:06<00:00,  1.30it/s, D_loss=0.0682, G_loss=6.7967, D(x)=0.9908, D(G(z))=0.0017] \n",
      "Epoch 199/300:  12%|█▎        | 1/8 [00:01<00:11,  1.64s/it, D_loss=0.0448, G_loss=6.7253, D(x)=0.9684, D(G(z))=0.0018]"
     ]
    },
    {
     "name": "stdout",
     "output_type": "stream",
     "text": [
      "\n",
      "Debug Statistics - Epoch 198, Batch 0\n",
      "Generator Loss: 6.7253\n",
      "Discriminator Loss: 0.0448\n",
      "\n",
      "Color Distribution Analysis:\n",
      "Real Images - RGB Mean: [0.3905453  0.42064652 0.4180785 ]\n",
      "Fake Images - RGB Mean: [0.39179027 0.37949106 0.38433167]\n",
      "Real Images - Alpha Mean: 0.38948756\n",
      "Fake Images - Alpha Mean: 0.3783932\n"
     ]
    },
    {
     "name": "stderr",
     "output_type": "stream",
     "text": [
      "Epoch 199/300: 100%|██████████| 8/8 [00:06<00:00,  1.21it/s, D_loss=0.0357, G_loss=10.2604, D(x)=0.9672, D(G(z))=0.0002]\n",
      "Epoch 200/300:  12%|█▎        | 1/8 [00:01<00:08,  1.21s/it, D_loss=0.0413, G_loss=8.3194, D(x)=0.9631, D(G(z))=0.0013]"
     ]
    },
    {
     "name": "stdout",
     "output_type": "stream",
     "text": [
      "\n",
      "Debug Statistics - Epoch 199, Batch 0\n",
      "Generator Loss: 8.3194\n",
      "Discriminator Loss: 0.0413\n",
      "\n",
      "Color Distribution Analysis:\n",
      "Real Images - RGB Mean: [0.376721   0.40206602 0.39740855]\n",
      "Fake Images - RGB Mean: [0.37735078 0.36929098 0.4396862 ]\n",
      "Real Images - Alpha Mean: 0.37122738\n",
      "Fake Images - Alpha Mean: 0.42331702\n"
     ]
    },
    {
     "name": "stderr",
     "output_type": "stream",
     "text": [
      "Epoch 200/300: 100%|██████████| 8/8 [00:06<00:00,  1.25it/s, D_loss=0.5466, G_loss=14.0364, D(x)=0.9912, D(G(z))=0.0000]\n",
      "Epoch 201/300:  12%|█▎        | 1/8 [00:01<00:11,  1.64s/it, D_loss=2.5664, G_loss=2.2708, D(x)=0.3469, D(G(z))=0.3827]"
     ]
    },
    {
     "name": "stdout",
     "output_type": "stream",
     "text": [
      "\n",
      "Debug Statistics - Epoch 200, Batch 0\n",
      "Generator Loss: 2.2708\n",
      "Discriminator Loss: 2.5664\n",
      "\n",
      "Color Distribution Analysis:\n",
      "Real Images - RGB Mean: [0.38588688 0.40842107 0.4077723 ]\n",
      "Fake Images - RGB Mean: [0.43581444 0.4655204  0.38338065]\n",
      "Real Images - Alpha Mean: 0.38154054\n",
      "Fake Images - Alpha Mean: 0.37505043\n"
     ]
    },
    {
     "name": "stderr",
     "output_type": "stream",
     "text": [
      "Epoch 201/300: 100%|██████████| 8/8 [00:06<00:00,  1.23it/s, D_loss=0.0598, G_loss=5.5933, D(x)=0.9951, D(G(z))=0.0133] \n",
      "Epoch 202/300:  12%|█▎        | 1/8 [00:01<00:10,  1.56s/it, D_loss=0.3252, G_loss=8.5406, D(x)=0.9939, D(G(z))=0.0006]"
     ]
    },
    {
     "name": "stdout",
     "output_type": "stream",
     "text": [
      "\n",
      "Debug Statistics - Epoch 201, Batch 0\n",
      "Generator Loss: 8.5406\n",
      "Discriminator Loss: 0.3252\n",
      "\n",
      "Color Distribution Analysis:\n",
      "Real Images - RGB Mean: [0.38702998 0.4144489  0.41378057]\n",
      "Fake Images - RGB Mean: [0.2999647  0.40838382 0.43652186]\n",
      "Real Images - Alpha Mean: 0.3839899\n",
      "Fake Images - Alpha Mean: 0.39336917\n"
     ]
    },
    {
     "name": "stderr",
     "output_type": "stream",
     "text": [
      "Epoch 202/300: 100%|██████████| 8/8 [00:06<00:00,  1.23it/s, D_loss=0.0969, G_loss=4.4977, D(x)=0.9379, D(G(z))=0.0176] \n",
      "Epoch 203/300:  12%|█▎        | 1/8 [00:01<00:12,  1.82s/it, D_loss=0.3533, G_loss=10.4705, D(x)=0.9963, D(G(z))=0.0001]"
     ]
    },
    {
     "name": "stdout",
     "output_type": "stream",
     "text": [
      "\n",
      "Debug Statistics - Epoch 202, Batch 0\n",
      "Generator Loss: 10.4705\n",
      "Discriminator Loss: 0.3533\n",
      "\n",
      "Color Distribution Analysis:\n",
      "Real Images - RGB Mean: [0.37851578 0.40552968 0.4045766 ]\n",
      "Fake Images - RGB Mean: [0.3082444  0.34279677 0.3610354 ]\n",
      "Real Images - Alpha Mean: 0.37518176\n",
      "Fake Images - Alpha Mean: 0.3767625\n"
     ]
    },
    {
     "name": "stderr",
     "output_type": "stream",
     "text": [
      "Epoch 203/300: 100%|██████████| 8/8 [00:07<00:00,  1.02it/s, D_loss=0.1393, G_loss=4.7870, D(x)=0.9439, D(G(z))=0.0119] \n",
      "Epoch 204/300:  12%|█▎        | 1/8 [00:01<00:08,  1.22s/it, D_loss=0.2813, G_loss=8.5068, D(x)=0.9567, D(G(z))=0.0003]"
     ]
    },
    {
     "name": "stdout",
     "output_type": "stream",
     "text": [
      "\n",
      "Debug Statistics - Epoch 203, Batch 0\n",
      "Generator Loss: 8.5068\n",
      "Discriminator Loss: 0.2813\n",
      "\n",
      "Color Distribution Analysis:\n",
      "Real Images - RGB Mean: [0.38123092 0.41313118 0.4116527 ]\n",
      "Fake Images - RGB Mean: [0.3579311  0.35562083 0.30654868]\n",
      "Real Images - Alpha Mean: 0.38279432\n",
      "Fake Images - Alpha Mean: 0.2778507\n"
     ]
    },
    {
     "name": "stderr",
     "output_type": "stream",
     "text": [
      "Epoch 204/300: 100%|██████████| 8/8 [00:06<00:00,  1.15it/s, D_loss=0.0323, G_loss=4.7239, D(x)=0.9826, D(G(z))=0.0117]\n",
      "Epoch 205/300:  12%|█▎        | 1/8 [00:01<00:08,  1.19s/it, D_loss=0.2122, G_loss=6.3450, D(x)=0.9858, D(G(z))=0.0028]"
     ]
    },
    {
     "name": "stdout",
     "output_type": "stream",
     "text": [
      "\n",
      "Debug Statistics - Epoch 204, Batch 0\n",
      "Generator Loss: 6.3450\n",
      "Discriminator Loss: 0.2122\n",
      "\n",
      "Color Distribution Analysis:\n",
      "Real Images - RGB Mean: [0.37372604 0.3991307  0.40038544]\n",
      "Fake Images - RGB Mean: [0.2904976  0.3450899  0.39156115]\n",
      "Real Images - Alpha Mean: 0.37163877\n",
      "Fake Images - Alpha Mean: 0.35420325\n"
     ]
    },
    {
     "name": "stderr",
     "output_type": "stream",
     "text": [
      "Epoch 205/300: 100%|██████████| 8/8 [00:05<00:00,  1.34it/s, D_loss=0.2334, G_loss=3.4774, D(x)=0.8116, D(G(z))=0.0476]\n",
      "Epoch 206/300:  12%|█▎        | 1/8 [00:01<00:08,  1.26s/it, D_loss=0.2816, G_loss=9.1012, D(x)=0.9936, D(G(z))=0.0002]"
     ]
    },
    {
     "name": "stdout",
     "output_type": "stream",
     "text": [
      "\n",
      "Debug Statistics - Epoch 205, Batch 0\n",
      "Generator Loss: 9.1012\n",
      "Discriminator Loss: 0.2816\n",
      "\n",
      "Color Distribution Analysis:\n",
      "Real Images - RGB Mean: [0.37790632 0.40324742 0.40226123]\n",
      "Fake Images - RGB Mean: [0.36793026 0.39475843 0.35257167]\n",
      "Real Images - Alpha Mean: 0.3754029\n",
      "Fake Images - Alpha Mean: 0.32513767\n"
     ]
    },
    {
     "name": "stderr",
     "output_type": "stream",
     "text": [
      "Epoch 206/300: 100%|██████████| 8/8 [00:06<00:00,  1.26it/s, D_loss=0.0370, G_loss=5.3658, D(x)=0.9835, D(G(z))=0.0074]\n",
      "Epoch 207/300:  12%|█▎        | 1/8 [00:01<00:08,  1.19s/it, D_loss=0.0795, G_loss=5.2301, D(x)=0.9799, D(G(z))=0.0078]"
     ]
    },
    {
     "name": "stdout",
     "output_type": "stream",
     "text": [
      "\n",
      "Debug Statistics - Epoch 206, Batch 0\n",
      "Generator Loss: 5.2301\n",
      "Discriminator Loss: 0.0795\n",
      "\n",
      "Color Distribution Analysis:\n",
      "Real Images - RGB Mean: [0.37619033 0.40355426 0.4044633 ]\n",
      "Fake Images - RGB Mean: [0.3866613  0.38767305 0.4003189 ]\n",
      "Real Images - Alpha Mean: 0.37481993\n",
      "Fake Images - Alpha Mean: 0.37150526\n"
     ]
    },
    {
     "name": "stderr",
     "output_type": "stream",
     "text": [
      "Epoch 207/300: 100%|██████████| 8/8 [00:05<00:00,  1.34it/s, D_loss=0.0024, G_loss=5.4081, D(x)=0.9994, D(G(z))=0.0118] \n",
      "Epoch 208/300:  12%|█▎        | 1/8 [00:01<00:08,  1.26s/it, D_loss=0.1241, G_loss=4.6988, D(x)=0.9999, D(G(z))=0.0162]"
     ]
    },
    {
     "name": "stdout",
     "output_type": "stream",
     "text": [
      "\n",
      "Debug Statistics - Epoch 207, Batch 0\n",
      "Generator Loss: 4.6988\n",
      "Discriminator Loss: 0.1241\n",
      "\n",
      "Color Distribution Analysis:\n",
      "Real Images - RGB Mean: [0.37421444 0.4012565  0.39672658]\n",
      "Fake Images - RGB Mean: [0.37193486 0.38993347 0.43399182]\n",
      "Real Images - Alpha Mean: 0.36640975\n",
      "Fake Images - Alpha Mean: 0.37205008\n"
     ]
    },
    {
     "name": "stderr",
     "output_type": "stream",
     "text": [
      "Epoch 208/300: 100%|██████████| 8/8 [00:07<00:00,  1.05it/s, D_loss=0.4012, G_loss=9.8394, D(x)=0.6900, D(G(z))=0.0002] \n",
      "Epoch 209/300:  12%|█▎        | 1/8 [00:01<00:09,  1.29s/it, D_loss=0.0080, G_loss=7.2490, D(x)=0.9942, D(G(z))=0.0021]"
     ]
    },
    {
     "name": "stdout",
     "output_type": "stream",
     "text": [
      "\n",
      "Debug Statistics - Epoch 208, Batch 0\n",
      "Generator Loss: 7.2490\n",
      "Discriminator Loss: 0.0080\n",
      "\n",
      "Color Distribution Analysis:\n",
      "Real Images - RGB Mean: [0.39189157 0.41910085 0.4159893 ]\n",
      "Fake Images - RGB Mean: [0.3900141  0.3945525  0.37567317]\n",
      "Real Images - Alpha Mean: 0.38636997\n",
      "Fake Images - Alpha Mean: 0.41648662\n"
     ]
    },
    {
     "name": "stderr",
     "output_type": "stream",
     "text": [
      "Epoch 209/300: 100%|██████████| 8/8 [00:07<00:00,  1.11it/s, D_loss=0.0915, G_loss=7.9087, D(x)=0.9180, D(G(z))=0.0008]\n",
      "Epoch 210/300:  12%|█▎        | 1/8 [00:01<00:10,  1.45s/it, D_loss=0.0895, G_loss=5.0626, D(x)=0.9337, D(G(z))=0.0090]"
     ]
    },
    {
     "name": "stdout",
     "output_type": "stream",
     "text": [
      "\n",
      "Debug Statistics - Epoch 209, Batch 0\n",
      "Generator Loss: 5.0626\n",
      "Discriminator Loss: 0.0895\n",
      "\n",
      "Color Distribution Analysis:\n",
      "Real Images - RGB Mean: [0.3789633  0.40145037 0.40109867]\n",
      "Fake Images - RGB Mean: [0.36169812 0.3972535  0.41924244]\n",
      "Real Images - Alpha Mean: 0.3743446\n",
      "Fake Images - Alpha Mean: 0.35025534\n"
     ]
    },
    {
     "name": "stderr",
     "output_type": "stream",
     "text": [
      "Epoch 210/300: 100%|██████████| 8/8 [00:06<00:00,  1.15it/s, D_loss=0.4957, G_loss=2.5228, D(x)=0.6880, D(G(z))=0.1293]\n",
      "Epoch 211/300:  12%|█▎        | 1/8 [00:01<00:08,  1.23s/it, D_loss=0.8940, G_loss=19.2599, D(x)=0.9996, D(G(z))=0.0000]"
     ]
    },
    {
     "name": "stdout",
     "output_type": "stream",
     "text": [
      "\n",
      "Debug Statistics - Epoch 210, Batch 0\n",
      "Generator Loss: 19.2599\n",
      "Discriminator Loss: 0.8940\n",
      "\n",
      "Color Distribution Analysis:\n",
      "Real Images - RGB Mean: [0.36803937 0.39327922 0.39072946]\n",
      "Fake Images - RGB Mean: [0.3294615  0.43500528 0.37518027]\n",
      "Real Images - Alpha Mean: 0.36441755\n",
      "Fake Images - Alpha Mean: 0.34821254\n"
     ]
    },
    {
     "name": "stderr",
     "output_type": "stream",
     "text": [
      "Epoch 211/300: 100%|██████████| 8/8 [00:06<00:00,  1.20it/s, D_loss=0.0490, G_loss=6.2183, D(x)=0.9990, D(G(z))=0.0043] \n",
      "Epoch 212/300:  12%|█▎        | 1/8 [00:01<00:07,  1.10s/it, D_loss=0.0432, G_loss=6.4453, D(x)=0.9988, D(G(z))=0.0029]"
     ]
    },
    {
     "name": "stdout",
     "output_type": "stream",
     "text": [
      "\n",
      "Debug Statistics - Epoch 211, Batch 0\n",
      "Generator Loss: 6.4453\n",
      "Discriminator Loss: 0.0432\n",
      "\n",
      "Color Distribution Analysis:\n",
      "Real Images - RGB Mean: [0.38718486 0.41126612 0.4121997 ]\n",
      "Fake Images - RGB Mean: [0.3400894 0.3526184 0.4154292]\n",
      "Real Images - Alpha Mean: 0.37865955\n",
      "Fake Images - Alpha Mean: 0.36299592\n"
     ]
    },
    {
     "name": "stderr",
     "output_type": "stream",
     "text": [
      "Epoch 212/300: 100%|██████████| 8/8 [00:06<00:00,  1.27it/s, D_loss=0.0406, G_loss=6.3437, D(x)=0.9760, D(G(z))=0.0026]\n",
      "Epoch 213/300:  12%|█▎        | 1/8 [00:01<00:08,  1.26s/it, D_loss=0.2226, G_loss=4.2914, D(x)=0.8318, D(G(z))=0.0175]"
     ]
    },
    {
     "name": "stdout",
     "output_type": "stream",
     "text": [
      "\n",
      "Debug Statistics - Epoch 212, Batch 0\n",
      "Generator Loss: 4.2914\n",
      "Discriminator Loss: 0.2226\n",
      "\n",
      "Color Distribution Analysis:\n",
      "Real Images - RGB Mean: [0.37967694 0.40608463 0.40633616]\n",
      "Fake Images - RGB Mean: [0.35424963 0.31492427 0.36199787]\n",
      "Real Images - Alpha Mean: 0.37645376\n",
      "Fake Images - Alpha Mean: 0.3297883\n"
     ]
    },
    {
     "name": "stderr",
     "output_type": "stream",
     "text": [
      "Epoch 213/300: 100%|██████████| 8/8 [00:05<00:00,  1.52it/s, D_loss=0.0208, G_loss=6.3974, D(x)=0.9820, D(G(z))=0.0034] \n",
      "Epoch 214/300:  12%|█▎        | 1/8 [00:00<00:06,  1.03it/s, D_loss=0.1111, G_loss=7.7686, D(x)=0.9978, D(G(z))=0.0007]"
     ]
    },
    {
     "name": "stdout",
     "output_type": "stream",
     "text": [
      "\n",
      "Debug Statistics - Epoch 213, Batch 0\n",
      "Generator Loss: 7.7686\n",
      "Discriminator Loss: 0.1111\n",
      "\n",
      "Color Distribution Analysis:\n",
      "Real Images - RGB Mean: [0.37908182 0.40500435 0.40130726]\n",
      "Fake Images - RGB Mean: [0.3498244  0.33113116 0.36249965]\n",
      "Real Images - Alpha Mean: 0.37425053\n",
      "Fake Images - Alpha Mean: 0.33393526\n"
     ]
    },
    {
     "name": "stderr",
     "output_type": "stream",
     "text": [
      "Epoch 214/300: 100%|██████████| 8/8 [00:05<00:00,  1.50it/s, D_loss=0.0335, G_loss=6.2550, D(x)=0.9905, D(G(z))=0.0026]\n",
      "Epoch 215/300:  12%|█▎        | 1/8 [00:01<00:08,  1.21s/it, D_loss=0.0312, G_loss=6.1528, D(x)=0.9800, D(G(z))=0.0029]"
     ]
    },
    {
     "name": "stdout",
     "output_type": "stream",
     "text": [
      "\n",
      "Debug Statistics - Epoch 214, Batch 0\n",
      "Generator Loss: 6.1528\n",
      "Discriminator Loss: 0.0312\n",
      "\n",
      "Color Distribution Analysis:\n",
      "Real Images - RGB Mean: [0.37600195 0.40625978 0.4033054 ]\n",
      "Fake Images - RGB Mean: [0.34243336 0.37884906 0.32710287]\n",
      "Real Images - Alpha Mean: 0.3693263\n",
      "Fake Images - Alpha Mean: 0.31006363\n"
     ]
    },
    {
     "name": "stderr",
     "output_type": "stream",
     "text": [
      "Epoch 215/300: 100%|██████████| 8/8 [00:05<00:00,  1.36it/s, D_loss=0.0500, G_loss=5.4052, D(x)=0.9741, D(G(z))=0.0055]\n",
      "Epoch 216/300:  12%|█▎        | 1/8 [00:01<00:08,  1.21s/it, D_loss=0.0280, G_loss=5.8000, D(x)=0.9851, D(G(z))=0.0039]"
     ]
    },
    {
     "name": "stdout",
     "output_type": "stream",
     "text": [
      "\n",
      "Debug Statistics - Epoch 215, Batch 0\n",
      "Generator Loss: 5.8000\n",
      "Discriminator Loss: 0.0280\n",
      "\n",
      "Color Distribution Analysis:\n",
      "Real Images - RGB Mean: [0.37290308 0.3990514  0.3980818 ]\n",
      "Fake Images - RGB Mean: [0.31188783 0.380297   0.35290956]\n",
      "Real Images - Alpha Mean: 0.36801937\n",
      "Fake Images - Alpha Mean: 0.32884693\n"
     ]
    },
    {
     "name": "stderr",
     "output_type": "stream",
     "text": [
      "Epoch 216/300: 100%|██████████| 8/8 [00:05<00:00,  1.35it/s, D_loss=0.0444, G_loss=5.4899, D(x)=0.9736, D(G(z))=0.0051]\n",
      "Epoch 217/300:  12%|█▎        | 1/8 [00:01<00:07,  1.07s/it, D_loss=0.0418, G_loss=5.6910, D(x)=0.9861, D(G(z))=0.0039]"
     ]
    },
    {
     "name": "stdout",
     "output_type": "stream",
     "text": [
      "\n",
      "Debug Statistics - Epoch 216, Batch 0\n",
      "Generator Loss: 5.6910\n",
      "Discriminator Loss: 0.0418\n",
      "\n",
      "Color Distribution Analysis:\n",
      "Real Images - RGB Mean: [0.38507172 0.41355312 0.41072863]\n",
      "Fake Images - RGB Mean: [0.32770872 0.38415214 0.37405288]\n",
      "Real Images - Alpha Mean: 0.37870672\n",
      "Fake Images - Alpha Mean: 0.35210186\n"
     ]
    },
    {
     "name": "stderr",
     "output_type": "stream",
     "text": [
      "Epoch 217/300: 100%|██████████| 8/8 [00:05<00:00,  1.58it/s, D_loss=0.0814, G_loss=4.6241, D(x)=0.9423, D(G(z))=0.0120]\n",
      "Epoch 218/300:  12%|█▎        | 1/8 [00:01<00:07,  1.02s/it, D_loss=0.0329, G_loss=5.3694, D(x)=0.9962, D(G(z))=0.0058]"
     ]
    },
    {
     "name": "stdout",
     "output_type": "stream",
     "text": [
      "\n",
      "Debug Statistics - Epoch 217, Batch 0\n",
      "Generator Loss: 5.3694\n",
      "Discriminator Loss: 0.0329\n",
      "\n",
      "Color Distribution Analysis:\n",
      "Real Images - RGB Mean: [0.3747232  0.40270486 0.40311274]\n",
      "Fake Images - RGB Mean: [0.35262004 0.3808177  0.36974716]\n",
      "Real Images - Alpha Mean: 0.3715039\n",
      "Fake Images - Alpha Mean: 0.35068282\n"
     ]
    },
    {
     "name": "stderr",
     "output_type": "stream",
     "text": [
      "Epoch 218/300: 100%|██████████| 8/8 [00:05<00:00,  1.54it/s, D_loss=0.0331, G_loss=5.5500, D(x)=0.9798, D(G(z))=0.0050]\n",
      "Epoch 219/300:  12%|█▎        | 1/8 [00:01<00:08,  1.17s/it, D_loss=0.0448, G_loss=5.5040, D(x)=0.9890, D(G(z))=0.0048]"
     ]
    },
    {
     "name": "stdout",
     "output_type": "stream",
     "text": [
      "\n",
      "Debug Statistics - Epoch 218, Batch 0\n",
      "Generator Loss: 5.5040\n",
      "Discriminator Loss: 0.0448\n",
      "\n",
      "Color Distribution Analysis:\n",
      "Real Images - RGB Mean: [0.36834034 0.39808682 0.39609358]\n",
      "Fake Images - RGB Mean: [0.3636187  0.39562953 0.35441548]\n",
      "Real Images - Alpha Mean: 0.36590782\n",
      "Fake Images - Alpha Mean: 0.33610457\n"
     ]
    },
    {
     "name": "stderr",
     "output_type": "stream",
     "text": [
      "Epoch 219/300: 100%|██████████| 8/8 [00:05<00:00,  1.48it/s, D_loss=0.0338, G_loss=5.5513, D(x)=0.9710, D(G(z))=0.0045]\n",
      "Epoch 220/300:  12%|█▎        | 1/8 [00:01<00:08,  1.15s/it, D_loss=0.0916, G_loss=4.0275, D(x)=0.9234, D(G(z))=0.0222]"
     ]
    },
    {
     "name": "stdout",
     "output_type": "stream",
     "text": [
      "\n",
      "Debug Statistics - Epoch 219, Batch 0\n",
      "Generator Loss: 4.0275\n",
      "Discriminator Loss: 0.0916\n",
      "\n",
      "Color Distribution Analysis:\n",
      "Real Images - RGB Mean: [0.37469205 0.40230602 0.3991368 ]\n",
      "Fake Images - RGB Mean: [0.35589865 0.38731676 0.3750775 ]\n",
      "Real Images - Alpha Mean: 0.3700542\n",
      "Fake Images - Alpha Mean: 0.3366448\n"
     ]
    },
    {
     "name": "stderr",
     "output_type": "stream",
     "text": [
      "Epoch 220/300: 100%|██████████| 8/8 [00:06<00:00,  1.31it/s, D_loss=0.0242, G_loss=4.9377, D(x)=0.9968, D(G(z))=0.0090]\n",
      "Epoch 221/300:  12%|█▎        | 1/8 [00:01<00:08,  1.15s/it, D_loss=0.1160, G_loss=6.6391, D(x)=0.9957, D(G(z))=0.0016]"
     ]
    },
    {
     "name": "stdout",
     "output_type": "stream",
     "text": [
      "\n",
      "Debug Statistics - Epoch 220, Batch 0\n",
      "Generator Loss: 6.6391\n",
      "Discriminator Loss: 0.1160\n",
      "\n",
      "Color Distribution Analysis:\n",
      "Real Images - RGB Mean: [0.3795839  0.41254297 0.4071073 ]\n",
      "Fake Images - RGB Mean: [0.33012903 0.3418948  0.38437688]\n",
      "Real Images - Alpha Mean: 0.374586\n",
      "Fake Images - Alpha Mean: 0.37660187\n"
     ]
    },
    {
     "name": "stderr",
     "output_type": "stream",
     "text": [
      "Epoch 221/300: 100%|██████████| 8/8 [00:05<00:00,  1.38it/s, D_loss=0.1197, G_loss=5.9090, D(x)=0.8944, D(G(z))=0.0034]\n",
      "Epoch 222/300:  12%|█▎        | 1/8 [00:01<00:10,  1.49s/it, D_loss=0.0239, G_loss=5.9213, D(x)=0.9799, D(G(z))=0.0037]"
     ]
    },
    {
     "name": "stdout",
     "output_type": "stream",
     "text": [
      "\n",
      "Debug Statistics - Epoch 221, Batch 0\n",
      "Generator Loss: 5.9213\n",
      "Discriminator Loss: 0.0239\n",
      "\n",
      "Color Distribution Analysis:\n",
      "Real Images - RGB Mean: [0.3811418  0.40879026 0.40593386]\n",
      "Fake Images - RGB Mean: [0.33993244 0.35336697 0.3944841 ]\n",
      "Real Images - Alpha Mean: 0.37691313\n",
      "Fake Images - Alpha Mean: 0.36524707\n"
     ]
    },
    {
     "name": "stderr",
     "output_type": "stream",
     "text": [
      "Epoch 222/300: 100%|██████████| 8/8 [00:06<00:00,  1.25it/s, D_loss=0.0502, G_loss=5.4645, D(x)=0.9914, D(G(z))=0.0078]\n",
      "Epoch 223/300:  12%|█▎        | 1/8 [00:01<00:09,  1.36s/it, D_loss=0.1487, G_loss=5.6893, D(x)=0.9500, D(G(z))=0.0177]"
     ]
    },
    {
     "name": "stdout",
     "output_type": "stream",
     "text": [
      "\n",
      "Debug Statistics - Epoch 222, Batch 0\n",
      "Generator Loss: 5.6893\n",
      "Discriminator Loss: 0.1487\n",
      "\n",
      "Color Distribution Analysis:\n",
      "Real Images - RGB Mean: [0.37934726 0.40762714 0.40566123]\n",
      "Fake Images - RGB Mean: [0.32714158 0.37211442 0.38142538]\n",
      "Real Images - Alpha Mean: 0.37431797\n",
      "Fake Images - Alpha Mean: 0.33727306\n"
     ]
    },
    {
     "name": "stderr",
     "output_type": "stream",
     "text": [
      "Epoch 223/300: 100%|██████████| 8/8 [00:06<00:00,  1.31it/s, D_loss=0.1533, G_loss=3.7575, D(x)=0.8926, D(G(z))=0.0355]\n",
      "Epoch 224/300:  12%|█▎        | 1/8 [00:01<00:07,  1.14s/it, D_loss=0.0808, G_loss=7.8957, D(x)=0.9983, D(G(z))=0.0007]"
     ]
    },
    {
     "name": "stdout",
     "output_type": "stream",
     "text": [
      "\n",
      "Debug Statistics - Epoch 223, Batch 0\n",
      "Generator Loss: 7.8957\n",
      "Discriminator Loss: 0.0808\n",
      "\n",
      "Color Distribution Analysis:\n",
      "Real Images - RGB Mean: [0.3774056  0.40545422 0.4029163 ]\n",
      "Fake Images - RGB Mean: [0.3270019  0.38156244 0.38066134]\n",
      "Real Images - Alpha Mean: 0.37634242\n",
      "Fake Images - Alpha Mean: 0.33646667\n"
     ]
    },
    {
     "name": "stderr",
     "output_type": "stream",
     "text": [
      "Epoch 224/300: 100%|██████████| 8/8 [00:06<00:00,  1.32it/s, D_loss=0.0019, G_loss=5.1928, D(x)=0.9997, D(G(z))=0.0130] \n",
      "Epoch 225/300:  12%|█▎        | 1/8 [00:01<00:07,  1.08s/it, D_loss=0.1046, G_loss=6.0094, D(x)=1.0000, D(G(z))=0.0054]"
     ]
    },
    {
     "name": "stdout",
     "output_type": "stream",
     "text": [
      "\n",
      "Debug Statistics - Epoch 224, Batch 0\n",
      "Generator Loss: 6.0094\n",
      "Discriminator Loss: 0.1046\n",
      "\n",
      "Color Distribution Analysis:\n",
      "Real Images - RGB Mean: [0.37285155 0.3987684  0.39858058]\n",
      "Fake Images - RGB Mean: [0.37238178 0.4029796  0.330341  ]\n",
      "Real Images - Alpha Mean: 0.36918736\n",
      "Fake Images - Alpha Mean: 0.33305272\n"
     ]
    },
    {
     "name": "stderr",
     "output_type": "stream",
     "text": [
      "Epoch 225/300: 100%|██████████| 8/8 [00:06<00:00,  1.33it/s, D_loss=0.0840, G_loss=5.8577, D(x)=0.9507, D(G(z))=0.0038]\n",
      "Epoch 226/300:  12%|█▎        | 1/8 [00:01<00:09,  1.29s/it, D_loss=0.0335, G_loss=5.6990, D(x)=0.9912, D(G(z))=0.0054]"
     ]
    },
    {
     "name": "stdout",
     "output_type": "stream",
     "text": [
      "\n",
      "Debug Statistics - Epoch 225, Batch 0\n",
      "Generator Loss: 5.6990\n",
      "Discriminator Loss: 0.0335\n",
      "\n",
      "Color Distribution Analysis:\n",
      "Real Images - RGB Mean: [0.36421013 0.38808602 0.38437763]\n",
      "Fake Images - RGB Mean: [0.36365074 0.3714858  0.35670292]\n",
      "Real Images - Alpha Mean: 0.35885206\n",
      "Fake Images - Alpha Mean: 0.31917086\n"
     ]
    },
    {
     "name": "stderr",
     "output_type": "stream",
     "text": [
      "Epoch 226/300: 100%|██████████| 8/8 [00:05<00:00,  1.36it/s, D_loss=0.0896, G_loss=4.3652, D(x)=0.9882, D(G(z))=0.0203] \n",
      "Epoch 227/300:  12%|█▎        | 1/8 [00:01<00:07,  1.02s/it, D_loss=0.2795, G_loss=9.5988, D(x)=0.9794, D(G(z))=0.0002]"
     ]
    },
    {
     "name": "stdout",
     "output_type": "stream",
     "text": [
      "\n",
      "Debug Statistics - Epoch 226, Batch 0\n",
      "Generator Loss: 9.5988\n",
      "Discriminator Loss: 0.2795\n",
      "\n",
      "Color Distribution Analysis:\n",
      "Real Images - RGB Mean: [0.37990183 0.41269937 0.40925103]\n",
      "Fake Images - RGB Mean: [0.3701368  0.38098702 0.40565088]\n",
      "Real Images - Alpha Mean: 0.3792112\n",
      "Fake Images - Alpha Mean: 0.40202403\n"
     ]
    },
    {
     "name": "stderr",
     "output_type": "stream",
     "text": [
      "Epoch 227/300: 100%|██████████| 8/8 [00:04<00:00,  1.61it/s, D_loss=4.7609, G_loss=8.5390, D(x)=0.0373, D(G(z))=0.0041] \n",
      "Epoch 228/300:  12%|█▎        | 1/8 [00:00<00:06,  1.04it/s, D_loss=0.0426, G_loss=3.5076, D(x)=0.9998, D(G(z))=0.0694]"
     ]
    },
    {
     "name": "stdout",
     "output_type": "stream",
     "text": [
      "\n",
      "Debug Statistics - Epoch 227, Batch 0\n",
      "Generator Loss: 3.5076\n",
      "Discriminator Loss: 0.0426\n",
      "\n",
      "Color Distribution Analysis:\n",
      "Real Images - RGB Mean: [0.37422672 0.4025806  0.40020588]\n",
      "Fake Images - RGB Mean: [0.41869876 0.4032584  0.31522694]\n",
      "Real Images - Alpha Mean: 0.3688702\n",
      "Fake Images - Alpha Mean: 0.32844675\n"
     ]
    },
    {
     "name": "stderr",
     "output_type": "stream",
     "text": [
      "Epoch 228/300: 100%|██████████| 8/8 [00:05<00:00,  1.56it/s, D_loss=0.3124, G_loss=5.5930, D(x)=0.7612, D(G(z))=0.0072] \n",
      "Epoch 229/300:  12%|█▎        | 1/8 [00:01<00:07,  1.04s/it, D_loss=0.0653, G_loss=4.7385, D(x)=0.9939, D(G(z))=0.0143]"
     ]
    },
    {
     "name": "stdout",
     "output_type": "stream",
     "text": [
      "\n",
      "Debug Statistics - Epoch 228, Batch 0\n",
      "Generator Loss: 4.7385\n",
      "Discriminator Loss: 0.0653\n",
      "\n",
      "Color Distribution Analysis:\n",
      "Real Images - RGB Mean: [0.3731096  0.40008712 0.39735928]\n",
      "Fake Images - RGB Mean: [0.3028847  0.29925787 0.41657194]\n",
      "Real Images - Alpha Mean: 0.3680902\n",
      "Fake Images - Alpha Mean: 0.39745656\n"
     ]
    },
    {
     "name": "stderr",
     "output_type": "stream",
     "text": [
      "Epoch 229/300: 100%|██████████| 8/8 [00:05<00:00,  1.56it/s, D_loss=0.3318, G_loss=3.8531, D(x)=0.9689, D(G(z))=0.0385] \n",
      "Epoch 230/300:  12%|█▎        | 1/8 [00:01<00:07,  1.08s/it, D_loss=0.5575, G_loss=10.0130, D(x)=0.9998, D(G(z))=0.0001]"
     ]
    },
    {
     "name": "stdout",
     "output_type": "stream",
     "text": [
      "\n",
      "Debug Statistics - Epoch 229, Batch 0\n",
      "Generator Loss: 10.0130\n",
      "Discriminator Loss: 0.5575\n",
      "\n",
      "Color Distribution Analysis:\n",
      "Real Images - RGB Mean: [0.3848359  0.41478488 0.4135902 ]\n",
      "Fake Images - RGB Mean: [0.30935538 0.3928018  0.37029803]\n",
      "Real Images - Alpha Mean: 0.3825243\n",
      "Fake Images - Alpha Mean: 0.3090883\n"
     ]
    },
    {
     "name": "stderr",
     "output_type": "stream",
     "text": [
      "Epoch 230/300: 100%|██████████| 8/8 [00:05<00:00,  1.49it/s, D_loss=0.7453, G_loss=10.3156, D(x)=0.9989, D(G(z))=0.0002]\n",
      "Epoch 231/300:  12%|█▎        | 1/8 [00:01<00:08,  1.22s/it, D_loss=0.0491, G_loss=10.9513, D(x)=0.9541, D(G(z))=0.0001]"
     ]
    },
    {
     "name": "stdout",
     "output_type": "stream",
     "text": [
      "\n",
      "Debug Statistics - Epoch 230, Batch 0\n",
      "Generator Loss: 10.9513\n",
      "Discriminator Loss: 0.0491\n",
      "\n",
      "Color Distribution Analysis:\n",
      "Real Images - RGB Mean: [0.38243207 0.4109251  0.40937987]\n",
      "Fake Images - RGB Mean: [0.34167257 0.36961406 0.36272925]\n",
      "Real Images - Alpha Mean: 0.3774965\n",
      "Fake Images - Alpha Mean: 0.36771145\n"
     ]
    },
    {
     "name": "stderr",
     "output_type": "stream",
     "text": [
      "Epoch 231/300: 100%|██████████| 8/8 [00:05<00:00,  1.46it/s, D_loss=0.2625, G_loss=5.9246, D(x)=0.9880, D(G(z))=0.0048] \n",
      "Epoch 232/300:  12%|█▎        | 1/8 [00:01<00:07,  1.08s/it, D_loss=0.0584, G_loss=6.2523, D(x)=0.9708, D(G(z))=0.0036]"
     ]
    },
    {
     "name": "stdout",
     "output_type": "stream",
     "text": [
      "\n",
      "Debug Statistics - Epoch 231, Batch 0\n",
      "Generator Loss: 6.2523\n",
      "Discriminator Loss: 0.0584\n",
      "\n",
      "Color Distribution Analysis:\n",
      "Real Images - RGB Mean: [0.3893323  0.42176408 0.4210233 ]\n",
      "Fake Images - RGB Mean: [0.3560718  0.3568795  0.36759764]\n",
      "Real Images - Alpha Mean: 0.3877257\n",
      "Fake Images - Alpha Mean: 0.3264292\n"
     ]
    },
    {
     "name": "stderr",
     "output_type": "stream",
     "text": [
      "Epoch 232/300: 100%|██████████| 8/8 [00:06<00:00,  1.33it/s, D_loss=0.0646, G_loss=6.1409, D(x)=0.9656, D(G(z))=0.0032]\n",
      "Epoch 233/300:  12%|█▎        | 1/8 [00:01<00:07,  1.11s/it, D_loss=0.1218, G_loss=4.7765, D(x)=0.9024, D(G(z))=0.0112]"
     ]
    },
    {
     "name": "stdout",
     "output_type": "stream",
     "text": [
      "\n",
      "Debug Statistics - Epoch 232, Batch 0\n",
      "Generator Loss: 4.7765\n",
      "Discriminator Loss: 0.1218\n",
      "\n",
      "Color Distribution Analysis:\n",
      "Real Images - RGB Mean: [0.38599223 0.41231033 0.41151544]\n",
      "Fake Images - RGB Mean: [0.37271783 0.36442244 0.38049832]\n",
      "Real Images - Alpha Mean: 0.37757704\n",
      "Fake Images - Alpha Mean: 0.3371416\n"
     ]
    },
    {
     "name": "stderr",
     "output_type": "stream",
     "text": [
      "Epoch 233/300: 100%|██████████| 8/8 [00:05<00:00,  1.35it/s, D_loss=0.0162, G_loss=7.1754, D(x)=0.9955, D(G(z))=0.0017]\n",
      "Epoch 234/300:  12%|█▎        | 1/8 [00:01<00:08,  1.23s/it, D_loss=0.0379, G_loss=5.9083, D(x)=0.9899, D(G(z))=0.0052]"
     ]
    },
    {
     "name": "stdout",
     "output_type": "stream",
     "text": [
      "\n",
      "Debug Statistics - Epoch 233, Batch 0\n",
      "Generator Loss: 5.9083\n",
      "Discriminator Loss: 0.0379\n",
      "\n",
      "Color Distribution Analysis:\n",
      "Real Images - RGB Mean: [0.37628305 0.40582404 0.4026875 ]\n",
      "Fake Images - RGB Mean: [0.36906546 0.3602567  0.4245023 ]\n",
      "Real Images - Alpha Mean: 0.3693806\n",
      "Fake Images - Alpha Mean: 0.34792617\n"
     ]
    },
    {
     "name": "stderr",
     "output_type": "stream",
     "text": [
      "Epoch 234/300: 100%|██████████| 8/8 [00:05<00:00,  1.36it/s, D_loss=0.2216, G_loss=8.9826, D(x)=0.9944, D(G(z))=0.0003]\n",
      "Epoch 235/300:  12%|█▎        | 1/8 [00:00<00:06,  1.02it/s, D_loss=0.0824, G_loss=6.7528, D(x)=0.9417, D(G(z))=0.0022]"
     ]
    },
    {
     "name": "stdout",
     "output_type": "stream",
     "text": [
      "\n",
      "Debug Statistics - Epoch 234, Batch 0\n",
      "Generator Loss: 6.7528\n",
      "Discriminator Loss: 0.0824\n",
      "\n",
      "Color Distribution Analysis:\n",
      "Real Images - RGB Mean: [0.37588233 0.40405416 0.40269414]\n",
      "Fake Images - RGB Mean: [0.3414988  0.3698167  0.39219344]\n",
      "Real Images - Alpha Mean: 0.37273443\n",
      "Fake Images - Alpha Mean: 0.3350933\n"
     ]
    },
    {
     "name": "stderr",
     "output_type": "stream",
     "text": [
      "Epoch 235/300: 100%|██████████| 8/8 [00:05<00:00,  1.54it/s, D_loss=0.0491, G_loss=5.4246, D(x)=0.9865, D(G(z))=0.0087]\n",
      "Epoch 236/300:  12%|█▎        | 1/8 [00:01<00:07,  1.08s/it, D_loss=0.2702, G_loss=11.5364, D(x)=0.9963, D(G(z))=0.0000]"
     ]
    },
    {
     "name": "stdout",
     "output_type": "stream",
     "text": [
      "\n",
      "Debug Statistics - Epoch 235, Batch 0\n",
      "Generator Loss: 11.5364\n",
      "Discriminator Loss: 0.2702\n",
      "\n",
      "Color Distribution Analysis:\n",
      "Real Images - RGB Mean: [0.3734104  0.40275875 0.39709282]\n",
      "Fake Images - RGB Mean: [0.32098278 0.3674682  0.36705473]\n",
      "Real Images - Alpha Mean: 0.3686101\n",
      "Fake Images - Alpha Mean: 0.33933914\n"
     ]
    },
    {
     "name": "stderr",
     "output_type": "stream",
     "text": [
      "Epoch 236/300: 100%|██████████| 8/8 [00:05<00:00,  1.51it/s, D_loss=0.0435, G_loss=7.2573, D(x)=0.9737, D(G(z))=0.0013] \n",
      "Epoch 237/300:  12%|█▎        | 1/8 [00:00<00:06,  1.03it/s, D_loss=0.0191, G_loss=6.6806, D(x)=0.9918, D(G(z))=0.0020]"
     ]
    },
    {
     "name": "stdout",
     "output_type": "stream",
     "text": [
      "\n",
      "Debug Statistics - Epoch 236, Batch 0\n",
      "Generator Loss: 6.6806\n",
      "Discriminator Loss: 0.0191\n",
      "\n",
      "Color Distribution Analysis:\n",
      "Real Images - RGB Mean: [0.3792775  0.4085576  0.40668127]\n",
      "Fake Images - RGB Mean: [0.34801772 0.3607309  0.39608973]\n",
      "Real Images - Alpha Mean: 0.37246662\n",
      "Fake Images - Alpha Mean: 0.3430981\n"
     ]
    },
    {
     "name": "stderr",
     "output_type": "stream",
     "text": [
      "Epoch 237/300: 100%|██████████| 8/8 [00:05<00:00,  1.55it/s, D_loss=0.9723, G_loss=15.3740, D(x)=0.9999, D(G(z))=0.0000]\n",
      "Epoch 238/300:  12%|█▎        | 1/8 [00:01<00:07,  1.06s/it, D_loss=0.0295, G_loss=16.2841, D(x)=0.9713, D(G(z))=0.0000]"
     ]
    },
    {
     "name": "stdout",
     "output_type": "stream",
     "text": [
      "\n",
      "Debug Statistics - Epoch 237, Batch 0\n",
      "Generator Loss: 16.2841\n",
      "Discriminator Loss: 0.0295\n",
      "\n",
      "Color Distribution Analysis:\n",
      "Real Images - RGB Mean: [0.37578702 0.4056649  0.40342063]\n",
      "Fake Images - RGB Mean: [0.3589643  0.40642837 0.36472926]\n",
      "Real Images - Alpha Mean: 0.37417117\n",
      "Fake Images - Alpha Mean: 0.36102045\n"
     ]
    },
    {
     "name": "stderr",
     "output_type": "stream",
     "text": [
      "Epoch 238/300: 100%|██████████| 8/8 [00:05<00:00,  1.50it/s, D_loss=0.0244, G_loss=12.0028, D(x)=0.9763, D(G(z))=0.0000]\n",
      "Epoch 239/300:  12%|█▎        | 1/8 [00:01<00:07,  1.12s/it, D_loss=0.0636, G_loss=9.7733, D(x)=0.9404, D(G(z))=0.0001]"
     ]
    },
    {
     "name": "stdout",
     "output_type": "stream",
     "text": [
      "\n",
      "Debug Statistics - Epoch 238, Batch 0\n",
      "Generator Loss: 9.7733\n",
      "Discriminator Loss: 0.0636\n",
      "\n",
      "Color Distribution Analysis:\n",
      "Real Images - RGB Mean: [0.37701666 0.4049458  0.4028988 ]\n",
      "Fake Images - RGB Mean: [0.3442725  0.39863762 0.3953485 ]\n",
      "Real Images - Alpha Mean: 0.37605482\n",
      "Fake Images - Alpha Mean: 0.34868604\n"
     ]
    },
    {
     "name": "stderr",
     "output_type": "stream",
     "text": [
      "Epoch 239/300: 100%|██████████| 8/8 [00:05<00:00,  1.45it/s, D_loss=0.0155, G_loss=6.5504, D(x)=0.9915, D(G(z))=0.0024]\n",
      "Epoch 240/300:  12%|█▎        | 1/8 [00:01<00:08,  1.25s/it, D_loss=0.0497, G_loss=5.2421, D(x)=0.9884, D(G(z))=0.0072]"
     ]
    },
    {
     "name": "stdout",
     "output_type": "stream",
     "text": [
      "\n",
      "Debug Statistics - Epoch 239, Batch 0\n",
      "Generator Loss: 5.2421\n",
      "Discriminator Loss: 0.0497\n",
      "\n",
      "Color Distribution Analysis:\n",
      "Real Images - RGB Mean: [0.3749644  0.4002327  0.39700603]\n",
      "Fake Images - RGB Mean: [0.3234763 0.3727681 0.3766631]\n",
      "Real Images - Alpha Mean: 0.3684404\n",
      "Fake Images - Alpha Mean: 0.33159834\n"
     ]
    },
    {
     "name": "stderr",
     "output_type": "stream",
     "text": [
      "Epoch 240/300: 100%|██████████| 8/8 [00:06<00:00,  1.33it/s, D_loss=0.0527, G_loss=5.4303, D(x)=0.9593, D(G(z))=0.0068]\n",
      "Epoch 241/300:  12%|█▎        | 1/8 [00:01<00:09,  1.34s/it, D_loss=0.1552, G_loss=7.5559, D(x)=0.9784, D(G(z))=0.0009]"
     ]
    },
    {
     "name": "stdout",
     "output_type": "stream",
     "text": [
      "\n",
      "Debug Statistics - Epoch 240, Batch 0\n",
      "Generator Loss: 7.5559\n",
      "Discriminator Loss: 0.1552\n",
      "\n",
      "Color Distribution Analysis:\n",
      "Real Images - RGB Mean: [0.38539034 0.41177347 0.40867054]\n",
      "Fake Images - RGB Mean: [0.3578329  0.3685333  0.35939547]\n",
      "Real Images - Alpha Mean: 0.3771294\n",
      "Fake Images - Alpha Mean: 0.36481142\n"
     ]
    },
    {
     "name": "stderr",
     "output_type": "stream",
     "text": [
      "Epoch 241/300: 100%|██████████| 8/8 [00:05<00:00,  1.45it/s, D_loss=0.1153, G_loss=6.2371, D(x)=0.9667, D(G(z))=0.0026]\n",
      "Epoch 242/300:  12%|█▎        | 1/8 [00:01<00:07,  1.13s/it, D_loss=0.0285, G_loss=6.9179, D(x)=0.9782, D(G(z))=0.0015]"
     ]
    },
    {
     "name": "stdout",
     "output_type": "stream",
     "text": [
      "\n",
      "Debug Statistics - Epoch 241, Batch 0\n",
      "Generator Loss: 6.9179\n",
      "Discriminator Loss: 0.0285\n",
      "\n",
      "Color Distribution Analysis:\n",
      "Real Images - RGB Mean: [0.3714633  0.39635974 0.39363492]\n",
      "Fake Images - RGB Mean: [0.34687832 0.35752285 0.35640863]\n",
      "Real Images - Alpha Mean: 0.36775717\n",
      "Fake Images - Alpha Mean: 0.38564676\n"
     ]
    },
    {
     "name": "stderr",
     "output_type": "stream",
     "text": [
      "Epoch 242/300: 100%|██████████| 8/8 [00:05<00:00,  1.48it/s, D_loss=0.0259, G_loss=7.1421, D(x)=0.9764, D(G(z))=0.0011]\n",
      "Epoch 243/300:  12%|█▎        | 1/8 [00:01<00:07,  1.07s/it, D_loss=0.1453, G_loss=3.8578, D(x)=0.8785, D(G(z))=0.0322]"
     ]
    },
    {
     "name": "stdout",
     "output_type": "stream",
     "text": [
      "\n",
      "Debug Statistics - Epoch 242, Batch 0\n",
      "Generator Loss: 3.8578\n",
      "Discriminator Loss: 0.1453\n",
      "\n",
      "Color Distribution Analysis:\n",
      "Real Images - RGB Mean: [0.38150507 0.40825662 0.40833807]\n",
      "Fake Images - RGB Mean: [0.3346193  0.37174916 0.366592  ]\n",
      "Real Images - Alpha Mean: 0.37610558\n",
      "Fake Images - Alpha Mean: 0.34475368\n"
     ]
    },
    {
     "name": "stderr",
     "output_type": "stream",
     "text": [
      "Epoch 243/300: 100%|██████████| 8/8 [00:05<00:00,  1.43it/s, D_loss=0.0709, G_loss=5.9464, D(x)=0.9943, D(G(z))=0.0042] \n",
      "Epoch 244/300:  12%|█▎        | 1/8 [00:01<00:07,  1.12s/it, D_loss=0.0310, G_loss=6.2634, D(x)=0.9956, D(G(z))=0.0031]"
     ]
    },
    {
     "name": "stdout",
     "output_type": "stream",
     "text": [
      "\n",
      "Debug Statistics - Epoch 243, Batch 0\n",
      "Generator Loss: 6.2634\n",
      "Discriminator Loss: 0.0310\n",
      "\n",
      "Color Distribution Analysis:\n",
      "Real Images - RGB Mean: [0.38664132 0.41552582 0.41247278]\n",
      "Fake Images - RGB Mean: [0.34257194 0.37694934 0.36514345]\n",
      "Real Images - Alpha Mean: 0.38151726\n",
      "Fake Images - Alpha Mean: 0.34210896\n"
     ]
    },
    {
     "name": "stderr",
     "output_type": "stream",
     "text": [
      "Epoch 244/300: 100%|██████████| 8/8 [00:05<00:00,  1.54it/s, D_loss=0.1529, G_loss=5.9806, D(x)=0.8662, D(G(z))=0.0042]\n",
      "Epoch 245/300:  12%|█▎        | 1/8 [00:01<00:08,  1.20s/it, D_loss=0.0320, G_loss=5.2796, D(x)=0.9788, D(G(z))=0.0082]"
     ]
    },
    {
     "name": "stdout",
     "output_type": "stream",
     "text": [
      "\n",
      "Debug Statistics - Epoch 244, Batch 0\n",
      "Generator Loss: 5.2796\n",
      "Discriminator Loss: 0.0320\n",
      "\n",
      "Color Distribution Analysis:\n",
      "Real Images - RGB Mean: [0.37164629 0.3977855  0.39688656]\n",
      "Fake Images - RGB Mean: [0.35388052 0.39078778 0.35371   ]\n",
      "Real Images - Alpha Mean: 0.36832562\n",
      "Fake Images - Alpha Mean: 0.32387426\n"
     ]
    },
    {
     "name": "stderr",
     "output_type": "stream",
     "text": [
      "Epoch 245/300: 100%|██████████| 8/8 [00:05<00:00,  1.37it/s, D_loss=0.2396, G_loss=4.1540, D(x)=0.8384, D(G(z))=0.0209]\n",
      "Epoch 246/300:  12%|█▎        | 1/8 [00:01<00:08,  1.20s/it, D_loss=0.2408, G_loss=11.1527, D(x)=0.9666, D(G(z))=0.0001]"
     ]
    },
    {
     "name": "stdout",
     "output_type": "stream",
     "text": [
      "\n",
      "Debug Statistics - Epoch 245, Batch 0\n",
      "Generator Loss: 11.1527\n",
      "Discriminator Loss: 0.2408\n",
      "\n",
      "Color Distribution Analysis:\n",
      "Real Images - RGB Mean: [0.38317326 0.41152558 0.40729505]\n",
      "Fake Images - RGB Mean: [0.34410286 0.36253738 0.32768917]\n",
      "Real Images - Alpha Mean: 0.37887996\n",
      "Fake Images - Alpha Mean: 0.3202175\n"
     ]
    },
    {
     "name": "stderr",
     "output_type": "stream",
     "text": [
      "Epoch 246/300: 100%|██████████| 8/8 [00:05<00:00,  1.35it/s, D_loss=0.0385, G_loss=5.6653, D(x)=0.9780, D(G(z))=0.0067] \n",
      "Epoch 247/300:  12%|█▎        | 1/8 [00:01<00:08,  1.17s/it, D_loss=0.0440, G_loss=5.7896, D(x)=0.9955, D(G(z))=0.0050]"
     ]
    },
    {
     "name": "stdout",
     "output_type": "stream",
     "text": [
      "\n",
      "Debug Statistics - Epoch 246, Batch 0\n",
      "Generator Loss: 5.7896\n",
      "Discriminator Loss: 0.0440\n",
      "\n",
      "Color Distribution Analysis:\n",
      "Real Images - RGB Mean: [0.3747504  0.3996473  0.39897746]\n",
      "Fake Images - RGB Mean: [0.33596137 0.3643109  0.3463742 ]\n",
      "Real Images - Alpha Mean: 0.3684364\n",
      "Fake Images - Alpha Mean: 0.31147075\n"
     ]
    },
    {
     "name": "stderr",
     "output_type": "stream",
     "text": [
      "Epoch 247/300: 100%|██████████| 8/8 [00:05<00:00,  1.36it/s, D_loss=0.4768, G_loss=0.5401, D(x)=0.6407, D(G(z))=0.6670]\n",
      "Epoch 248/300:  12%|█▎        | 1/8 [00:01<00:07,  1.12s/it, D_loss=1.8995, G_loss=22.4745, D(x)=1.0000, D(G(z))=0.0000]"
     ]
    },
    {
     "name": "stdout",
     "output_type": "stream",
     "text": [
      "\n",
      "Debug Statistics - Epoch 247, Batch 0\n",
      "Generator Loss: 22.4745\n",
      "Discriminator Loss: 1.8995\n",
      "\n",
      "Color Distribution Analysis:\n",
      "Real Images - RGB Mean: [0.38411915 0.4131633  0.4118924 ]\n",
      "Fake Images - RGB Mean: [0.3510973  0.38043532 0.30912134]\n",
      "Real Images - Alpha Mean: 0.38104305\n",
      "Fake Images - Alpha Mean: 0.3194883\n"
     ]
    },
    {
     "name": "stderr",
     "output_type": "stream",
     "text": [
      "Epoch 248/300: 100%|██████████| 8/8 [00:06<00:00,  1.28it/s, D_loss=0.0220, G_loss=10.2580, D(x)=0.9934, D(G(z))=0.0004]\n",
      "Epoch 249/300:  12%|█▎        | 1/8 [00:01<00:07,  1.14s/it, D_loss=0.0044, G_loss=10.2781, D(x)=0.9983, D(G(z))=0.0003]"
     ]
    },
    {
     "name": "stdout",
     "output_type": "stream",
     "text": [
      "\n",
      "Debug Statistics - Epoch 248, Batch 0\n",
      "Generator Loss: 10.2781\n",
      "Discriminator Loss: 0.0044\n",
      "\n",
      "Color Distribution Analysis:\n",
      "Real Images - RGB Mean: [0.38082945 0.40730414 0.40668118]\n",
      "Fake Images - RGB Mean: [0.35663465 0.29578462 0.4172924 ]\n",
      "Real Images - Alpha Mean: 0.3756785\n",
      "Fake Images - Alpha Mean: 0.39798945\n"
     ]
    },
    {
     "name": "stderr",
     "output_type": "stream",
     "text": [
      "Epoch 249/300: 100%|██████████| 8/8 [00:05<00:00,  1.37it/s, D_loss=0.0197, G_loss=2.6613, D(x)=1.0000, D(G(z))=0.1897] \n",
      "Epoch 250/300:  12%|█▎        | 1/8 [00:01<00:08,  1.22s/it, D_loss=2.5497, G_loss=16.8535, D(x)=1.0000, D(G(z))=0.0000]"
     ]
    },
    {
     "name": "stdout",
     "output_type": "stream",
     "text": [
      "\n",
      "Debug Statistics - Epoch 249, Batch 0\n",
      "Generator Loss: 16.8535\n",
      "Discriminator Loss: 2.5497\n",
      "\n",
      "Color Distribution Analysis:\n",
      "Real Images - RGB Mean: [0.38130686 0.4117663  0.40880924]\n",
      "Fake Images - RGB Mean: [0.3498694  0.39250618 0.33065602]\n",
      "Real Images - Alpha Mean: 0.38051325\n",
      "Fake Images - Alpha Mean: 0.31919685\n"
     ]
    },
    {
     "name": "stderr",
     "output_type": "stream",
     "text": [
      "Epoch 250/300: 100%|██████████| 8/8 [00:05<00:00,  1.36it/s, D_loss=0.0357, G_loss=6.0414, D(x)=0.9976, D(G(z))=0.0035] \n",
      "Epoch 251/300:  12%|█▎        | 1/8 [00:01<00:09,  1.42s/it, D_loss=0.0663, G_loss=6.7775, D(x)=0.9954, D(G(z))=0.0019]"
     ]
    },
    {
     "name": "stdout",
     "output_type": "stream",
     "text": [
      "\n",
      "Debug Statistics - Epoch 250, Batch 0\n",
      "Generator Loss: 6.7775\n",
      "Discriminator Loss: 0.0663\n",
      "\n",
      "Color Distribution Analysis:\n",
      "Real Images - RGB Mean: [0.38040707 0.40541232 0.4045644 ]\n",
      "Fake Images - RGB Mean: [0.34997347 0.46737123 0.3384466 ]\n",
      "Real Images - Alpha Mean: 0.37624213\n",
      "Fake Images - Alpha Mean: 0.38873637\n"
     ]
    },
    {
     "name": "stderr",
     "output_type": "stream",
     "text": [
      "Epoch 251/300: 100%|██████████| 8/8 [00:06<00:00,  1.31it/s, D_loss=0.0892, G_loss=6.1433, D(x)=0.9966, D(G(z))=0.0030]\n",
      "Epoch 252/300:  12%|█▎        | 1/8 [00:01<00:07,  1.14s/it, D_loss=0.0828, G_loss=7.0125, D(x)=0.9911, D(G(z))=0.0014]"
     ]
    },
    {
     "name": "stdout",
     "output_type": "stream",
     "text": [
      "\n",
      "Debug Statistics - Epoch 251, Batch 0\n",
      "Generator Loss: 7.0125\n",
      "Discriminator Loss: 0.0828\n",
      "\n",
      "Color Distribution Analysis:\n",
      "Real Images - RGB Mean: [0.3807411  0.40504515 0.40036732]\n",
      "Fake Images - RGB Mean: [0.27525523 0.38963795 0.34210008]\n",
      "Real Images - Alpha Mean: 0.37614772\n",
      "Fake Images - Alpha Mean: 0.31548783\n"
     ]
    },
    {
     "name": "stderr",
     "output_type": "stream",
     "text": [
      "Epoch 252/300: 100%|██████████| 8/8 [00:05<00:00,  1.39it/s, D_loss=0.2333, G_loss=4.2656, D(x)=0.8232, D(G(z))=0.0195]\n",
      "Epoch 253/300:  12%|█▎        | 1/8 [00:01<00:09,  1.33s/it, D_loss=0.4385, G_loss=12.7068, D(x)=0.9922, D(G(z))=0.0000]"
     ]
    },
    {
     "name": "stdout",
     "output_type": "stream",
     "text": [
      "\n",
      "Debug Statistics - Epoch 252, Batch 0\n",
      "Generator Loss: 12.7068\n",
      "Discriminator Loss: 0.4385\n",
      "\n",
      "Color Distribution Analysis:\n",
      "Real Images - RGB Mean: [0.38726193 0.41270378 0.41383034]\n",
      "Fake Images - RGB Mean: [0.29051557 0.32181367 0.38752583]\n",
      "Real Images - Alpha Mean: 0.38215774\n",
      "Fake Images - Alpha Mean: 0.337678\n"
     ]
    },
    {
     "name": "stderr",
     "output_type": "stream",
     "text": [
      "Epoch 253/300: 100%|██████████| 8/8 [00:06<00:00,  1.26it/s, D_loss=0.0276, G_loss=6.3624, D(x)=0.9970, D(G(z))=0.0046] \n",
      "Epoch 254/300:  12%|█▎        | 1/8 [00:01<00:08,  1.27s/it, D_loss=0.0618, G_loss=6.7161, D(x)=0.9927, D(G(z))=0.0031]"
     ]
    },
    {
     "name": "stdout",
     "output_type": "stream",
     "text": [
      "\n",
      "Debug Statistics - Epoch 253, Batch 0\n",
      "Generator Loss: 6.7161\n",
      "Discriminator Loss: 0.0618\n",
      "\n",
      "Color Distribution Analysis:\n",
      "Real Images - RGB Mean: [0.38959262 0.41450208 0.41420117]\n",
      "Fake Images - RGB Mean: [0.36471826 0.3487776  0.34338915]\n",
      "Real Images - Alpha Mean: 0.38320085\n",
      "Fake Images - Alpha Mean: 0.38533884\n"
     ]
    },
    {
     "name": "stderr",
     "output_type": "stream",
     "text": [
      "Epoch 254/300: 100%|██████████| 8/8 [00:06<00:00,  1.33it/s, D_loss=0.0900, G_loss=6.3806, D(x)=0.9190, D(G(z))=0.0039] \n",
      "Epoch 255/300:  12%|█▎        | 1/8 [00:01<00:07,  1.00s/it, D_loss=0.0329, G_loss=4.8433, D(x)=0.9820, D(G(z))=0.0124]"
     ]
    },
    {
     "name": "stdout",
     "output_type": "stream",
     "text": [
      "\n",
      "Debug Statistics - Epoch 254, Batch 0\n",
      "Generator Loss: 4.8433\n",
      "Discriminator Loss: 0.0329\n",
      "\n",
      "Color Distribution Analysis:\n",
      "Real Images - RGB Mean: [0.37699032 0.40039122 0.40212053]\n",
      "Fake Images - RGB Mean: [0.3457641 0.3821145 0.3989106]\n",
      "Real Images - Alpha Mean: 0.3729499\n",
      "Fake Images - Alpha Mean: 0.33924454\n"
     ]
    },
    {
     "name": "stderr",
     "output_type": "stream",
     "text": [
      "Epoch 255/300: 100%|██████████| 8/8 [00:05<00:00,  1.46it/s, D_loss=0.0334, G_loss=6.5920, D(x)=0.9844, D(G(z))=0.0019]\n",
      "Epoch 256/300:  12%|█▎        | 1/8 [00:01<00:07,  1.02s/it, D_loss=0.1944, G_loss=5.5806, D(x)=0.8789, D(G(z))=0.0047]"
     ]
    },
    {
     "name": "stdout",
     "output_type": "stream",
     "text": [
      "\n",
      "Debug Statistics - Epoch 255, Batch 0\n",
      "Generator Loss: 5.5806\n",
      "Discriminator Loss: 0.1944\n",
      "\n",
      "Color Distribution Analysis:\n",
      "Real Images - RGB Mean: [0.38409266 0.41369504 0.41006735]\n",
      "Fake Images - RGB Mean: [0.34772515 0.40971127 0.3957307 ]\n",
      "Real Images - Alpha Mean: 0.3801\n",
      "Fake Images - Alpha Mean: 0.31725052\n"
     ]
    },
    {
     "name": "stderr",
     "output_type": "stream",
     "text": [
      "Epoch 256/300: 100%|██████████| 8/8 [00:05<00:00,  1.54it/s, D_loss=0.0569, G_loss=5.3867, D(x)=0.9790, D(G(z))=0.0057]\n",
      "Epoch 257/300:  12%|█▎        | 1/8 [00:02<00:15,  2.21s/it, D_loss=0.1026, G_loss=6.2479, D(x)=0.9480, D(G(z))=0.0025]"
     ]
    },
    {
     "name": "stdout",
     "output_type": "stream",
     "text": [
      "\n",
      "Debug Statistics - Epoch 256, Batch 0\n",
      "Generator Loss: 6.2479\n",
      "Discriminator Loss: 0.1026\n",
      "\n",
      "Color Distribution Analysis:\n",
      "Real Images - RGB Mean: [0.39543524 0.42278218 0.42181143]\n",
      "Fake Images - RGB Mean: [0.35189137 0.38166082 0.3783029 ]\n",
      "Real Images - Alpha Mean: 0.3925083\n",
      "Fake Images - Alpha Mean: 0.36191753\n"
     ]
    },
    {
     "name": "stderr",
     "output_type": "stream",
     "text": [
      "Epoch 257/300: 100%|██████████| 8/8 [00:06<00:00,  1.30it/s, D_loss=0.9393, G_loss=15.9865, D(x)=0.5914, D(G(z))=0.0000]\n",
      "Epoch 258/300:  12%|█▎        | 1/8 [00:00<00:06,  1.03it/s, D_loss=0.4351, G_loss=11.9424, D(x)=0.7950, D(G(z))=0.0043]"
     ]
    },
    {
     "name": "stdout",
     "output_type": "stream",
     "text": [
      "\n",
      "Debug Statistics - Epoch 257, Batch 0\n",
      "Generator Loss: 11.9424\n",
      "Discriminator Loss: 0.4351\n",
      "\n",
      "Color Distribution Analysis:\n",
      "Real Images - RGB Mean: [0.38305676 0.4085384  0.40845382]\n",
      "Fake Images - RGB Mean: [0.3492305  0.39976367 0.38446078]\n",
      "Real Images - Alpha Mean: 0.3761439\n",
      "Fake Images - Alpha Mean: 0.35846296\n"
     ]
    },
    {
     "name": "stderr",
     "output_type": "stream",
     "text": [
      "Epoch 258/300: 100%|██████████| 8/8 [00:04<00:00,  1.64it/s, D_loss=0.0382, G_loss=5.7010, D(x)=0.9876, D(G(z))=0.0048] \n",
      "Epoch 259/300:  12%|█▎        | 1/8 [00:00<00:06,  1.05it/s, D_loss=0.0281, G_loss=6.0388, D(x)=0.9812, D(G(z))=0.0036]"
     ]
    },
    {
     "name": "stdout",
     "output_type": "stream",
     "text": [
      "\n",
      "Debug Statistics - Epoch 258, Batch 0\n",
      "Generator Loss: 6.0388\n",
      "Discriminator Loss: 0.0281\n",
      "\n",
      "Color Distribution Analysis:\n",
      "Real Images - RGB Mean: [0.380918   0.40973657 0.40672597]\n",
      "Fake Images - RGB Mean: [0.29540098 0.3922042  0.48745206]\n",
      "Real Images - Alpha Mean: 0.374887\n",
      "Fake Images - Alpha Mean: 0.40811887\n"
     ]
    },
    {
     "name": "stderr",
     "output_type": "stream",
     "text": [
      "Epoch 259/300: 100%|██████████| 8/8 [00:04<00:00,  1.60it/s, D_loss=0.1451, G_loss=4.7474, D(x)=0.9313, D(G(z))=0.0138]\n",
      "Epoch 260/300:  12%|█▎        | 1/8 [00:01<00:07,  1.12s/it, D_loss=0.1349, G_loss=6.8296, D(x)=0.9850, D(G(z))=0.0019]"
     ]
    },
    {
     "name": "stdout",
     "output_type": "stream",
     "text": [
      "\n",
      "Debug Statistics - Epoch 259, Batch 0\n",
      "Generator Loss: 6.8296\n",
      "Discriminator Loss: 0.1349\n",
      "\n",
      "Color Distribution Analysis:\n",
      "Real Images - RGB Mean: [0.3786069  0.40290958 0.4021671 ]\n",
      "Fake Images - RGB Mean: [0.3358005  0.35728374 0.39355838]\n",
      "Real Images - Alpha Mean: 0.3726649\n",
      "Fake Images - Alpha Mean: 0.33012474\n"
     ]
    },
    {
     "name": "stderr",
     "output_type": "stream",
     "text": [
      "Epoch 260/300: 100%|██████████| 8/8 [00:05<00:00,  1.40it/s, D_loss=0.0497, G_loss=5.6976, D(x)=0.9624, D(G(z))=0.0054]\n",
      "Epoch 261/300:  12%|█▎        | 1/8 [00:01<00:09,  1.32s/it, D_loss=0.0384, G_loss=5.2675, D(x)=0.9854, D(G(z))=0.0073]"
     ]
    },
    {
     "name": "stdout",
     "output_type": "stream",
     "text": [
      "\n",
      "Debug Statistics - Epoch 260, Batch 0\n",
      "Generator Loss: 5.2675\n",
      "Discriminator Loss: 0.0384\n",
      "\n",
      "Color Distribution Analysis:\n",
      "Real Images - RGB Mean: [0.37466073 0.40919906 0.40495926]\n",
      "Fake Images - RGB Mean: [0.35757428 0.40406635 0.3920443 ]\n",
      "Real Images - Alpha Mean: 0.37072432\n",
      "Fake Images - Alpha Mean: 0.31734514\n"
     ]
    },
    {
     "name": "stderr",
     "output_type": "stream",
     "text": [
      "Epoch 261/300: 100%|██████████| 8/8 [00:05<00:00,  1.42it/s, D_loss=0.1686, G_loss=6.5946, D(x)=0.8810, D(G(z))=0.0084]\n",
      "Epoch 262/300:  12%|█▎        | 1/8 [00:00<00:06,  1.07it/s, D_loss=0.1262, G_loss=6.5506, D(x)=0.9855, D(G(z))=0.0030]"
     ]
    },
    {
     "name": "stdout",
     "output_type": "stream",
     "text": [
      "\n",
      "Debug Statistics - Epoch 261, Batch 0\n",
      "Generator Loss: 6.5506\n",
      "Discriminator Loss: 0.1262\n",
      "\n",
      "Color Distribution Analysis:\n",
      "Real Images - RGB Mean: [0.3790403  0.40659708 0.40667942]\n",
      "Fake Images - RGB Mean: [0.36160716 0.41099182 0.41399482]\n",
      "Real Images - Alpha Mean: 0.37312385\n",
      "Fake Images - Alpha Mean: 0.3432765\n"
     ]
    },
    {
     "name": "stderr",
     "output_type": "stream",
     "text": [
      "Epoch 262/300: 100%|██████████| 8/8 [00:04<00:00,  1.68it/s, D_loss=0.0270, G_loss=6.1570, D(x)=0.9852, D(G(z))=0.0040]\n",
      "Epoch 263/300:  12%|█▎        | 1/8 [00:00<00:06,  1.04it/s, D_loss=0.0105, G_loss=8.7818, D(x)=0.9901, D(G(z))=0.0004]"
     ]
    },
    {
     "name": "stdout",
     "output_type": "stream",
     "text": [
      "\n",
      "Debug Statistics - Epoch 262, Batch 0\n",
      "Generator Loss: 8.7818\n",
      "Discriminator Loss: 0.0105\n",
      "\n",
      "Color Distribution Analysis:\n",
      "Real Images - RGB Mean: [0.37746435 0.40393254 0.40186852]\n",
      "Fake Images - RGB Mean: [0.37507093 0.44136035 0.39324433]\n",
      "Real Images - Alpha Mean: 0.375303\n",
      "Fake Images - Alpha Mean: 0.35090175\n"
     ]
    },
    {
     "name": "stderr",
     "output_type": "stream",
     "text": [
      "Epoch 263/300: 100%|██████████| 8/8 [00:05<00:00,  1.42it/s, D_loss=0.0712, G_loss=6.3462, D(x)=0.9864, D(G(z))=0.0022]\n",
      "Epoch 264/300:  12%|█▎        | 1/8 [00:01<00:08,  1.17s/it, D_loss=0.0297, G_loss=6.3172, D(x)=0.9830, D(G(z))=0.0023]"
     ]
    },
    {
     "name": "stdout",
     "output_type": "stream",
     "text": [
      "\n",
      "Debug Statistics - Epoch 263, Batch 0\n",
      "Generator Loss: 6.3172\n",
      "Discriminator Loss: 0.0297\n",
      "\n",
      "Color Distribution Analysis:\n",
      "Real Images - RGB Mean: [0.38625395 0.4148654  0.41864443]\n",
      "Fake Images - RGB Mean: [0.35847756 0.3964275  0.39328116]\n",
      "Real Images - Alpha Mean: 0.38274956\n",
      "Fake Images - Alpha Mean: 0.37115592\n"
     ]
    },
    {
     "name": "stderr",
     "output_type": "stream",
     "text": [
      "Epoch 264/300: 100%|██████████| 8/8 [00:05<00:00,  1.46it/s, D_loss=0.3042, G_loss=2.6317, D(x)=0.7585, D(G(z))=0.0969]\n",
      "Epoch 265/300:  12%|█▎        | 1/8 [00:01<00:08,  1.23s/it, D_loss=0.2508, G_loss=10.9007, D(x)=0.9996, D(G(z))=0.0001]"
     ]
    },
    {
     "name": "stdout",
     "output_type": "stream",
     "text": [
      "\n",
      "Debug Statistics - Epoch 264, Batch 0\n",
      "Generator Loss: 10.9007\n",
      "Discriminator Loss: 0.2508\n",
      "\n",
      "Color Distribution Analysis:\n",
      "Real Images - RGB Mean: [0.37293622 0.40212497 0.40187448]\n",
      "Fake Images - RGB Mean: [0.37722203 0.3911916  0.40452287]\n",
      "Real Images - Alpha Mean: 0.3693628\n",
      "Fake Images - Alpha Mean: 0.39100555\n"
     ]
    },
    {
     "name": "stderr",
     "output_type": "stream",
     "text": [
      "Epoch 265/300: 100%|██████████| 8/8 [00:05<00:00,  1.43it/s, D_loss=0.0219, G_loss=10.0532, D(x)=0.9797, D(G(z))=0.0003]\n",
      "Epoch 266/300:  12%|█▎        | 1/8 [00:01<00:08,  1.16s/it, D_loss=0.0907, G_loss=6.1426, D(x)=0.9407, D(G(z))=0.0036]"
     ]
    },
    {
     "name": "stdout",
     "output_type": "stream",
     "text": [
      "\n",
      "Debug Statistics - Epoch 265, Batch 0\n",
      "Generator Loss: 6.1426\n",
      "Discriminator Loss: 0.0907\n",
      "\n",
      "Color Distribution Analysis:\n",
      "Real Images - RGB Mean: [0.38582405 0.41593802 0.41480568]\n",
      "Fake Images - RGB Mean: [0.38088012 0.41061527 0.38603902]\n",
      "Real Images - Alpha Mean: 0.37890798\n",
      "Fake Images - Alpha Mean: 0.36169153\n"
     ]
    },
    {
     "name": "stderr",
     "output_type": "stream",
     "text": [
      "Epoch 266/300: 100%|██████████| 8/8 [00:05<00:00,  1.59it/s, D_loss=0.0200, G_loss=6.7195, D(x)=0.9872, D(G(z))=0.0019]\n",
      "Epoch 267/300:  12%|█▎        | 1/8 [00:00<00:06,  1.05it/s, D_loss=0.0275, G_loss=5.7403, D(x)=0.9914, D(G(z))=0.0047]"
     ]
    },
    {
     "name": "stdout",
     "output_type": "stream",
     "text": [
      "\n",
      "Debug Statistics - Epoch 266, Batch 0\n",
      "Generator Loss: 5.7403\n",
      "Discriminator Loss: 0.0275\n",
      "\n",
      "Color Distribution Analysis:\n",
      "Real Images - RGB Mean: [0.38359746 0.40859511 0.4088631 ]\n",
      "Fake Images - RGB Mean: [0.35169363 0.4198212  0.38686797]\n",
      "Real Images - Alpha Mean: 0.3809339\n",
      "Fake Images - Alpha Mean: 0.32729787\n"
     ]
    },
    {
     "name": "stderr",
     "output_type": "stream",
     "text": [
      "Epoch 267/300: 100%|██████████| 8/8 [00:04<00:00,  1.67it/s, D_loss=0.0459, G_loss=5.8181, D(x)=0.9624, D(G(z))=0.0040]\n",
      "Epoch 268/300:  12%|█▎        | 1/8 [00:00<00:06,  1.05it/s, D_loss=0.0434, G_loss=4.9414, D(x)=0.9704, D(G(z))=0.0087]"
     ]
    },
    {
     "name": "stdout",
     "output_type": "stream",
     "text": [
      "\n",
      "Debug Statistics - Epoch 267, Batch 0\n",
      "Generator Loss: 4.9414\n",
      "Discriminator Loss: 0.0434\n",
      "\n",
      "Color Distribution Analysis:\n",
      "Real Images - RGB Mean: [0.3825278  0.4059491  0.40548378]\n",
      "Fake Images - RGB Mean: [0.35641795 0.3917289  0.35056362]\n",
      "Real Images - Alpha Mean: 0.37910974\n",
      "Fake Images - Alpha Mean: 0.34316695\n"
     ]
    },
    {
     "name": "stderr",
     "output_type": "stream",
     "text": [
      "Epoch 268/300: 100%|██████████| 8/8 [00:04<00:00,  1.67it/s, D_loss=0.1572, G_loss=4.9258, D(x)=0.8603, D(G(z))=0.0122]\n",
      "Epoch 269/300:  12%|█▎        | 1/8 [00:01<00:07,  1.14s/it, D_loss=0.0603, G_loss=5.7188, D(x)=0.9988, D(G(z))=0.0048]"
     ]
    },
    {
     "name": "stdout",
     "output_type": "stream",
     "text": [
      "\n",
      "Debug Statistics - Epoch 268, Batch 0\n",
      "Generator Loss: 5.7188\n",
      "Discriminator Loss: 0.0603\n",
      "\n",
      "Color Distribution Analysis:\n",
      "Real Images - RGB Mean: [0.38915914 0.41432565 0.41473702]\n",
      "Fake Images - RGB Mean: [0.34654695 0.35189012 0.34267062]\n",
      "Real Images - Alpha Mean: 0.3845072\n",
      "Fake Images - Alpha Mean: 0.3263321\n"
     ]
    },
    {
     "name": "stderr",
     "output_type": "stream",
     "text": [
      "Epoch 269/300: 100%|██████████| 8/8 [00:05<00:00,  1.60it/s, D_loss=0.3408, G_loss=1.1209, D(x)=0.7330, D(G(z))=0.3908]\n",
      "Epoch 270/300:  12%|█▎        | 1/8 [00:00<00:06,  1.01it/s, D_loss=1.8372, G_loss=23.6069, D(x)=0.9995, D(G(z))=0.0000]"
     ]
    },
    {
     "name": "stdout",
     "output_type": "stream",
     "text": [
      "\n",
      "Debug Statistics - Epoch 269, Batch 0\n",
      "Generator Loss: 23.6069\n",
      "Discriminator Loss: 1.8372\n",
      "\n",
      "Color Distribution Analysis:\n",
      "Real Images - RGB Mean: [0.3868338  0.41951978 0.41635093]\n",
      "Fake Images - RGB Mean: [0.31631947 0.33777678 0.34495664]\n",
      "Real Images - Alpha Mean: 0.38299114\n",
      "Fake Images - Alpha Mean: 0.32225698\n"
     ]
    },
    {
     "name": "stderr",
     "output_type": "stream",
     "text": [
      "Epoch 270/300: 100%|██████████| 8/8 [00:04<00:00,  1.65it/s, D_loss=0.2222, G_loss=12.0878, D(x)=0.9424, D(G(z))=0.0000]\n",
      "Epoch 271/300:  12%|█▎        | 1/8 [00:01<00:09,  1.31s/it, D_loss=0.1242, G_loss=9.4785, D(x)=0.9360, D(G(z))=0.0004]"
     ]
    },
    {
     "name": "stdout",
     "output_type": "stream",
     "text": [
      "\n",
      "Debug Statistics - Epoch 270, Batch 0\n",
      "Generator Loss: 9.4785\n",
      "Discriminator Loss: 0.1242\n",
      "\n",
      "Color Distribution Analysis:\n",
      "Real Images - RGB Mean: [0.3705459  0.39792892 0.3947341 ]\n",
      "Fake Images - RGB Mean: [0.39978042 0.37817338 0.39467236]\n",
      "Real Images - Alpha Mean: 0.36673197\n",
      "Fake Images - Alpha Mean: 0.36813942\n"
     ]
    },
    {
     "name": "stderr",
     "output_type": "stream",
     "text": [
      "Epoch 271/300: 100%|██████████| 8/8 [00:04<00:00,  1.61it/s, D_loss=0.1454, G_loss=4.6706, D(x)=0.8823, D(G(z))=0.0188] \n",
      "Epoch 272/300:  12%|█▎        | 1/8 [00:00<00:06,  1.02it/s, D_loss=0.1260, G_loss=9.3618, D(x)=0.9963, D(G(z))=0.0002]"
     ]
    },
    {
     "name": "stdout",
     "output_type": "stream",
     "text": [
      "\n",
      "Debug Statistics - Epoch 271, Batch 0\n",
      "Generator Loss: 9.3618\n",
      "Discriminator Loss: 0.1260\n",
      "\n",
      "Color Distribution Analysis:\n",
      "Real Images - RGB Mean: [0.37390095 0.40296945 0.39743754]\n",
      "Fake Images - RGB Mean: [0.29652873 0.34964764 0.43309954]\n",
      "Real Images - Alpha Mean: 0.3692202\n",
      "Fake Images - Alpha Mean: 0.3468813\n"
     ]
    },
    {
     "name": "stderr",
     "output_type": "stream",
     "text": [
      "Epoch 272/300: 100%|██████████| 8/8 [00:04<00:00,  1.69it/s, D_loss=0.1165, G_loss=6.5469, D(x)=0.9056, D(G(z))=0.0033]\n",
      "Epoch 273/300:  12%|█▎        | 1/8 [00:00<00:06,  1.09it/s, D_loss=0.0888, G_loss=7.3504, D(x)=0.9926, D(G(z))=0.0011]"
     ]
    },
    {
     "name": "stdout",
     "output_type": "stream",
     "text": [
      "\n",
      "Debug Statistics - Epoch 272, Batch 0\n",
      "Generator Loss: 7.3504\n",
      "Discriminator Loss: 0.0888\n",
      "\n",
      "Color Distribution Analysis:\n",
      "Real Images - RGB Mean: [0.37830305 0.40656424 0.40297467]\n",
      "Fake Images - RGB Mean: [0.34833625 0.35366008 0.37730408]\n",
      "Real Images - Alpha Mean: 0.37068477\n",
      "Fake Images - Alpha Mean: 0.31012717\n"
     ]
    },
    {
     "name": "stderr",
     "output_type": "stream",
     "text": [
      "Epoch 273/300: 100%|██████████| 8/8 [00:05<00:00,  1.55it/s, D_loss=0.0096, G_loss=13.4771, D(x)=0.9905, D(G(z))=0.0000]\n",
      "Epoch 274/300:  12%|█▎        | 1/8 [00:01<00:10,  1.52s/it, D_loss=0.0011, G_loss=8.9339, D(x)=0.9992, D(G(z))=0.0004]"
     ]
    },
    {
     "name": "stdout",
     "output_type": "stream",
     "text": [
      "\n",
      "Debug Statistics - Epoch 273, Batch 0\n",
      "Generator Loss: 8.9339\n",
      "Discriminator Loss: 0.0011\n",
      "\n",
      "Color Distribution Analysis:\n",
      "Real Images - RGB Mean: [0.390754   0.42043084 0.41714883]\n",
      "Fake Images - RGB Mean: [0.35590068 0.33244365 0.34970713]\n",
      "Real Images - Alpha Mean: 0.38536268\n",
      "Fake Images - Alpha Mean: 0.35229275\n"
     ]
    },
    {
     "name": "stderr",
     "output_type": "stream",
     "text": [
      "Epoch 274/300: 100%|██████████| 8/8 [00:05<00:00,  1.35it/s, D_loss=0.2282, G_loss=3.3437, D(x)=0.8132, D(G(z))=0.0571]\n",
      "Epoch 275/300:  12%|█▎        | 1/8 [00:01<00:12,  1.75s/it, D_loss=0.3423, G_loss=10.2324, D(x)=0.9994, D(G(z))=0.0004]"
     ]
    },
    {
     "name": "stdout",
     "output_type": "stream",
     "text": [
      "\n",
      "Debug Statistics - Epoch 274, Batch 0\n",
      "Generator Loss: 10.2324\n",
      "Discriminator Loss: 0.3423\n",
      "\n",
      "Color Distribution Analysis:\n",
      "Real Images - RGB Mean: [0.37685078 0.40073165 0.3982481 ]\n",
      "Fake Images - RGB Mean: [0.34982425 0.38497648 0.38580388]\n",
      "Real Images - Alpha Mean: 0.36891496\n",
      "Fake Images - Alpha Mean: 0.39766434\n"
     ]
    },
    {
     "name": "stderr",
     "output_type": "stream",
     "text": [
      "Epoch 275/300: 100%|██████████| 8/8 [00:06<00:00,  1.26it/s, D_loss=0.0127, G_loss=5.7301, D(x)=0.9981, D(G(z))=0.0049] \n",
      "Epoch 276/300:  12%|█▎        | 1/8 [00:01<00:10,  1.48s/it, D_loss=0.0466, G_loss=5.2227, D(x)=0.9952, D(G(z))=0.0070]"
     ]
    },
    {
     "name": "stdout",
     "output_type": "stream",
     "text": [
      "\n",
      "Debug Statistics - Epoch 275, Batch 0\n",
      "Generator Loss: 5.2227\n",
      "Discriminator Loss: 0.0466\n",
      "\n",
      "Color Distribution Analysis:\n",
      "Real Images - RGB Mean: [0.3891912  0.41621977 0.41569996]\n",
      "Fake Images - RGB Mean: [0.38070738 0.41997287 0.3965035 ]\n",
      "Real Images - Alpha Mean: 0.38449007\n",
      "Fake Images - Alpha Mean: 0.35883024\n"
     ]
    },
    {
     "name": "stderr",
     "output_type": "stream",
     "text": [
      "Epoch 276/300: 100%|██████████| 8/8 [00:05<00:00,  1.35it/s, D_loss=0.0273, G_loss=5.8680, D(x)=0.9806, D(G(z))=0.0037]\n",
      "Epoch 277/300:  12%|█▎        | 1/8 [00:01<00:08,  1.20s/it, D_loss=0.0380, G_loss=5.3937, D(x)=0.9921, D(G(z))=0.0055]"
     ]
    },
    {
     "name": "stdout",
     "output_type": "stream",
     "text": [
      "\n",
      "Debug Statistics - Epoch 276, Batch 0\n",
      "Generator Loss: 5.3937\n",
      "Discriminator Loss: 0.0380\n",
      "\n",
      "Color Distribution Analysis:\n",
      "Real Images - RGB Mean: [0.36913815 0.3958876  0.3920734 ]\n",
      "Fake Images - RGB Mean: [0.3637982  0.40496567 0.39215323]\n",
      "Real Images - Alpha Mean: 0.36831683\n",
      "Fake Images - Alpha Mean: 0.36442885\n"
     ]
    },
    {
     "name": "stderr",
     "output_type": "stream",
     "text": [
      "Epoch 277/300: 100%|██████████| 8/8 [00:05<00:00,  1.54it/s, D_loss=0.7496, G_loss=15.8261, D(x)=0.6116, D(G(z))=0.0000]\n",
      "Epoch 278/300:  12%|█▎        | 1/8 [00:01<00:08,  1.26s/it, D_loss=0.2095, G_loss=12.4539, D(x)=0.8660, D(G(z))=0.0000]"
     ]
    },
    {
     "name": "stdout",
     "output_type": "stream",
     "text": [
      "\n",
      "Debug Statistics - Epoch 277, Batch 0\n",
      "Generator Loss: 12.4539\n",
      "Discriminator Loss: 0.2095\n",
      "\n",
      "Color Distribution Analysis:\n",
      "Real Images - RGB Mean: [0.38710797 0.41659683 0.41542915]\n",
      "Fake Images - RGB Mean: [0.34569564 0.37568724 0.39180315]\n",
      "Real Images - Alpha Mean: 0.3804263\n",
      "Fake Images - Alpha Mean: 0.35031784\n"
     ]
    },
    {
     "name": "stderr",
     "output_type": "stream",
     "text": [
      "Epoch 278/300: 100%|██████████| 8/8 [00:05<00:00,  1.37it/s, D_loss=0.1418, G_loss=5.9074, D(x)=0.8981, D(G(z))=0.0041] \n",
      "Epoch 279/300:  12%|█▎        | 1/8 [00:01<00:08,  1.14s/it, D_loss=0.1248, G_loss=9.6836, D(x)=0.9947, D(G(z))=0.0001]"
     ]
    },
    {
     "name": "stdout",
     "output_type": "stream",
     "text": [
      "\n",
      "Debug Statistics - Epoch 278, Batch 0\n",
      "Generator Loss: 9.6836\n",
      "Discriminator Loss: 0.1248\n",
      "\n",
      "Color Distribution Analysis:\n",
      "Real Images - RGB Mean: [0.39184612 0.41861564 0.41762462]\n",
      "Fake Images - RGB Mean: [0.34866986 0.39768898 0.39605173]\n",
      "Real Images - Alpha Mean: 0.38705757\n",
      "Fake Images - Alpha Mean: 0.34799978\n"
     ]
    },
    {
     "name": "stderr",
     "output_type": "stream",
     "text": [
      "Epoch 279/300: 100%|██████████| 8/8 [00:05<00:00,  1.50it/s, D_loss=4.2568, G_loss=2.9422, D(x)=0.0311, D(G(z))=0.0850] \n",
      "Epoch 280/300:  12%|█▎        | 1/8 [00:01<00:07,  1.04s/it, D_loss=0.2828, G_loss=4.6459, D(x)=0.9976, D(G(z))=0.1404]"
     ]
    },
    {
     "name": "stdout",
     "output_type": "stream",
     "text": [
      "\n",
      "Debug Statistics - Epoch 279, Batch 0\n",
      "Generator Loss: 4.6459\n",
      "Discriminator Loss: 0.2828\n",
      "\n",
      "Color Distribution Analysis:\n",
      "Real Images - RGB Mean: [0.380008  0.4050143 0.4004339]\n",
      "Fake Images - RGB Mean: [0.33083197 0.39026216 0.37197018]\n",
      "Real Images - Alpha Mean: 0.37480816\n",
      "Fake Images - Alpha Mean: 0.33644658\n"
     ]
    },
    {
     "name": "stderr",
     "output_type": "stream",
     "text": [
      "Epoch 280/300: 100%|██████████| 8/8 [00:05<00:00,  1.54it/s, D_loss=0.0843, G_loss=6.8419, D(x)=0.9985, D(G(z))=0.0016] \n",
      "Epoch 281/300:  12%|█▎        | 1/8 [00:01<00:08,  1.28s/it, D_loss=0.0141, G_loss=7.2765, D(x)=0.9954, D(G(z))=0.0010]"
     ]
    },
    {
     "name": "stdout",
     "output_type": "stream",
     "text": [
      "\n",
      "Debug Statistics - Epoch 280, Batch 0\n",
      "Generator Loss: 7.2765\n",
      "Discriminator Loss: 0.0141\n",
      "\n",
      "Color Distribution Analysis:\n",
      "Real Images - RGB Mean: [0.38689977 0.41820976 0.41311863]\n",
      "Fake Images - RGB Mean: [0.3973868  0.35708585 0.3370668 ]\n",
      "Real Images - Alpha Mean: 0.381859\n",
      "Fake Images - Alpha Mean: 0.3614695\n"
     ]
    },
    {
     "name": "stderr",
     "output_type": "stream",
     "text": [
      "Epoch 281/300: 100%|██████████| 8/8 [00:05<00:00,  1.35it/s, D_loss=0.2172, G_loss=16.2915, D(x)=0.9047, D(G(z))=0.0000]\n",
      "Epoch 282/300:  12%|█▎        | 1/8 [00:01<00:08,  1.28s/it, D_loss=0.2595, G_loss=13.8071, D(x)=0.8032, D(G(z))=0.0000]"
     ]
    },
    {
     "name": "stdout",
     "output_type": "stream",
     "text": [
      "\n",
      "Debug Statistics - Epoch 281, Batch 0\n",
      "Generator Loss: 13.8071\n",
      "Discriminator Loss: 0.2595\n",
      "\n",
      "Color Distribution Analysis:\n",
      "Real Images - RGB Mean: [0.37847054 0.4065961  0.40295723]\n",
      "Fake Images - RGB Mean: [0.38800874 0.36470145 0.35978678]\n",
      "Real Images - Alpha Mean: 0.37238362\n",
      "Fake Images - Alpha Mean: 0.29497203\n"
     ]
    },
    {
     "name": "stderr",
     "output_type": "stream",
     "text": [
      "Epoch 282/300: 100%|██████████| 8/8 [00:05<00:00,  1.42it/s, D_loss=0.0523, G_loss=5.8239, D(x)=0.9961, D(G(z))=0.0050] \n",
      "Epoch 283/300:  12%|█▎        | 1/8 [00:01<00:07,  1.11s/it, D_loss=0.0996, G_loss=6.3620, D(x)=0.9751, D(G(z))=0.0026]"
     ]
    },
    {
     "name": "stdout",
     "output_type": "stream",
     "text": [
      "\n",
      "Debug Statistics - Epoch 282, Batch 0\n",
      "Generator Loss: 6.3620\n",
      "Discriminator Loss: 0.0996\n",
      "\n",
      "Color Distribution Analysis:\n",
      "Real Images - RGB Mean: [0.38335672 0.40733516 0.4028047 ]\n",
      "Fake Images - RGB Mean: [0.34454954 0.35074538 0.41485405]\n",
      "Real Images - Alpha Mean: 0.3767148\n",
      "Fake Images - Alpha Mean: 0.35461122\n"
     ]
    },
    {
     "name": "stderr",
     "output_type": "stream",
     "text": [
      "Epoch 283/300: 100%|██████████| 8/8 [00:05<00:00,  1.40it/s, D_loss=0.0649, G_loss=6.2462, D(x)=0.9976, D(G(z))=0.0033] \n",
      "Epoch 284/300:  12%|█▎        | 1/8 [00:01<00:09,  1.34s/it, D_loss=0.0590, G_loss=6.4702, D(x)=0.9975, D(G(z))=0.0025]"
     ]
    },
    {
     "name": "stdout",
     "output_type": "stream",
     "text": [
      "\n",
      "Debug Statistics - Epoch 283, Batch 0\n",
      "Generator Loss: 6.4702\n",
      "Discriminator Loss: 0.0590\n",
      "\n",
      "Color Distribution Analysis:\n",
      "Real Images - RGB Mean: [0.373677   0.3998418  0.39792785]\n",
      "Fake Images - RGB Mean: [0.33421546 0.3585726  0.41091344]\n",
      "Real Images - Alpha Mean: 0.37090763\n",
      "Fake Images - Alpha Mean: 0.35143664\n"
     ]
    },
    {
     "name": "stderr",
     "output_type": "stream",
     "text": [
      "Epoch 284/300: 100%|██████████| 8/8 [00:05<00:00,  1.40it/s, D_loss=0.1304, G_loss=4.7207, D(x)=0.9431, D(G(z))=0.0104]\n",
      "Epoch 285/300:  12%|█▎        | 1/8 [00:01<00:09,  1.29s/it, D_loss=0.0541, G_loss=5.4875, D(x)=0.9726, D(G(z))=0.0061]"
     ]
    },
    {
     "name": "stdout",
     "output_type": "stream",
     "text": [
      "\n",
      "Debug Statistics - Epoch 284, Batch 0\n",
      "Generator Loss: 5.4875\n",
      "Discriminator Loss: 0.0541\n",
      "\n",
      "Color Distribution Analysis:\n",
      "Real Images - RGB Mean: [0.3754768  0.4046972  0.40318403]\n",
      "Fake Images - RGB Mean: [0.36883017 0.38712955 0.39502427]\n",
      "Real Images - Alpha Mean: 0.3697305\n",
      "Fake Images - Alpha Mean: 0.36511093\n"
     ]
    },
    {
     "name": "stderr",
     "output_type": "stream",
     "text": [
      "Epoch 285/300: 100%|██████████| 8/8 [00:05<00:00,  1.43it/s, D_loss=0.0858, G_loss=8.6562, D(x)=0.9843, D(G(z))=0.0005] \n",
      "Epoch 286/300:  12%|█▎        | 1/8 [00:01<00:08,  1.22s/it, D_loss=0.0087, G_loss=9.7064, D(x)=0.9918, D(G(z))=0.0004]"
     ]
    },
    {
     "name": "stdout",
     "output_type": "stream",
     "text": [
      "\n",
      "Debug Statistics - Epoch 285, Batch 0\n",
      "Generator Loss: 9.7064\n",
      "Discriminator Loss: 0.0087\n",
      "\n",
      "Color Distribution Analysis:\n",
      "Real Images - RGB Mean: [0.3938671  0.4204999  0.41584164]\n",
      "Fake Images - RGB Mean: [0.3692417  0.39355794 0.37665942]\n",
      "Real Images - Alpha Mean: 0.38725042\n",
      "Fake Images - Alpha Mean: 0.36682853\n"
     ]
    },
    {
     "name": "stderr",
     "output_type": "stream",
     "text": [
      "Epoch 286/300: 100%|██████████| 8/8 [00:05<00:00,  1.43it/s, D_loss=0.0475, G_loss=6.5299, D(x)=0.9907, D(G(z))=0.0022]\n",
      "Epoch 287/300:  12%|█▎        | 1/8 [00:01<00:07,  1.05s/it, D_loss=0.0602, G_loss=5.8596, D(x)=0.9557, D(G(z))=0.0042]"
     ]
    },
    {
     "name": "stdout",
     "output_type": "stream",
     "text": [
      "\n",
      "Debug Statistics - Epoch 286, Batch 0\n",
      "Generator Loss: 5.8596\n",
      "Discriminator Loss: 0.0602\n",
      "\n",
      "Color Distribution Analysis:\n",
      "Real Images - RGB Mean: [0.37352586 0.40046936 0.39978385]\n",
      "Fake Images - RGB Mean: [0.36874172 0.4005385  0.38759154]\n",
      "Real Images - Alpha Mean: 0.3670798\n",
      "Fake Images - Alpha Mean: 0.3657022\n"
     ]
    },
    {
     "name": "stderr",
     "output_type": "stream",
     "text": [
      "Epoch 287/300: 100%|██████████| 8/8 [00:05<00:00,  1.51it/s, D_loss=0.0803, G_loss=6.4258, D(x)=0.9844, D(G(z))=0.0022]\n",
      "Epoch 288/300:  12%|█▎        | 1/8 [00:01<00:07,  1.07s/it, D_loss=0.0525, G_loss=6.1820, D(x)=0.9644, D(G(z))=0.0030]"
     ]
    },
    {
     "name": "stdout",
     "output_type": "stream",
     "text": [
      "\n",
      "Debug Statistics - Epoch 287, Batch 0\n",
      "Generator Loss: 6.1820\n",
      "Discriminator Loss: 0.0525\n",
      "\n",
      "Color Distribution Analysis:\n",
      "Real Images - RGB Mean: [0.37916827 0.40149876 0.4011283 ]\n",
      "Fake Images - RGB Mean: [0.3827641  0.39956975 0.3968087 ]\n",
      "Real Images - Alpha Mean: 0.37246287\n",
      "Fake Images - Alpha Mean: 0.34938625\n"
     ]
    },
    {
     "name": "stderr",
     "output_type": "stream",
     "text": [
      "Epoch 288/300: 100%|██████████| 8/8 [00:05<00:00,  1.48it/s, D_loss=0.3440, G_loss=2.7829, D(x)=0.7279, D(G(z))=0.1050]\n",
      "Epoch 289/300:  12%|█▎        | 1/8 [00:01<00:07,  1.06s/it, D_loss=0.4127, G_loss=11.5727, D(x)=0.9985, D(G(z))=0.0001]"
     ]
    },
    {
     "name": "stdout",
     "output_type": "stream",
     "text": [
      "\n",
      "Debug Statistics - Epoch 288, Batch 0\n",
      "Generator Loss: 11.5727\n",
      "Discriminator Loss: 0.4127\n",
      "\n",
      "Color Distribution Analysis:\n",
      "Real Images - RGB Mean: [0.38076213 0.41123536 0.40728426]\n",
      "Fake Images - RGB Mean: [0.37671334 0.40564007 0.37544325]\n",
      "Real Images - Alpha Mean: 0.37534294\n",
      "Fake Images - Alpha Mean: 0.3578095\n"
     ]
    },
    {
     "name": "stderr",
     "output_type": "stream",
     "text": [
      "Epoch 289/300: 100%|██████████| 8/8 [00:05<00:00,  1.55it/s, D_loss=0.0246, G_loss=6.3403, D(x)=0.9831, D(G(z))=0.0052] \n",
      "Epoch 290/300:  12%|█▎        | 1/8 [00:01<00:08,  1.23s/it, D_loss=0.0255, G_loss=5.3190, D(x)=0.9972, D(G(z))=0.0089]"
     ]
    },
    {
     "name": "stdout",
     "output_type": "stream",
     "text": [
      "\n",
      "Debug Statistics - Epoch 289, Batch 0\n",
      "Generator Loss: 5.3190\n",
      "Discriminator Loss: 0.0255\n",
      "\n",
      "Color Distribution Analysis:\n",
      "Real Images - RGB Mean: [0.3704989  0.3960245  0.39536348]\n",
      "Fake Images - RGB Mean: [0.39993575 0.37906766 0.40164536]\n",
      "Real Images - Alpha Mean: 0.36629868\n",
      "Fake Images - Alpha Mean: 0.36739975\n"
     ]
    },
    {
     "name": "stderr",
     "output_type": "stream",
     "text": [
      "Epoch 290/300: 100%|██████████| 8/8 [00:05<00:00,  1.40it/s, D_loss=0.0407, G_loss=5.6099, D(x)=0.9842, D(G(z))=0.0050]\n",
      "Epoch 291/300:  12%|█▎        | 1/8 [00:01<00:08,  1.17s/it, D_loss=0.0829, G_loss=5.5044, D(x)=0.9532, D(G(z))=0.0054]"
     ]
    },
    {
     "name": "stdout",
     "output_type": "stream",
     "text": [
      "\n",
      "Debug Statistics - Epoch 290, Batch 0\n",
      "Generator Loss: 5.5044\n",
      "Discriminator Loss: 0.0829\n",
      "\n",
      "Color Distribution Analysis:\n",
      "Real Images - RGB Mean: [0.38831908 0.41358343 0.41395405]\n",
      "Fake Images - RGB Mean: [0.36262    0.36018848 0.37642553]\n",
      "Real Images - Alpha Mean: 0.38221604\n",
      "Fake Images - Alpha Mean: 0.35213083\n"
     ]
    },
    {
     "name": "stderr",
     "output_type": "stream",
     "text": [
      "Epoch 291/300: 100%|██████████| 8/8 [00:05<00:00,  1.53it/s, D_loss=0.0176, G_loss=5.8786, D(x)=0.9949, D(G(z))=0.0036]\n",
      "Epoch 292/300:  12%|█▎        | 1/8 [00:01<00:07,  1.06s/it, D_loss=0.0214, G_loss=5.9120, D(x)=0.9948, D(G(z))=0.0037]"
     ]
    },
    {
     "name": "stdout",
     "output_type": "stream",
     "text": [
      "\n",
      "Debug Statistics - Epoch 291, Batch 0\n",
      "Generator Loss: 5.9120\n",
      "Discriminator Loss: 0.0214\n",
      "\n",
      "Color Distribution Analysis:\n",
      "Real Images - RGB Mean: [0.38623446 0.41442183 0.4123958 ]\n",
      "Fake Images - RGB Mean: [0.34597582 0.3706182  0.37377217]\n",
      "Real Images - Alpha Mean: 0.3823596\n",
      "Fake Images - Alpha Mean: 0.32190865\n"
     ]
    },
    {
     "name": "stderr",
     "output_type": "stream",
     "text": [
      "Epoch 292/300: 100%|██████████| 8/8 [00:05<00:00,  1.39it/s, D_loss=0.0866, G_loss=6.3084, D(x)=0.9244, D(G(z))=0.0036]\n",
      "Epoch 293/300:  12%|█▎        | 1/8 [00:01<00:09,  1.31s/it, D_loss=0.0269, G_loss=5.9358, D(x)=0.9962, D(G(z))=0.0035]"
     ]
    },
    {
     "name": "stdout",
     "output_type": "stream",
     "text": [
      "\n",
      "Debug Statistics - Epoch 292, Batch 0\n",
      "Generator Loss: 5.9358\n",
      "Discriminator Loss: 0.0269\n",
      "\n",
      "Color Distribution Analysis:\n",
      "Real Images - RGB Mean: [0.3796077  0.41164863 0.40750086]\n",
      "Fake Images - RGB Mean: [0.32804406 0.33071664 0.3403352 ]\n",
      "Real Images - Alpha Mean: 0.37521857\n",
      "Fake Images - Alpha Mean: 0.32139128\n"
     ]
    },
    {
     "name": "stderr",
     "output_type": "stream",
     "text": [
      "Epoch 293/300: 100%|██████████| 8/8 [00:05<00:00,  1.43it/s, D_loss=0.0288, G_loss=7.1092, D(x)=0.9938, D(G(z))=0.0018]\n",
      "Epoch 294/300:  12%|█▎        | 1/8 [00:01<00:08,  1.26s/it, D_loss=0.0499, G_loss=6.7625, D(x)=0.9898, D(G(z))=0.0019]"
     ]
    },
    {
     "name": "stdout",
     "output_type": "stream",
     "text": [
      "\n",
      "Debug Statistics - Epoch 293, Batch 0\n",
      "Generator Loss: 6.7625\n",
      "Discriminator Loss: 0.0499\n",
      "\n",
      "Color Distribution Analysis:\n",
      "Real Images - RGB Mean: [0.38095534 0.4078802  0.4079558 ]\n",
      "Fake Images - RGB Mean: [0.33333805 0.34108147 0.34364435]\n",
      "Real Images - Alpha Mean: 0.37631932\n",
      "Fake Images - Alpha Mean: 0.3028809\n"
     ]
    },
    {
     "name": "stderr",
     "output_type": "stream",
     "text": [
      "Epoch 294/300: 100%|██████████| 8/8 [00:05<00:00,  1.41it/s, D_loss=0.0114, G_loss=7.6169, D(x)=0.9906, D(G(z))=0.0008]\n",
      "Epoch 295/300:  12%|█▎        | 1/8 [00:01<00:07,  1.02s/it, D_loss=0.0403, G_loss=7.0276, D(x)=0.9621, D(G(z))=0.0014]"
     ]
    },
    {
     "name": "stdout",
     "output_type": "stream",
     "text": [
      "\n",
      "Debug Statistics - Epoch 294, Batch 0\n",
      "Generator Loss: 7.0276\n",
      "Discriminator Loss: 0.0403\n",
      "\n",
      "Color Distribution Analysis:\n",
      "Real Images - RGB Mean: [0.38530833 0.41434184 0.4112663 ]\n",
      "Fake Images - RGB Mean: [0.2984725  0.31726745 0.36519757]\n",
      "Real Images - Alpha Mean: 0.37507224\n",
      "Fake Images - Alpha Mean: 0.3022524\n"
     ]
    },
    {
     "name": "stderr",
     "output_type": "stream",
     "text": [
      "Epoch 295/300: 100%|██████████| 8/8 [00:05<00:00,  1.52it/s, D_loss=0.0186, G_loss=5.6995, D(x)=0.9897, D(G(z))=0.0052] \n",
      "Epoch 296/300:  12%|█▎        | 1/8 [00:01<00:07,  1.08s/it, D_loss=0.0053, G_loss=6.6937, D(x)=0.9971, D(G(z))=0.0018]"
     ]
    },
    {
     "name": "stdout",
     "output_type": "stream",
     "text": [
      "\n",
      "Debug Statistics - Epoch 295, Batch 0\n",
      "Generator Loss: 6.6937\n",
      "Discriminator Loss: 0.0053\n",
      "\n",
      "Color Distribution Analysis:\n",
      "Real Images - RGB Mean: [0.3831088  0.40664208 0.41012388]\n",
      "Fake Images - RGB Mean: [0.27590278 0.32173035 0.33316252]\n",
      "Real Images - Alpha Mean: 0.38233072\n",
      "Fake Images - Alpha Mean: 0.26618278\n"
     ]
    },
    {
     "name": "stderr",
     "output_type": "stream",
     "text": [
      "Epoch 296/300: 100%|██████████| 8/8 [00:05<00:00,  1.59it/s, D_loss=0.0181, G_loss=6.1617, D(x)=0.9884, D(G(z))=0.0028]\n",
      "Epoch 297/300:  12%|█▎        | 1/8 [00:01<00:07,  1.06s/it, D_loss=0.0194, G_loss=6.2802, D(x)=0.9840, D(G(z))=0.0024]"
     ]
    },
    {
     "name": "stdout",
     "output_type": "stream",
     "text": [
      "\n",
      "Debug Statistics - Epoch 296, Batch 0\n",
      "Generator Loss: 6.2802\n",
      "Discriminator Loss: 0.0194\n",
      "\n",
      "Color Distribution Analysis:\n",
      "Real Images - RGB Mean: [0.36665338 0.39138564 0.38823   ]\n",
      "Fake Images - RGB Mean: [0.24193475 0.28855374 0.32975763]\n",
      "Real Images - Alpha Mean: 0.36438394\n",
      "Fake Images - Alpha Mean: 0.25488603\n"
     ]
    },
    {
     "name": "stderr",
     "output_type": "stream",
     "text": [
      "Epoch 297/300: 100%|██████████| 8/8 [00:05<00:00,  1.59it/s, D_loss=0.0208, G_loss=5.7299, D(x)=0.9855, D(G(z))=0.0041]\n",
      "Epoch 298/300:  12%|█▎        | 1/8 [00:01<00:07,  1.11s/it, D_loss=0.0060, G_loss=6.5009, D(x)=0.9968, D(G(z))=0.0020]"
     ]
    },
    {
     "name": "stdout",
     "output_type": "stream",
     "text": [
      "\n",
      "Debug Statistics - Epoch 297, Batch 0\n",
      "Generator Loss: 6.5009\n",
      "Discriminator Loss: 0.0060\n",
      "\n",
      "Color Distribution Analysis:\n",
      "Real Images - RGB Mean: [0.3769543  0.40214872 0.40064934]\n",
      "Fake Images - RGB Mean: [0.2573837  0.27124527 0.30549854]\n",
      "Real Images - Alpha Mean: 0.37414455\n",
      "Fake Images - Alpha Mean: 0.27875018\n"
     ]
    },
    {
     "name": "stderr",
     "output_type": "stream",
     "text": [
      "Epoch 298/300: 100%|██████████| 8/8 [00:05<00:00,  1.56it/s, D_loss=0.0418, G_loss=5.9798, D(x)=0.9790, D(G(z))=0.0032]\n",
      "Epoch 299/300:  12%|█▎        | 1/8 [00:01<00:07,  1.06s/it, D_loss=0.0158, G_loss=6.5660, D(x)=0.9929, D(G(z))=0.0020]"
     ]
    },
    {
     "name": "stdout",
     "output_type": "stream",
     "text": [
      "\n",
      "Debug Statistics - Epoch 298, Batch 0\n",
      "Generator Loss: 6.5660\n",
      "Discriminator Loss: 0.0158\n",
      "\n",
      "Color Distribution Analysis:\n",
      "Real Images - RGB Mean: [0.38888207 0.42055634 0.421064  ]\n",
      "Fake Images - RGB Mean: [0.26086283 0.2630006  0.29811937]\n",
      "Real Images - Alpha Mean: 0.38263085\n",
      "Fake Images - Alpha Mean: 0.27459267\n"
     ]
    },
    {
     "name": "stderr",
     "output_type": "stream",
     "text": [
      "Epoch 299/300: 100%|██████████| 8/8 [00:05<00:00,  1.59it/s, D_loss=0.0699, G_loss=5.3885, D(x)=0.9550, D(G(z))=0.0055]\n",
      "Epoch 300/300:  12%|█▎        | 1/8 [00:01<00:08,  1.23s/it, D_loss=0.0613, G_loss=6.8206, D(x)=0.9807, D(G(z))=0.0014]"
     ]
    },
    {
     "name": "stdout",
     "output_type": "stream",
     "text": [
      "\n",
      "Debug Statistics - Epoch 299, Batch 0\n",
      "Generator Loss: 6.8206\n",
      "Discriminator Loss: 0.0613\n",
      "\n",
      "Color Distribution Analysis:\n",
      "Real Images - RGB Mean: [0.37961176 0.4070766  0.40307838]\n",
      "Fake Images - RGB Mean: [0.27607533 0.30252233 0.3085478 ]\n",
      "Real Images - Alpha Mean: 0.37327343\n",
      "Fake Images - Alpha Mean: 0.30207556\n"
     ]
    },
    {
     "name": "stderr",
     "output_type": "stream",
     "text": [
      "Epoch 300/300: 100%|██████████| 8/8 [00:05<00:00,  1.36it/s, D_loss=0.0318, G_loss=5.6572, D(x)=0.9832, D(G(z))=0.0043]\n"
     ]
    }
   ],
   "source": [
    "# 1. First, get your data ready using your previous code\n",
    "images = load_pixel_art_dataset('./dataset')  # Your function that loads the images\n",
    "unique_colors = analyze_colors(images)        # Your function that gets unique colors\n",
    "\n",
    "# 2. Create the dataloader using our PixelArtDataset class\n",
    "dataloader, dataset = create_dataloader(\n",
    "    images=images,\n",
    "    color_palette=unique_colors,\n",
    "    batch_size=64*4,\n",
    "    num_workers=4\n",
    ")\n",
    "\n",
    "# 3. Set up device\n",
    "device = torch.device('cuda' if torch.cuda.is_available() else 'cpu')\n",
    "\n",
    "# 4. Now train the GAN\n",
    "generator, discriminator, g_losses, d_losses = train_pixel_art_gan(\n",
    "    dataloader=dataloader,\n",
    "    device=device\n",
    ")"
   ]
  },
  {
   "cell_type": "code",
   "execution_count": 22,
   "id": "548394c4",
   "metadata": {},
   "outputs": [],
   "source": [
    "import torch\n",
    "import torch.nn as nn\n",
    "import torchvision.utils as vutils\n",
    "import matplotlib.pyplot as plt\n",
    "import numpy as np\n",
    "\n",
    "def quantize_to_palette(images, color_palette):\n",
    "    \"\"\"\n",
    "    Quantize generated images to the nearest colors in the palette\n",
    "    \n",
    "    Args:\n",
    "        images: tensor of shape (N, 4, H, W) with values in [0, 1]\n",
    "        color_palette: tensor of shape (num_colors, 4) with values in [0, 1]\n",
    "    \"\"\"\n",
    "    # Reshape images to (N*H*W, 4)\n",
    "    flat_images = images.permute(0, 2, 3, 1).reshape(-1, 4)\n",
    "    \n",
    "    # Calculate distances to each palette color\n",
    "    distances = torch.cdist(flat_images, color_palette)\n",
    "    \n",
    "    # Find nearest palette color\n",
    "    nearest_color_idx = torch.argmin(distances, dim=1)\n",
    "    quantized_colors = color_palette[nearest_color_idx]\n",
    "    \n",
    "    # Reshape back to original shape\n",
    "    return quantized_colors.reshape(images.shape[0], images.shape[2], images.shape[3], 4).permute(0, 3, 1, 2)\n",
    "\n",
    "def generate_pixel_art(generator, num_images=16, latent_dim=100, color_palette=None, device='cuda'):\n",
    "    \"\"\"\n",
    "    Generate pixel art images using the trained generator\n",
    "    \n",
    "    Args:\n",
    "        generator: trained generator model\n",
    "        num_images: number of images to generate\n",
    "        latent_dim: size of latent vector\n",
    "        color_palette: optional color palette for quantization\n",
    "        device: device to run generation on\n",
    "    \"\"\"\n",
    "    # Set generator to eval mode\n",
    "    generator.eval()\n",
    "    \n",
    "    # Generate random noise\n",
    "    noise = torch.randn(num_images, latent_dim, device=device)\n",
    "    \n",
    "    with torch.no_grad():\n",
    "        # Generate images\n",
    "        fake_images = generator(noise)\n",
    "        \n",
    "        # Quantize to color palette if provided\n",
    "        if color_palette is not None:\n",
    "            color_palette = color_palette.to(device)\n",
    "            fake_images = quantize_to_palette(fake_images, color_palette)\n",
    "    \n",
    "    return fake_images\n",
    "\n",
    "def save_pixel_art(images, output_dir='generated_pixel_art', filename='grid.png', nrow=4):\n",
    "    \"\"\"\n",
    "    Save generated pixel art images in a dedicated folder\n",
    "    \n",
    "    Args:\n",
    "        images: tensor of images to save\n",
    "        output_dir: directory to save images in\n",
    "        filename: output filename for the grid\n",
    "        nrow: number of images per row in the grid\n",
    "    \"\"\"\n",
    "    # Create output directory if it doesn't exist\n",
    "    os.makedirs(output_dir, exist_ok=True)\n",
    "    \n",
    "    # Create and save grid of images\n",
    "    grid = vutils.make_grid(images.cpu(), nrow=nrow, padding=2, normalize=True)\n",
    "    plt.figure(figsize=(10, 10))\n",
    "    plt.axis('off')\n",
    "    plt.imshow(np.transpose(grid, (1, 2, 0)))\n",
    "    plt.savefig(os.path.join(output_dir, filename), bbox_inches='tight', pad_inches=0)\n",
    "    plt.close()\n",
    "    \n",
    "    # Create a subdirectory for individual images\n",
    "    individual_dir = os.path.join(output_dir, 'individual')\n",
    "    os.makedirs(individual_dir, exist_ok=True)\n",
    "    \n",
    "    # Save individual images\n",
    "    for i, image in enumerate(images):\n",
    "        individual_grid = vutils.make_grid(image.cpu(), normalize=True)\n",
    "        plt.figure(figsize=(5, 5))\n",
    "        plt.axis('off')\n",
    "        plt.imshow(np.transpose(individual_grid, (1, 2, 0)))\n",
    "        plt.savefig(os.path.join(individual_dir, f'pixel_art_{i:03d}.png'), bbox_inches='tight', pad_inches=0)\n",
    "        plt.close()\n",
    "\n",
    "# Usage example:\n",
    "from datetime import datetime\n",
    "\n",
    "def generate_samples(generator, color_palette, num_images=16, device='cuda'):\n",
    "    \"\"\"\n",
    "    Generate and save pixel art samples\n",
    "    \"\"\"\n",
    "    # Get current date and time\n",
    "    timestamp = datetime.now().strftime('%Y%m%d_%H%M%S')\n",
    "    output_dir = f'generated_pixel_art_{timestamp}'\n",
    "    \n",
    "    # Generate images\n",
    "    generated_images = generate_pixel_art(\n",
    "        generator=generator,\n",
    "        num_images=num_images,\n",
    "        color_palette=color_palette,\n",
    "        device=device\n",
    "    )\n",
    "    \n",
    "    # Save the results with timestamp\n",
    "    save_pixel_art(\n",
    "        images=generated_images,\n",
    "        output_dir=output_dir,\n",
    "        filename=f'grid_{timestamp}.png'\n",
    "    )\n",
    "    \n",
    "    return generated_images"
   ]
  },
  {
   "cell_type": "code",
   "execution_count": 30,
   "id": "dc4b3ce4",
   "metadata": {},
   "outputs": [],
   "source": [
    "device = torch.device('cuda' if torch.cuda.is_available() else 'cpu')\n",
    "\n",
    "# Convert color palette to tensor if it isn't already\n",
    "if isinstance(unique_colors, np.ndarray):\n",
    "    color_palette = torch.from_numpy(unique_colors).float() / 255.0\n",
    "else:\n",
    "    color_palette = unique_colors\n",
    "\n",
    "# Generate samples\n",
    "generated_images = generate_samples(\n",
    "    generator=generator,  # Your trained generator\n",
    "    color_palette=color_palette,\n",
    "    num_images=16,  # Number of images to generate\n",
    "    device=device\n",
    ")"
   ]
  },
  {
   "cell_type": "code",
   "execution_count": 57,
   "id": "7e00d930",
   "metadata": {},
   "outputs": [],
   "source": [
    "# Load trained generator model from checkpoint\n",
    "checkpoint_path = 'pixel_art_gan_checkpoint_epoch_159.pth'\n",
    "generator = PixelArtGenerator(latent_dim=100, num_channels=4).to(device)\n",
    "checkpoint = torch.load(checkpoint_path, map_location=device)\n",
    "generator.load_state_dict(checkpoint['generator_state_dict'])\n",
    "generator.eval()\n",
    "\n",
    "# Generate samples using the updated generator\n",
    "generated_images = generate_samples(\n",
    "    generator=generator,  \n",
    "    color_palette=color_palette,\n",
    "    num_images=16,  \n",
    "    device=device\n",
    ")\n"
   ]
  },
  {
   "cell_type": "markdown",
   "id": "aae5f762",
   "metadata": {},
   "source": [
    "# Version 1\n",
    "### Model structure is over simplified and hence it cannot capture the color and linings"
   ]
  },
  {
   "cell_type": "code",
   "execution_count": 62,
   "id": "ebadf099",
   "metadata": {},
   "outputs": [
    {
     "data": {
      "image/png": "[encoded data removed]",
      "text/plain": [
       "<Figure size 640x480 with 1 Axes>"
      ]
     },
     "metadata": {},
     "output_type": "display_data"
    }
   ],
   "source": [
    "import matplotlib.pyplot as plt\n",
    "import matplotlib.image as mpimg\n",
    "\n",
    "# Load the image\n",
    "image = mpimg.imread('./generated_pixel_art_20250130_143519/grid_20250130_143519.png')\n",
    "\n",
    "# Display the image\n",
    "plt.imshow(image)\n",
    "plt.axis('off')  # Turn off axis numbers\n",
    "plt.title('Pixel Art Image')\n",
    "plt.show()"
   ]
  },
  {
   "cell_type": "markdown",
   "id": "dcc820a1",
   "metadata": {},
   "source": [
    "# Version 2\n",
    "###  Increases the model complexity. Manages to learn the patterns of emoji but not so good other wise."
   ]
  },
  {
   "cell_type": "code",
   "execution_count": 63,
   "id": "05ed36d4",
   "metadata": {},
   "outputs": [
    {
     "data": {
      "image/png": "[encoded data removed]",
      "text/plain": [
       "<Figure size 640x480 with 1 Axes>"
      ]
     },
     "metadata": {},
     "output_type": "display_data"
    }
   ],
   "source": [
    "import matplotlib.pyplot as plt\n",
    "import matplotlib.image as mpimg\n",
    "\n",
    "# Load the image\n",
    "image = mpimg.imread('./generated_pixel_art_20250130_172936/grid_20250130_172936.png')\n",
    "\n",
    "# Display the image\n",
    "plt.imshow(image)\n",
    "plt.axis('off')  # Turn off axis numbers\n",
    "plt.title('Pixel Art Image')\n",
    "plt.show()"
   ]
  },
  {
   "cell_type": "markdown",
   "id": "ff49a2ff",
   "metadata": {},
   "source": [
    "# Version 3\n",
    "###  Tuned the learning rate and scheudler. Learns better though no perfect. It will take more experiments for a good generator."
   ]
  },
  {
   "cell_type": "code",
   "execution_count": 64,
   "id": "21c7deef",
   "metadata": {},
   "outputs": [
    {
     "data": {
      "image/png": "[encoded data removed]",
      "text/plain": [
       "<Figure size 640x480 with 1 Axes>"
      ]
     },
     "metadata": {},
     "output_type": "display_data"
    }
   ],
   "source": [
    "import matplotlib.pyplot as plt\n",
    "import matplotlib.image as mpimg\n",
    "\n",
    "# Load the image\n",
    "image = mpimg.imread('./generated_pixel_art_20250130_163307/grid_20250130_163307.png')\n",
    "\n",
    "# Display the image\n",
    "plt.imshow(image)\n",
    "plt.axis('off')  # Turn off axis numbers\n",
    "plt.title('Pixel Art Image')\n",
    "plt.show()"
   ]
  },
  {
   "cell_type": "markdown",
   "id": "e3e4deb7",
   "metadata": {},
   "source": [
    "# Conclusion\n",
    "## Overall a fun experiment done in a day~ I can try probably try some pretrained models like PixelGAN , or Conditional GANs for future development of the project."
   ]
  },
  {
   "cell_type": "code",
   "execution_count": null,
   "id": "daaa5c45",
   "metadata": {},
   "outputs": [],
   "source": []
  },
  {
   "cell_type": "code",
   "execution_count": null,
   "id": "16fa382d",
   "metadata": {},
   "outputs": [],
   "source": []
  },
  {
   "cell_type": "code",
   "execution_count": null,
   "id": "1c8d9265",
   "metadata": {},
   "outputs": [],
   "source": []
  },
  {
   "cell_type": "code",
   "execution_count": null,
   "id": "f816f3d7",
   "metadata": {},
   "outputs": [],
   "source": []
  },
  {
   "cell_type": "code",
   "execution_count": null,
   "id": "c5271e53",
   "metadata": {},
   "outputs": [],
   "source": []
  },
  {
   "cell_type": "code",
   "execution_count": null,
   "id": "2957e55d",
   "metadata": {},
   "outputs": [],
   "source": []
  },
  {
   "cell_type": "code",
   "execution_count": null,
   "id": "3ff6eeb1",
   "metadata": {},
   "outputs": [],
   "source": []
  },
  {
   "cell_type": "code",
   "execution_count": null,
   "id": "68360fc5",
   "metadata": {},
   "outputs": [],
   "source": []
  },
  {
   "cell_type": "code",
   "execution_count": null,
   "id": "47667f66",
   "metadata": {},
   "outputs": [],
   "source": []
  },
  {
   "cell_type": "code",
   "execution_count": null,
   "id": "9335352f",
   "metadata": {},
   "outputs": [],
   "source": []
  },
  {
   "cell_type": "code",
   "execution_count": null,
   "id": "400a1731",
   "metadata": {},
   "outputs": [],
   "source": []
  },
  {
   "cell_type": "code",
   "execution_count": null,
   "id": "347c148f",
   "metadata": {},
   "outputs": [],
   "source": []
  },
  {
   "cell_type": "code",
   "execution_count": null,
   "id": "d1e39ce6",
   "metadata": {},
   "outputs": [],
   "source": []
  },
  {
   "cell_type": "code",
   "execution_count": null,
   "id": "e37f44c1",
   "metadata": {},
   "outputs": [],
   "source": []
  }
 ],
 "metadata": {
  "kernelspec": {
   "display_name": "Python 3 (ipykernel)",
   "language": "python",
   "name": "python3"
  },
  "language_info": {
   "codemirror_mode": {
    "name": "ipython",
    "version": 3
   },
   "file_extension": ".py",
   "mimetype": "text/x-python",
   "name": "python",
   "nbconvert_exporter": "python",
   "pygments_lexer": "ipython3",
   "version": "3.8.18"
  }
 },
 "nbformat": 4,
 "nbformat_minor": 5
}
